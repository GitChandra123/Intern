{
 "cells": [
  {
   "cell_type": "markdown",
   "metadata": {},
   "source": [
    "# This is a web scrapping project which states that to go to the specified url and fetch the necessary information."
   ]
  },
  {
   "cell_type": "markdown",
   "metadata": {},
   "source": [
    "1. Write a python program to display all the header tags from ‘en.wikipedia.org/wiki/Main_Page’."
   ]
  },
  {
   "cell_type": "code",
   "execution_count": 52,
   "metadata": {},
   "outputs": [],
   "source": [
    "import numpy as np\n",
    "import pandas as pd\n",
    "from bs4 import BeautifulSoup as sp\n",
    "import requests as rq\n",
    "import re"
   ]
  },
  {
   "cell_type": "code",
   "execution_count": 53,
   "metadata": {},
   "outputs": [],
   "source": [
    "def read_site(site_url):\n",
    "    site_page = rq.get(site_url)\n",
    "    \n",
    "    # Parse the site content with html.parser\n",
    "    site_soup = sp(site_page.content, 'html.parser') \n",
    "    #print (site_soup.prettify())\n",
    "    \n",
    "    return (site_soup)"
   ]
  },
  {
   "cell_type": "code",
   "execution_count": 54,
   "metadata": {},
   "outputs": [],
   "source": [
    "def wiki_func(wiki_soup):\n",
    "    wiki_head = wiki_soup.find_all('span', class_='mw-headline')\n",
    "    \n",
    "    wiki_header_arr = []\n",
    "    for i in wiki_head:\n",
    "        wiki_header_arr.append(i.get_text())\n",
    "    \n",
    "    wiki_df = pd.DataFrame ({})\n",
    "    wiki_df['head'] = wiki_header_arr\n",
    "    \n",
    "    return wiki_df"
   ]
  },
  {
   "cell_type": "code",
   "execution_count": 55,
   "metadata": {},
   "outputs": [],
   "source": [
    "def wiki_scrap(w_url):\n",
    "    wiki_soup = read_site(w_url)\n",
    "\n",
    "    wiki_df = wiki_func(wiki_soup)\n",
    "    print ('\\n\\n')\n",
    "    print (wiki_df)\n",
    "    \n",
    "    return    "
   ]
  },
  {
   "cell_type": "code",
   "execution_count": 56,
   "metadata": {},
   "outputs": [
    {
     "name": "stdout",
     "output_type": "stream",
     "text": [
      "\n",
      "\n",
      "\n",
      "                            head\n",
      "0  From today's featured article\n",
      "1               Did you know ...\n",
      "2                    In the news\n",
      "3                    On this day\n",
      "4       Today's featured picture\n",
      "5       Other areas of Wikipedia\n",
      "6    Wikipedia's sister projects\n",
      "7            Wikipedia languages\n"
     ]
    }
   ],
   "source": [
    "# call wiki_scrap function to get the headers from 'en.wikipedia.org/wiki/Main_Page'\n",
    "wiki_scrap('https://en.wikipedia.org/wiki/Main_Page')"
   ]
  },
  {
   "cell_type": "markdown",
   "metadata": {},
   "source": [
    "2. Write a python program to display IMDB’s Top rated 100 movies’ data (i.e. Name, IMDB rating, Year of\n",
    "release) and save it in form of a CSV file. "
   ]
  },
  {
   "cell_type": "code",
   "execution_count": 57,
   "metadata": {},
   "outputs": [],
   "source": [
    "def imdb_func(imdb_soup):\n",
    "    \n",
    "    i_nm = []\n",
    "    i_yr = []\n",
    "    i_rt = []\n",
    "    imdb_list = imdb_soup.find_all('div', class_='lister-item mode-detail')\n",
    "    \n",
    "    for i in imdb_list:\n",
    "\n",
    "        imdb_name = i.find_all('a')[1].get_text()\n",
    "        i_nm.append(imdb_name)\n",
    "        \n",
    "        imdb_yr_tag = i.find('span', class_=\"lister-item-year text-muted unbold\")\n",
    "        imdb_yr = imdb_yr_tag.get_text()\n",
    "        imdb_yr = re.sub(\"[^\\w]\", \"\", imdb_yr)\n",
    "        i_yr.append(imdb_yr)\n",
    "        \n",
    "        imdb_rate_tag = i.find('span', class_='ipl-rating-star__rating')\n",
    "        imdb_rate = imdb_rate_tag.get_text()\n",
    "        i_rt.append(imdb_rate)\n",
    "\n",
    "    df = pd.DataFrame({})\n",
    "    df['Movie_Name'] = i_nm\n",
    "    df['Movie_Year'] = i_yr\n",
    "    df['Movie_Rating'] = i_rt\n",
    "\n",
    "    return df"
   ]
  },
  {
   "cell_type": "code",
   "execution_count": 58,
   "metadata": {},
   "outputs": [],
   "source": [
    "def imdb_top_100movies(i_url):\n",
    "    imdb_soup = read_site(i_url)    \n",
    "    imdb_df = imdb_func(imdb_soup)\n",
    "    print (imdb_df)\n",
    "    imdb_df.to_csv('imdb_top100movies.csv')\n",
    "    return\n"
   ]
  },
  {
   "cell_type": "code",
   "execution_count": 59,
   "metadata": {},
   "outputs": [
    {
     "name": "stdout",
     "output_type": "stream",
     "text": [
      "                                           Movie_Name Movie_Year Movie_Rating\n",
      "0                            The Shawshank Redemption       1994          9.3\n",
      "1                                       The Godfather       1972          9.2\n",
      "2                              The Godfather: Part II       1974            9\n",
      "3                     Il buono, il brutto, il cattivo       1966          8.8\n",
      "4                                        Pulp Fiction       1994          8.9\n",
      "5                                    Schindler's List       1993          8.9\n",
      "6                                        12 Angry Men       1957            9\n",
      "7                                           Inception       2010          8.8\n",
      "8                     One Flew Over the Cuckoo's Nest       1975          8.7\n",
      "9                                     The Dark Knight       2008            9\n",
      "10     Star Wars: Episode V - The Empire Strikes Back       1980          8.7\n",
      "11      The Lord of the Rings: The Return of the King       2003          8.9\n",
      "12                               Shichinin no samurai       1954          8.6\n",
      "13                                         Fight Club       1999          8.8\n",
      "14                                         Goodfellas       1990          8.7\n",
      "15                                          Star Wars       1977          8.6\n",
      "16                                         Casablanca       1942          8.5\n",
      "17                                     Cidade de Deus       2002          8.6\n",
      "18  The Lord of the Rings: The Fellowship of the Ring       2001          8.8\n",
      "19                       Once Upon a Time in the West       1968          8.5\n",
      "20                                        Rear Window       1954          8.4\n",
      "21                            Raiders of the Lost Ark       1981          8.4\n",
      "22                                             Psycho       1960          8.5\n",
      "23                                 The Usual Suspects       1995          8.5\n",
      "24                           The Silence of the Lambs       1991          8.6\n",
      "25                                              Se7en       1995          8.6\n",
      "26                              It's a Wonderful Life       1946          8.6\n",
      "27                                            Memento       2000          8.4\n",
      "28                                        Toy Story 3       2010          8.3\n",
      "29              The Lord of the Rings: The Two Towers       2002          8.7\n",
      "..                                                ...        ...          ...\n",
      "70                                 Back to the Future       1985          8.5\n",
      "71                                       The Prestige       2006          8.5\n",
      "72                    Monty Python and the Holy Grail       1975          8.2\n",
      "73                                        Raging Bull       1980          8.2\n",
      "74                                    Pan's Labyrinth       2006          8.2\n",
      "75                              Nuovo Cinema Paradiso       1988          8.5\n",
      "76                                Singin' in the Rain       1952          8.3\n",
      "77                                   Some Like It Hot       1959          8.2\n",
      "78                       The Bridge on the River Kwai       1957          8.1\n",
      "79                                           Rashômon       1950          8.2\n",
      "80                        Once Upon a Time in America       1984          8.4\n",
      "81                                     The Green Mile       1999          8.6\n",
      "82                                            Amadeus       1984          8.3\n",
      "83                                      All About Eve       1950          8.2\n",
      "84                                  Full Metal Jacket       1987          8.3\n",
      "85                                Ladri di biciclette       1948          8.3\n",
      "86                                 The Great Dictator       1940          8.4\n",
      "87                              2001: A Space Odyssey       1968          8.3\n",
      "88                                         Braveheart       1995          8.3\n",
      "89                               Inglourious Basterds       2009          8.3\n",
      "90                                      The Apartment       1960          8.3\n",
      "91                                      Der Untergang       2004          8.2\n",
      "92                                                 Up       2009          8.2\n",
      "93                                  The King's Speech       2010            8\n",
      "94                                         Metropolis       1927          8.3\n",
      "95                                          Gladiator       2000          8.5\n",
      "96                                        Gran Torino       2008          8.1\n",
      "97                                          The Sting       1973          8.3\n",
      "98                                         Unforgiven       1992          8.2\n",
      "99                                           Oldeuboi       2003          8.4\n",
      "\n",
      "[100 rows x 3 columns]\n"
     ]
    }
   ],
   "source": [
    "imdb_top_100movies('https://www.imdb.com/list/ls000049962/')"
   ]
  },
  {
   "cell_type": "markdown",
   "metadata": {},
   "source": [
    "3. Write a python program to display IMDB’s Top rated 100 Indian movies’ data (i.e. Name, IMDB rating, Year\n",
    "of release) and save it in form of a CSV file. \n"
   ]
  },
  {
   "cell_type": "code",
   "execution_count": 60,
   "metadata": {},
   "outputs": [],
   "source": [
    "def imdb_top100_imovies(i_url):\n",
    "    imdb_soup = read_site(i_url)    \n",
    "    imdb_df = imdb_func(imdb_soup)\n",
    "    print (imdb_df)\n",
    "    imdb_df.to_csv('imdb_top100_imovies.csv')\n",
    "    return"
   ]
  },
  {
   "cell_type": "code",
   "execution_count": 61,
   "metadata": {},
   "outputs": [
    {
     "name": "stdout",
     "output_type": "stream",
     "text": [
      "                           Movie_Name Movie_Year Movie_Rating\n",
      "0                     Ship of Theseus       2012            8\n",
      "1                              Iruvar       1997          8.5\n",
      "2                     Kaagaz Ke Phool       1959            8\n",
      "3   Lagaan: Once Upon a Time in India       2001          8.1\n",
      "4                     Pather Panchali       1955          8.6\n",
      "5                           Charulata       1964          8.3\n",
      "6                     Rang De Basanti       2006          8.2\n",
      "7                               Dev.D       2009            8\n",
      "8                            3 Idiots       2009          8.4\n",
      "9                              Awaara       1951          7.9\n",
      "10                            Nayakan       1987          8.6\n",
      "11                          Aparajito       1956          8.4\n",
      "12                    Pushpaka Vimana       1987          8.6\n",
      "13                             Pyaasa       1957          8.5\n",
      "14                      Ghatashraddha       1977          7.3\n",
      "15                             Sholay       1975          8.2\n",
      "16                           Aradhana       1969          7.6\n",
      "17              Do Ankhen Barah Haath       1957          8.4\n",
      "18                             Bombay       1995          8.1\n",
      "19                       Neecha Nagar       1946          6.8\n",
      "20                     Do Bigha Zamin       1953          8.4\n",
      "21                          Garm Hava       1974          8.1\n",
      "22                             Piravi       1989          7.7\n",
      "23                      Mughal-E-Azam       1960          8.2\n",
      "24                        Amma Ariyan       1987          7.1\n",
      "25                          Madhumati       1958            8\n",
      "26              Goopy Gyne Bagha Byne       1969          8.8\n",
      "27                 Gangs of Wasseypur       2012          8.2\n",
      "28                              Guide       1965          8.4\n",
      "29                              Satya       1998          8.2\n",
      "..                                ...        ...          ...\n",
      "70                            Chandni       1989          6.8\n",
      "71                    English, August       1994          6.7\n",
      "72                          Celluloid       2013          7.7\n",
      "73                    Sagara Sangamam       1983          8.8\n",
      "74                Munna Bhai M.B.B.S.       2003          8.1\n",
      "75                           Saaransh       1984          8.2\n",
      "76                              Guddi       1971          7.2\n",
      "77                             Vanaja       2006          7.2\n",
      "78                  Vazhakku Enn 18/9       2012          8.3\n",
      "79                          Gangaajal       2003          7.8\n",
      "80                             Angoor       1982          8.3\n",
      "81                               Guru       2007          7.7\n",
      "82                    Andaz Apna Apna       1994          8.2\n",
      "83                             Sangam      I1964          7.5\n",
      "84                     Oka Oori Katha       1977          7.6\n",
      "85                       Bhuvan Shome       1969          7.5\n",
      "86                             Border      I1997          7.9\n",
      "87                          Parineeta       2005          7.2\n",
      "88                             Devdas       1955            8\n",
      "89                          Abohomaan       2009          7.3\n",
      "90                 Kuch Kuch Hota Hai       1998          7.6\n",
      "91                         Pithamagan       2003          8.4\n",
      "92                             Veyyil       2006          7.7\n",
      "93                           Chemmeen       1965          7.8\n",
      "94                 Jaane Bhi Do Yaaro       1983          8.4\n",
      "95                        Apur Sansar       1959          8.5\n",
      "96                        Kanchivaram       2008          8.1\n",
      "97                    Monsoon Wedding       2001          7.3\n",
      "98                              Black       2005          8.2\n",
      "99                            Deewaar       1975          8.1\n",
      "\n",
      "[100 rows x 3 columns]\n"
     ]
    }
   ],
   "source": [
    "imdb_top100_imovies('https://www.imdb.com/list/ls056092300/')"
   ]
  },
  {
   "cell_type": "markdown",
   "metadata": {},
   "source": [
    "4. Write a python program to scrap book name, author name, genre and book review of any 5 books from\n",
    "‘www.bookpage.com’\n"
   ]
  },
  {
   "cell_type": "code",
   "execution_count": 62,
   "metadata": {},
   "outputs": [],
   "source": [
    "def book_func(book_soup):\n",
    "    \n",
    "    book_nm =[]\n",
    "    book_auth = []\n",
    "    book_genr = []\n",
    "    book_rvw = []\n",
    "    \n",
    "    book_list = book_soup.find_all('div', class_='row-fluid article-row')    \n",
    "    arr =book_list[0:5]\n",
    "    \n",
    "    for i in arr:\n",
    "        \n",
    "        book_name = i.find_all('a')[1].get_text()\n",
    "        book_nm.append(book_name)\n",
    "        \n",
    "        book_author =i.find('p', class_='sans bold').get_text()\n",
    "        book_author = re.sub('[^\\w]', '', book_author)\n",
    "        book_auth.append(book_author)\n",
    "        \n",
    "        book_genre = i.find_all('a')[2].get_text() +\"/\"+ i.find_all('a')[3].get_text()\n",
    "        book_genr.append(book_genre)\n",
    "        \n",
    "        book_review = i.find_all('p')[3].get_text()\n",
    "        book_rvw.append(book_review)\n",
    "\n",
    "    df = pd.DataFrame({})\n",
    "    df['Book_Name'] = book_nm\n",
    "    df['Book_Author'] = book_auth\n",
    "    df['Book_Genre'] = book_genr\n",
    "    df['Book_review'] = book_rvw\n",
    "    \n",
    "    return df"
   ]
  },
  {
   "cell_type": "code",
   "execution_count": 63,
   "metadata": {},
   "outputs": [],
   "source": [
    "def book_scrap(b_url):\n",
    "    book_soup = read_site(b_url)    \n",
    "    book_df = book_func(book_soup)\n",
    "    print (book_df)\n",
    "\n",
    "    return"
   ]
  },
  {
   "cell_type": "code",
   "execution_count": 64,
   "metadata": {},
   "outputs": [
    {
     "name": "stdout",
     "output_type": "stream",
     "text": [
      "                               Book_Name  \\\n",
      "0  Share Some Kindness, Bring Some Light   \n",
      "1             A Long Road on a Short Day   \n",
      "2                     A Fort on the Moon   \n",
      "3                   ★ The Little Mermaid   \n",
      "4                            Crow & Snow   \n",
      "\n",
      "                                  Book_Author  \\\n",
      "0                                  AprylStott   \n",
      "1  GaryDSchmidtElizabethStickneyEugeneYelchin   \n",
      "2                       MaggiePounceyLarryDay   \n",
      "3                                JerryPinkney   \n",
      "4                   RobertBroderOlivierTallec   \n",
      "\n",
      "                           Book_Genre  \\\n",
      "0  Children's Picture Book/Children's   \n",
      "1       Children's/Children's Chapter   \n",
      "2  Children's/Children's Picture Book   \n",
      "3  Children's/Children's Picture Book   \n",
      "4  Children's/Children's Picture Book   \n",
      "\n",
      "                                         Book_review  \n",
      "0  Together, Bear and Coco embark on a journey th...  \n",
      "1  Settle in for a wintry journey in A Long Road ...  \n",
      "2  Two brothers, memorably named Fox and Dodge, a...  \n",
      "3  Our most beloved stories seem to grow each tim...  \n",
      "4  A friendly scarecrow named Crow stands alone i...  \n"
     ]
    }
   ],
   "source": [
    "book_scrap('https://bookpage.com/reviews?book_genre=children_s&page=1')"
   ]
  },
  {
   "cell_type": "markdown",
   "metadata": {},
   "source": [
    "5. Write a python program to scrape cricket rankings from ‘www.icc-cricket.com’. You have to scrape:\n",
    "i) Top 10 ODI teams in men’s cricket along with the records for matches, points and rating.\n",
    "ii) Top 10 ODI Batsmen in men along with the records of their team and rating.\n",
    "iii) Top 10 ODI bowlers along with the records of their team and rating.\n"
   ]
  },
  {
   "cell_type": "markdown",
   "metadata": {},
   "source": [
    "i) Top 10 ODI teams in men’s cricket along with the records for matches, points and rating."
   ]
  },
  {
   "cell_type": "code",
   "execution_count": 65,
   "metadata": {},
   "outputs": [],
   "source": [
    "def icc_func(men_odi_soup):\n",
    "    \n",
    "    teams = []\n",
    "    matches = []\n",
    "    points = []\n",
    "    ratings = []\n",
    "    \n",
    "    row_list = men_odi_soup.find_all('tr')    \n",
    "    row_list = row_list[1:11]\n",
    "    for i in row_list:\n",
    "\n",
    "        team = i.find('span', class_='u-hide-phablet').get_text()\n",
    "        teams.append(team)\n",
    "        \n",
    "        match = i.find_all('td')[2].get_text()\n",
    "        matches.append(match)\n",
    "    \n",
    "        point = i.find_all('td')[3].get_text()\n",
    "        points.append(point)\n",
    "        \n",
    "        rating = i.find_all('td')[4].get_text()\n",
    "        rating = re.sub('[^\\w]', '', rating)\n",
    "        ratings.append(rating)\n",
    "        \n",
    "    df = pd.DataFrame({})\n",
    "    df['Teams'] = teams\n",
    "    df['Matchs'] = matches\n",
    "    df['Points'] = points\n",
    "    df['Ratings'] = ratings\n",
    "    \n",
    "    print (df)\n",
    "    return"
   ]
  },
  {
   "cell_type": "code",
   "execution_count": 66,
   "metadata": {},
   "outputs": [],
   "source": [
    "def icc_men_odi(c_url):\n",
    "    men_odi_soup = read_site(c_url)    \n",
    "    icc_func(men_odi_soup)\n",
    "\n",
    "    return"
   ]
  },
  {
   "cell_type": "code",
   "execution_count": 67,
   "metadata": {},
   "outputs": [
    {
     "name": "stdout",
     "output_type": "stream",
     "text": [
      "          Teams Matchs Points Ratings\n",
      "0       England     44  5,405     123\n",
      "1         India     50  5,878     118\n",
      "2   New Zealand     32  3,716     116\n",
      "3     Australia     37  4,110     111\n",
      "4  South Africa     31  3,345     108\n",
      "5      Pakistan     35  3,590     103\n",
      "6    Bangladesh     34  2,989      88\n",
      "7     Sri Lanka     39  3,297      85\n",
      "8   West Indies     43  3,285      76\n",
      "9   Afghanistan     28  1,549      55\n"
     ]
    }
   ],
   "source": [
    "icc_men_odi('https://www.icc-cricket.com/rankings/mens/team-rankings/odi')"
   ]
  },
  {
   "cell_type": "code",
   "execution_count": 68,
   "metadata": {},
   "outputs": [],
   "source": [
    "def icc_bats_func(bats_soup):\n",
    "    \n",
    "    names_arr = []\n",
    "    country_arr = []\n",
    "    ratings_arr = []\n",
    "    \n",
    "    row_list = bats_soup.find_all('tr')\n",
    "    row_list = row_list[2:12]\n",
    "    \n",
    "    for i in row_list:\n",
    "        \n",
    "        player_name = i.find_all('a')[0].get_text()\n",
    "        names_arr.append(player_name)\n",
    "        \n",
    "        country = i.find('span', class_='table-body__logo-text').get_text()\n",
    "        country_arr.append(country)\n",
    "        \n",
    "        rating = i.find('td', class_='table-body__cell rating').get_text()\n",
    "        ratings_arr.append(rating)\n",
    "        \n",
    "        df = pd.DataFrame({})\n",
    "        df['Player_Name'] = names_arr\n",
    "        df['country_arr'] = country_arr\n",
    "        df['ratings_arr'] = ratings_arr\n",
    "\n",
    "    print (df)\n",
    "    return\n",
    "    "
   ]
  },
  {
   "cell_type": "code",
   "execution_count": 69,
   "metadata": {},
   "outputs": [],
   "source": [
    "def icc_batsmen(c_url):\n",
    "    bats_soup = read_site(c_url)    \n",
    "    icc_bats_func(bats_soup)\n",
    "\n",
    "    return"
   ]
  },
  {
   "cell_type": "code",
   "execution_count": 70,
   "metadata": {},
   "outputs": [
    {
     "name": "stdout",
     "output_type": "stream",
     "text": [
      "           Player_Name country_arr ratings_arr\n",
      "0         Rohit Sharma         IND         855\n",
      "1           Babar Azam         PAK         837\n",
      "2          Ross Taylor          NZ         818\n",
      "3  Francois du Plessis          SA         790\n",
      "4      Kane Williamson          NZ         765\n",
      "5          Aaron Finch         AUS         762\n",
      "6         David Warner         AUS         759\n",
      "7      Quinton de Kock          SA         755\n",
      "8       Jonny Bairstow         ENG         754\n",
      "9            Shai Hope          WI         750\n"
     ]
    }
   ],
   "source": [
    "icc_batsmen('https://www.icc-cricket.com/rankings/mens/player-rankings/odi/batting')"
   ]
  },
  {
   "cell_type": "code",
   "execution_count": 71,
   "metadata": {},
   "outputs": [],
   "source": [
    "def icc_bowl_func(bowl_soup):\n",
    "    \n",
    "    name_arr = []\n",
    "    team_arr = []\n",
    "    rating_arr = []\n",
    "    \n",
    "    row_list = bowl_soup.find_all('tr')\n",
    "    row_list = row_list[0:10]\n",
    "    for i in row_list:\n",
    "        \n",
    "        print (i)\n",
    "        break"
   ]
  },
  {
   "cell_type": "code",
   "execution_count": 72,
   "metadata": {},
   "outputs": [],
   "source": [
    "def icc_bowling(c_url):\n",
    "    bats_soup = read_site(c_url)    \n",
    "    icc_bats_func(bats_soup)\n",
    "\n",
    "    return"
   ]
  },
  {
   "cell_type": "code",
   "execution_count": 73,
   "metadata": {},
   "outputs": [
    {
     "name": "stdout",
     "output_type": "stream",
     "text": [
      "        Player_Name country_arr ratings_arr\n",
      "0    Jasprit Bumrah         IND         719\n",
      "1  Mujeeb Ur Rahman         AFG         701\n",
      "2      Chris Woakes         ENG         675\n",
      "3     Kagiso Rabada          SA         665\n",
      "4       Pat Cummins         AUS         659\n",
      "5    Josh Hazlewood         AUS         654\n",
      "6     Mohammad Amir         PAK         647\n",
      "7        Matt Henry          NZ         641\n",
      "8      Jofra Archer         ENG         637\n",
      "9    Mitchell Starc         AUS         637\n"
     ]
    }
   ],
   "source": [
    "icc_bowling('https://www.icc-cricket.com/rankings/mens/player-rankings/odi/bowling')"
   ]
  },
  {
   "cell_type": "markdown",
   "metadata": {},
   "source": [
    "6. Write a python program to scrape cricket rankings from ‘www.icc-cricket.com’. You have to scrape:\n",
    "i) Top 10 ODI teams in women’s cricket along with the records for matches, points and rating.\n",
    "ii) Top 10 women’s ODI players along with the records of their team and rating.\n",
    "iii) Top 10 women’s ODI all-rounder along with the records of their team and rating.\n"
   ]
  },
  {
   "cell_type": "markdown",
   "metadata": {},
   "source": [
    "i) Top 10 ODI teams in women’s cricket along with the records for matches, points and rating"
   ]
  },
  {
   "cell_type": "code",
   "execution_count": 74,
   "metadata": {},
   "outputs": [],
   "source": [
    "def icc_women_team(w_url):\n",
    "    women_odi_soup = read_site(w_url)    \n",
    "    icc_func(women_odi_soup)\n",
    "\n",
    "    return"
   ]
  },
  {
   "cell_type": "code",
   "execution_count": 75,
   "metadata": {},
   "outputs": [
    {
     "name": "stdout",
     "output_type": "stream",
     "text": [
      "          Teams Matchs Points Ratings\n",
      "0     Australia     15  2,436     162\n",
      "1         India     15  1,812     121\n",
      "2       England     14  1,670     119\n",
      "3  South Africa     16  1,713     107\n",
      "4   New Zealand     15  1,384      92\n",
      "5   West Indies     12  1,025      85\n",
      "6      Pakistan     12    927      77\n",
      "7    Bangladesh      5    306      61\n",
      "8     Sri Lanka     11    519      47\n",
      "9       Ireland      2     25      13\n"
     ]
    }
   ],
   "source": [
    "icc_women_team('https://www.icc-cricket.com/rankings/womens/team-rankings/odi')"
   ]
  },
  {
   "cell_type": "markdown",
   "metadata": {},
   "source": [
    "ii) Top 10 women’s ODI players along with the records of their team and rating. "
   ]
  },
  {
   "cell_type": "code",
   "execution_count": null,
   "metadata": {},
   "outputs": [],
   "source": []
  },
  {
   "cell_type": "code",
   "execution_count": null,
   "metadata": {},
   "outputs": [],
   "source": []
  },
  {
   "cell_type": "code",
   "execution_count": null,
   "metadata": {},
   "outputs": [],
   "source": []
  },
  {
   "cell_type": "code",
   "execution_count": null,
   "metadata": {},
   "outputs": [],
   "source": []
  },
  {
   "cell_type": "code",
   "execution_count": null,
   "metadata": {},
   "outputs": [],
   "source": []
  },
  {
   "cell_type": "code",
   "execution_count": null,
   "metadata": {},
   "outputs": [],
   "source": []
  },
  {
   "cell_type": "code",
   "execution_count": null,
   "metadata": {},
   "outputs": [],
   "source": []
  },
  {
   "cell_type": "code",
   "execution_count": null,
   "metadata": {},
   "outputs": [],
   "source": []
  },
  {
   "cell_type": "code",
   "execution_count": null,
   "metadata": {},
   "outputs": [],
   "source": []
  },
  {
   "cell_type": "code",
   "execution_count": null,
   "metadata": {},
   "outputs": [],
   "source": []
  },
  {
   "cell_type": "code",
   "execution_count": null,
   "metadata": {},
   "outputs": [],
   "source": []
  },
  {
   "cell_type": "code",
   "execution_count": null,
   "metadata": {},
   "outputs": [],
   "source": []
  },
  {
   "cell_type": "code",
   "execution_count": null,
   "metadata": {},
   "outputs": [],
   "source": []
  },
  {
   "cell_type": "code",
   "execution_count": null,
   "metadata": {},
   "outputs": [],
   "source": []
  },
  {
   "cell_type": "code",
   "execution_count": null,
   "metadata": {},
   "outputs": [],
   "source": []
  },
  {
   "cell_type": "code",
   "execution_count": null,
   "metadata": {},
   "outputs": [],
   "source": []
  },
  {
   "cell_type": "code",
   "execution_count": null,
   "metadata": {},
   "outputs": [],
   "source": []
  },
  {
   "cell_type": "code",
   "execution_count": null,
   "metadata": {},
   "outputs": [],
   "source": []
  },
  {
   "cell_type": "code",
   "execution_count": null,
   "metadata": {},
   "outputs": [],
   "source": []
  },
  {
   "cell_type": "code",
   "execution_count": null,
   "metadata": {},
   "outputs": [],
   "source": []
  },
  {
   "cell_type": "code",
   "execution_count": null,
   "metadata": {},
   "outputs": [],
   "source": []
  },
  {
   "cell_type": "code",
   "execution_count": null,
   "metadata": {},
   "outputs": [],
   "source": []
  },
  {
   "cell_type": "code",
   "execution_count": null,
   "metadata": {},
   "outputs": [],
   "source": []
  },
  {
   "cell_type": "code",
   "execution_count": null,
   "metadata": {},
   "outputs": [],
   "source": []
  },
  {
   "cell_type": "code",
   "execution_count": null,
   "metadata": {},
   "outputs": [],
   "source": []
  },
  {
   "cell_type": "code",
   "execution_count": null,
   "metadata": {},
   "outputs": [],
   "source": []
  },
  {
   "cell_type": "code",
   "execution_count": null,
   "metadata": {},
   "outputs": [],
   "source": []
  },
  {
   "cell_type": "code",
   "execution_count": null,
   "metadata": {},
   "outputs": [],
   "source": []
  },
  {
   "cell_type": "code",
   "execution_count": null,
   "metadata": {},
   "outputs": [],
   "source": []
  },
  {
   "cell_type": "code",
   "execution_count": null,
   "metadata": {},
   "outputs": [],
   "source": []
  },
  {
   "cell_type": "code",
   "execution_count": null,
   "metadata": {},
   "outputs": [],
   "source": []
  },
  {
   "cell_type": "code",
   "execution_count": null,
   "metadata": {},
   "outputs": [],
   "source": []
  },
  {
   "cell_type": "code",
   "execution_count": null,
   "metadata": {},
   "outputs": [],
   "source": []
  },
  {
   "cell_type": "code",
   "execution_count": null,
   "metadata": {},
   "outputs": [],
   "source": []
  },
  {
   "cell_type": "code",
   "execution_count": null,
   "metadata": {},
   "outputs": [],
   "source": []
  },
  {
   "cell_type": "code",
   "execution_count": null,
   "metadata": {},
   "outputs": [],
   "source": []
  },
  {
   "cell_type": "code",
   "execution_count": null,
   "metadata": {},
   "outputs": [],
   "source": []
  }
 ],
 "metadata": {
  "kernelspec": {
   "display_name": "Python 3",
   "language": "python",
   "name": "python3"
  },
  "language_info": {
   "codemirror_mode": {
    "name": "ipython",
    "version": 3
   },
   "file_extension": ".py",
   "mimetype": "text/x-python",
   "name": "python",
   "nbconvert_exporter": "python",
   "pygments_lexer": "ipython3",
   "version": "3.6.5"
  }
 },
 "nbformat": 4,
 "nbformat_minor": 2
}
