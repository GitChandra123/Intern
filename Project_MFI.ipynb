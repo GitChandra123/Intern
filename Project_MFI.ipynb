{
 "cells": [
  {
   "cell_type": "code",
   "execution_count": 49,
   "metadata": {},
   "outputs": [],
   "source": [
    "# Importing libraries\n",
    "import numpy as np\n",
    "import pandas as pd\n",
    "import matplotlib.pyplot as plt\n",
    "\n",
    "import seaborn as sns\n",
    "from sklearn.preprocessing import LabelEncoder, StandardScaler\n",
    "\n",
    "from sklearn.metrics import accuracy_score, classification_report, confusion_matrix, roc_curve, auc\n",
    "from sklearn.model_selection import cross_val_score\n",
    "from sklearn.model_selection import GridSearchCV\n",
    "\n",
    "\n",
    "from sklearn.model_selection import train_test_split, cross_val_score\n",
    "from sklearn import linear_model\n",
    "import warnings\n",
    "warnings.filterwarnings('ignore')"
   ]
  },
  {
   "cell_type": "markdown",
   "metadata": {},
   "source": [
    "The project says, build a model which can be used to predict in terms of a probability for each \n",
    "loan transaction, whether the customer will be paying back the loaned amount within 5 days of \n",
    "insurance of loan."
   ]
  },
  {
   "cell_type": "markdown",
   "metadata": {},
   "source": [
    "We need to read the dataset"
   ]
  },
  {
   "cell_type": "code",
   "execution_count": 50,
   "metadata": {},
   "outputs": [
    {
     "data": {
      "text/html": [
       "<div>\n",
       "<style scoped>\n",
       "    .dataframe tbody tr th:only-of-type {\n",
       "        vertical-align: middle;\n",
       "    }\n",
       "\n",
       "    .dataframe tbody tr th {\n",
       "        vertical-align: top;\n",
       "    }\n",
       "\n",
       "    .dataframe thead th {\n",
       "        text-align: right;\n",
       "    }\n",
       "</style>\n",
       "<table border=\"1\" class=\"dataframe\">\n",
       "  <thead>\n",
       "    <tr style=\"text-align: right;\">\n",
       "      <th></th>\n",
       "      <th>Unnamed: 0</th>\n",
       "      <th>label</th>\n",
       "      <th>msisdn</th>\n",
       "      <th>aon</th>\n",
       "      <th>daily_decr30</th>\n",
       "      <th>daily_decr90</th>\n",
       "      <th>rental30</th>\n",
       "      <th>rental90</th>\n",
       "      <th>last_rech_date_ma</th>\n",
       "      <th>last_rech_date_da</th>\n",
       "      <th>...</th>\n",
       "      <th>maxamnt_loans30</th>\n",
       "      <th>medianamnt_loans30</th>\n",
       "      <th>cnt_loans90</th>\n",
       "      <th>amnt_loans90</th>\n",
       "      <th>maxamnt_loans90</th>\n",
       "      <th>medianamnt_loans90</th>\n",
       "      <th>payback30</th>\n",
       "      <th>payback90</th>\n",
       "      <th>pcircle</th>\n",
       "      <th>pdate</th>\n",
       "    </tr>\n",
       "  </thead>\n",
       "  <tbody>\n",
       "    <tr>\n",
       "      <th>0</th>\n",
       "      <td>1</td>\n",
       "      <td>0</td>\n",
       "      <td>21408I70789</td>\n",
       "      <td>272.0</td>\n",
       "      <td>3055.050000</td>\n",
       "      <td>3065.150000</td>\n",
       "      <td>220.13</td>\n",
       "      <td>260.13</td>\n",
       "      <td>2.0</td>\n",
       "      <td>0.0</td>\n",
       "      <td>...</td>\n",
       "      <td>6.0</td>\n",
       "      <td>0.0</td>\n",
       "      <td>2.0</td>\n",
       "      <td>12</td>\n",
       "      <td>6</td>\n",
       "      <td>0.0</td>\n",
       "      <td>29.000000</td>\n",
       "      <td>29.000000</td>\n",
       "      <td>UPW</td>\n",
       "      <td>2016-07-20</td>\n",
       "    </tr>\n",
       "    <tr>\n",
       "      <th>1</th>\n",
       "      <td>2</td>\n",
       "      <td>1</td>\n",
       "      <td>76462I70374</td>\n",
       "      <td>712.0</td>\n",
       "      <td>12122.000000</td>\n",
       "      <td>12124.750000</td>\n",
       "      <td>3691.26</td>\n",
       "      <td>3691.26</td>\n",
       "      <td>20.0</td>\n",
       "      <td>0.0</td>\n",
       "      <td>...</td>\n",
       "      <td>12.0</td>\n",
       "      <td>0.0</td>\n",
       "      <td>1.0</td>\n",
       "      <td>12</td>\n",
       "      <td>12</td>\n",
       "      <td>0.0</td>\n",
       "      <td>0.000000</td>\n",
       "      <td>0.000000</td>\n",
       "      <td>UPW</td>\n",
       "      <td>2016-08-10</td>\n",
       "    </tr>\n",
       "    <tr>\n",
       "      <th>2</th>\n",
       "      <td>3</td>\n",
       "      <td>1</td>\n",
       "      <td>17943I70372</td>\n",
       "      <td>535.0</td>\n",
       "      <td>1398.000000</td>\n",
       "      <td>1398.000000</td>\n",
       "      <td>900.13</td>\n",
       "      <td>900.13</td>\n",
       "      <td>3.0</td>\n",
       "      <td>0.0</td>\n",
       "      <td>...</td>\n",
       "      <td>6.0</td>\n",
       "      <td>0.0</td>\n",
       "      <td>1.0</td>\n",
       "      <td>6</td>\n",
       "      <td>6</td>\n",
       "      <td>0.0</td>\n",
       "      <td>0.000000</td>\n",
       "      <td>0.000000</td>\n",
       "      <td>UPW</td>\n",
       "      <td>2016-08-19</td>\n",
       "    </tr>\n",
       "    <tr>\n",
       "      <th>3</th>\n",
       "      <td>4</td>\n",
       "      <td>1</td>\n",
       "      <td>55773I70781</td>\n",
       "      <td>241.0</td>\n",
       "      <td>21.228000</td>\n",
       "      <td>21.228000</td>\n",
       "      <td>159.42</td>\n",
       "      <td>159.42</td>\n",
       "      <td>41.0</td>\n",
       "      <td>0.0</td>\n",
       "      <td>...</td>\n",
       "      <td>6.0</td>\n",
       "      <td>0.0</td>\n",
       "      <td>2.0</td>\n",
       "      <td>12</td>\n",
       "      <td>6</td>\n",
       "      <td>0.0</td>\n",
       "      <td>0.000000</td>\n",
       "      <td>0.000000</td>\n",
       "      <td>UPW</td>\n",
       "      <td>2016-06-06</td>\n",
       "    </tr>\n",
       "    <tr>\n",
       "      <th>4</th>\n",
       "      <td>5</td>\n",
       "      <td>1</td>\n",
       "      <td>03813I82730</td>\n",
       "      <td>947.0</td>\n",
       "      <td>150.619333</td>\n",
       "      <td>150.619333</td>\n",
       "      <td>1098.90</td>\n",
       "      <td>1098.90</td>\n",
       "      <td>4.0</td>\n",
       "      <td>0.0</td>\n",
       "      <td>...</td>\n",
       "      <td>6.0</td>\n",
       "      <td>0.0</td>\n",
       "      <td>7.0</td>\n",
       "      <td>42</td>\n",
       "      <td>6</td>\n",
       "      <td>0.0</td>\n",
       "      <td>2.333333</td>\n",
       "      <td>2.333333</td>\n",
       "      <td>UPW</td>\n",
       "      <td>2016-06-22</td>\n",
       "    </tr>\n",
       "    <tr>\n",
       "      <th>...</th>\n",
       "      <td>...</td>\n",
       "      <td>...</td>\n",
       "      <td>...</td>\n",
       "      <td>...</td>\n",
       "      <td>...</td>\n",
       "      <td>...</td>\n",
       "      <td>...</td>\n",
       "      <td>...</td>\n",
       "      <td>...</td>\n",
       "      <td>...</td>\n",
       "      <td>...</td>\n",
       "      <td>...</td>\n",
       "      <td>...</td>\n",
       "      <td>...</td>\n",
       "      <td>...</td>\n",
       "      <td>...</td>\n",
       "      <td>...</td>\n",
       "      <td>...</td>\n",
       "      <td>...</td>\n",
       "      <td>...</td>\n",
       "      <td>...</td>\n",
       "    </tr>\n",
       "    <tr>\n",
       "      <th>209588</th>\n",
       "      <td>209589</td>\n",
       "      <td>1</td>\n",
       "      <td>22758I85348</td>\n",
       "      <td>404.0</td>\n",
       "      <td>151.872333</td>\n",
       "      <td>151.872333</td>\n",
       "      <td>1089.19</td>\n",
       "      <td>1089.19</td>\n",
       "      <td>1.0</td>\n",
       "      <td>0.0</td>\n",
       "      <td>...</td>\n",
       "      <td>6.0</td>\n",
       "      <td>0.0</td>\n",
       "      <td>2.0</td>\n",
       "      <td>12</td>\n",
       "      <td>6</td>\n",
       "      <td>0.0</td>\n",
       "      <td>1.000000</td>\n",
       "      <td>1.000000</td>\n",
       "      <td>UPW</td>\n",
       "      <td>2016-06-17</td>\n",
       "    </tr>\n",
       "    <tr>\n",
       "      <th>209589</th>\n",
       "      <td>209590</td>\n",
       "      <td>1</td>\n",
       "      <td>95583I84455</td>\n",
       "      <td>1075.0</td>\n",
       "      <td>36.936000</td>\n",
       "      <td>36.936000</td>\n",
       "      <td>1728.36</td>\n",
       "      <td>1728.36</td>\n",
       "      <td>4.0</td>\n",
       "      <td>0.0</td>\n",
       "      <td>...</td>\n",
       "      <td>6.0</td>\n",
       "      <td>0.0</td>\n",
       "      <td>3.0</td>\n",
       "      <td>18</td>\n",
       "      <td>6</td>\n",
       "      <td>0.0</td>\n",
       "      <td>1.000000</td>\n",
       "      <td>1.000000</td>\n",
       "      <td>UPW</td>\n",
       "      <td>2016-06-12</td>\n",
       "    </tr>\n",
       "    <tr>\n",
       "      <th>209590</th>\n",
       "      <td>209591</td>\n",
       "      <td>1</td>\n",
       "      <td>28556I85350</td>\n",
       "      <td>1013.0</td>\n",
       "      <td>11843.111667</td>\n",
       "      <td>11904.350000</td>\n",
       "      <td>5861.83</td>\n",
       "      <td>8893.20</td>\n",
       "      <td>3.0</td>\n",
       "      <td>0.0</td>\n",
       "      <td>...</td>\n",
       "      <td>12.0</td>\n",
       "      <td>0.0</td>\n",
       "      <td>6.0</td>\n",
       "      <td>54</td>\n",
       "      <td>12</td>\n",
       "      <td>0.0</td>\n",
       "      <td>4.000000</td>\n",
       "      <td>3.833333</td>\n",
       "      <td>UPW</td>\n",
       "      <td>2016-07-29</td>\n",
       "    </tr>\n",
       "    <tr>\n",
       "      <th>209591</th>\n",
       "      <td>209592</td>\n",
       "      <td>1</td>\n",
       "      <td>59712I82733</td>\n",
       "      <td>1732.0</td>\n",
       "      <td>12488.228333</td>\n",
       "      <td>12574.370000</td>\n",
       "      <td>411.83</td>\n",
       "      <td>984.58</td>\n",
       "      <td>2.0</td>\n",
       "      <td>38.0</td>\n",
       "      <td>...</td>\n",
       "      <td>12.0</td>\n",
       "      <td>0.0</td>\n",
       "      <td>3.0</td>\n",
       "      <td>24</td>\n",
       "      <td>12</td>\n",
       "      <td>0.0</td>\n",
       "      <td>0.000000</td>\n",
       "      <td>10.500000</td>\n",
       "      <td>UPW</td>\n",
       "      <td>2016-07-25</td>\n",
       "    </tr>\n",
       "    <tr>\n",
       "      <th>209592</th>\n",
       "      <td>209593</td>\n",
       "      <td>1</td>\n",
       "      <td>65061I85339</td>\n",
       "      <td>1581.0</td>\n",
       "      <td>4489.362000</td>\n",
       "      <td>4534.820000</td>\n",
       "      <td>483.92</td>\n",
       "      <td>631.20</td>\n",
       "      <td>13.0</td>\n",
       "      <td>0.0</td>\n",
       "      <td>...</td>\n",
       "      <td>12.0</td>\n",
       "      <td>0.0</td>\n",
       "      <td>2.0</td>\n",
       "      <td>18</td>\n",
       "      <td>12</td>\n",
       "      <td>0.0</td>\n",
       "      <td>0.000000</td>\n",
       "      <td>0.000000</td>\n",
       "      <td>UPW</td>\n",
       "      <td>2016-07-07</td>\n",
       "    </tr>\n",
       "  </tbody>\n",
       "</table>\n",
       "<p>209593 rows × 37 columns</p>\n",
       "</div>"
      ],
      "text/plain": [
       "        Unnamed: 0  label       msisdn     aon  daily_decr30  daily_decr90  \\\n",
       "0                1      0  21408I70789   272.0   3055.050000   3065.150000   \n",
       "1                2      1  76462I70374   712.0  12122.000000  12124.750000   \n",
       "2                3      1  17943I70372   535.0   1398.000000   1398.000000   \n",
       "3                4      1  55773I70781   241.0     21.228000     21.228000   \n",
       "4                5      1  03813I82730   947.0    150.619333    150.619333   \n",
       "...            ...    ...          ...     ...           ...           ...   \n",
       "209588      209589      1  22758I85348   404.0    151.872333    151.872333   \n",
       "209589      209590      1  95583I84455  1075.0     36.936000     36.936000   \n",
       "209590      209591      1  28556I85350  1013.0  11843.111667  11904.350000   \n",
       "209591      209592      1  59712I82733  1732.0  12488.228333  12574.370000   \n",
       "209592      209593      1  65061I85339  1581.0   4489.362000   4534.820000   \n",
       "\n",
       "        rental30  rental90  last_rech_date_ma  last_rech_date_da  ...  \\\n",
       "0         220.13    260.13                2.0                0.0  ...   \n",
       "1        3691.26   3691.26               20.0                0.0  ...   \n",
       "2         900.13    900.13                3.0                0.0  ...   \n",
       "3         159.42    159.42               41.0                0.0  ...   \n",
       "4        1098.90   1098.90                4.0                0.0  ...   \n",
       "...          ...       ...                ...                ...  ...   \n",
       "209588   1089.19   1089.19                1.0                0.0  ...   \n",
       "209589   1728.36   1728.36                4.0                0.0  ...   \n",
       "209590   5861.83   8893.20                3.0                0.0  ...   \n",
       "209591    411.83    984.58                2.0               38.0  ...   \n",
       "209592    483.92    631.20               13.0                0.0  ...   \n",
       "\n",
       "        maxamnt_loans30  medianamnt_loans30  cnt_loans90  amnt_loans90  \\\n",
       "0                   6.0                 0.0          2.0            12   \n",
       "1                  12.0                 0.0          1.0            12   \n",
       "2                   6.0                 0.0          1.0             6   \n",
       "3                   6.0                 0.0          2.0            12   \n",
       "4                   6.0                 0.0          7.0            42   \n",
       "...                 ...                 ...          ...           ...   \n",
       "209588              6.0                 0.0          2.0            12   \n",
       "209589              6.0                 0.0          3.0            18   \n",
       "209590             12.0                 0.0          6.0            54   \n",
       "209591             12.0                 0.0          3.0            24   \n",
       "209592             12.0                 0.0          2.0            18   \n",
       "\n",
       "        maxamnt_loans90  medianamnt_loans90  payback30  payback90  pcircle  \\\n",
       "0                     6                 0.0  29.000000  29.000000      UPW   \n",
       "1                    12                 0.0   0.000000   0.000000      UPW   \n",
       "2                     6                 0.0   0.000000   0.000000      UPW   \n",
       "3                     6                 0.0   0.000000   0.000000      UPW   \n",
       "4                     6                 0.0   2.333333   2.333333      UPW   \n",
       "...                 ...                 ...        ...        ...      ...   \n",
       "209588                6                 0.0   1.000000   1.000000      UPW   \n",
       "209589                6                 0.0   1.000000   1.000000      UPW   \n",
       "209590               12                 0.0   4.000000   3.833333      UPW   \n",
       "209591               12                 0.0   0.000000  10.500000      UPW   \n",
       "209592               12                 0.0   0.000000   0.000000      UPW   \n",
       "\n",
       "             pdate  \n",
       "0       2016-07-20  \n",
       "1       2016-08-10  \n",
       "2       2016-08-19  \n",
       "3       2016-06-06  \n",
       "4       2016-06-22  \n",
       "...            ...  \n",
       "209588  2016-06-17  \n",
       "209589  2016-06-12  \n",
       "209590  2016-07-29  \n",
       "209591  2016-07-25  \n",
       "209592  2016-07-07  \n",
       "\n",
       "[209593 rows x 37 columns]"
      ]
     },
     "execution_count": 50,
     "metadata": {},
     "output_type": "execute_result"
    }
   ],
   "source": [
    "# Reading the data from csv file\n",
    "ds = pd.read_csv('Data file.csv')\n",
    "ds"
   ]
  },
  {
   "cell_type": "markdown",
   "metadata": {},
   "source": [
    "We will remove the unwanted columns"
   ]
  },
  {
   "cell_type": "code",
   "execution_count": 51,
   "metadata": {},
   "outputs": [],
   "source": [
    "ds.drop(columns=['Unnamed: 0', 'pcircle'], inplace=True)"
   ]
  },
  {
   "cell_type": "markdown",
   "metadata": {},
   "source": [
    "We will remove the duplicate rows from the dataset"
   ]
  },
  {
   "cell_type": "code",
   "execution_count": 52,
   "metadata": {},
   "outputs": [
    {
     "name": "stdout",
     "output_type": "stream",
     "text": [
      "Shape of dataset before removing duplicates:  (209593, 35)\n",
      "Shape of dataset after removing duplicates:  (209592, 35)\n"
     ]
    }
   ],
   "source": [
    "# Removing the duplicate rows from the dataset\n",
    "\n",
    "print ('Shape of dataset before removing duplicates: ', ds.shape)\n",
    "# Dropping the duplicate rows\n",
    "ds = ds.drop_duplicates(keep='first')\n",
    "print ('Shape of dataset after removing duplicates: ', ds.shape)"
   ]
  },
  {
   "cell_type": "code",
   "execution_count": 53,
   "metadata": {},
   "outputs": [
    {
     "data": {
      "text/html": [
       "<div>\n",
       "<style scoped>\n",
       "    .dataframe tbody tr th:only-of-type {\n",
       "        vertical-align: middle;\n",
       "    }\n",
       "\n",
       "    .dataframe tbody tr th {\n",
       "        vertical-align: top;\n",
       "    }\n",
       "\n",
       "    .dataframe thead th {\n",
       "        text-align: right;\n",
       "    }\n",
       "</style>\n",
       "<table border=\"1\" class=\"dataframe\">\n",
       "  <thead>\n",
       "    <tr style=\"text-align: right;\">\n",
       "      <th></th>\n",
       "      <th>label</th>\n",
       "      <th>msisdn</th>\n",
       "      <th>aon</th>\n",
       "      <th>daily_decr30</th>\n",
       "      <th>daily_decr90</th>\n",
       "      <th>rental30</th>\n",
       "      <th>rental90</th>\n",
       "      <th>last_rech_date_ma</th>\n",
       "      <th>last_rech_date_da</th>\n",
       "      <th>last_rech_amt_ma</th>\n",
       "      <th>...</th>\n",
       "      <th>amnt_loans30</th>\n",
       "      <th>maxamnt_loans30</th>\n",
       "      <th>medianamnt_loans30</th>\n",
       "      <th>cnt_loans90</th>\n",
       "      <th>amnt_loans90</th>\n",
       "      <th>maxamnt_loans90</th>\n",
       "      <th>medianamnt_loans90</th>\n",
       "      <th>payback30</th>\n",
       "      <th>payback90</th>\n",
       "      <th>pdate</th>\n",
       "    </tr>\n",
       "  </thead>\n",
       "  <tbody>\n",
       "    <tr>\n",
       "      <th>0</th>\n",
       "      <td>0</td>\n",
       "      <td>21408I70789</td>\n",
       "      <td>272.0</td>\n",
       "      <td>3055.050000</td>\n",
       "      <td>3065.150000</td>\n",
       "      <td>220.13</td>\n",
       "      <td>260.13</td>\n",
       "      <td>2.0</td>\n",
       "      <td>0.0</td>\n",
       "      <td>1539</td>\n",
       "      <td>...</td>\n",
       "      <td>12</td>\n",
       "      <td>6.0</td>\n",
       "      <td>0.0</td>\n",
       "      <td>2.0</td>\n",
       "      <td>12</td>\n",
       "      <td>6</td>\n",
       "      <td>0.0</td>\n",
       "      <td>29.000000</td>\n",
       "      <td>29.000000</td>\n",
       "      <td>2016-07-20</td>\n",
       "    </tr>\n",
       "    <tr>\n",
       "      <th>1</th>\n",
       "      <td>1</td>\n",
       "      <td>76462I70374</td>\n",
       "      <td>712.0</td>\n",
       "      <td>12122.000000</td>\n",
       "      <td>12124.750000</td>\n",
       "      <td>3691.26</td>\n",
       "      <td>3691.26</td>\n",
       "      <td>20.0</td>\n",
       "      <td>0.0</td>\n",
       "      <td>5787</td>\n",
       "      <td>...</td>\n",
       "      <td>12</td>\n",
       "      <td>12.0</td>\n",
       "      <td>0.0</td>\n",
       "      <td>1.0</td>\n",
       "      <td>12</td>\n",
       "      <td>12</td>\n",
       "      <td>0.0</td>\n",
       "      <td>0.000000</td>\n",
       "      <td>0.000000</td>\n",
       "      <td>2016-08-10</td>\n",
       "    </tr>\n",
       "    <tr>\n",
       "      <th>2</th>\n",
       "      <td>1</td>\n",
       "      <td>17943I70372</td>\n",
       "      <td>535.0</td>\n",
       "      <td>1398.000000</td>\n",
       "      <td>1398.000000</td>\n",
       "      <td>900.13</td>\n",
       "      <td>900.13</td>\n",
       "      <td>3.0</td>\n",
       "      <td>0.0</td>\n",
       "      <td>1539</td>\n",
       "      <td>...</td>\n",
       "      <td>6</td>\n",
       "      <td>6.0</td>\n",
       "      <td>0.0</td>\n",
       "      <td>1.0</td>\n",
       "      <td>6</td>\n",
       "      <td>6</td>\n",
       "      <td>0.0</td>\n",
       "      <td>0.000000</td>\n",
       "      <td>0.000000</td>\n",
       "      <td>2016-08-19</td>\n",
       "    </tr>\n",
       "    <tr>\n",
       "      <th>3</th>\n",
       "      <td>1</td>\n",
       "      <td>55773I70781</td>\n",
       "      <td>241.0</td>\n",
       "      <td>21.228000</td>\n",
       "      <td>21.228000</td>\n",
       "      <td>159.42</td>\n",
       "      <td>159.42</td>\n",
       "      <td>41.0</td>\n",
       "      <td>0.0</td>\n",
       "      <td>947</td>\n",
       "      <td>...</td>\n",
       "      <td>12</td>\n",
       "      <td>6.0</td>\n",
       "      <td>0.0</td>\n",
       "      <td>2.0</td>\n",
       "      <td>12</td>\n",
       "      <td>6</td>\n",
       "      <td>0.0</td>\n",
       "      <td>0.000000</td>\n",
       "      <td>0.000000</td>\n",
       "      <td>2016-06-06</td>\n",
       "    </tr>\n",
       "    <tr>\n",
       "      <th>4</th>\n",
       "      <td>1</td>\n",
       "      <td>03813I82730</td>\n",
       "      <td>947.0</td>\n",
       "      <td>150.619333</td>\n",
       "      <td>150.619333</td>\n",
       "      <td>1098.90</td>\n",
       "      <td>1098.90</td>\n",
       "      <td>4.0</td>\n",
       "      <td>0.0</td>\n",
       "      <td>2309</td>\n",
       "      <td>...</td>\n",
       "      <td>42</td>\n",
       "      <td>6.0</td>\n",
       "      <td>0.0</td>\n",
       "      <td>7.0</td>\n",
       "      <td>42</td>\n",
       "      <td>6</td>\n",
       "      <td>0.0</td>\n",
       "      <td>2.333333</td>\n",
       "      <td>2.333333</td>\n",
       "      <td>2016-06-22</td>\n",
       "    </tr>\n",
       "  </tbody>\n",
       "</table>\n",
       "<p>5 rows × 35 columns</p>\n",
       "</div>"
      ],
      "text/plain": [
       "   label       msisdn    aon  daily_decr30  daily_decr90  rental30  rental90  \\\n",
       "0      0  21408I70789  272.0   3055.050000   3065.150000    220.13    260.13   \n",
       "1      1  76462I70374  712.0  12122.000000  12124.750000   3691.26   3691.26   \n",
       "2      1  17943I70372  535.0   1398.000000   1398.000000    900.13    900.13   \n",
       "3      1  55773I70781  241.0     21.228000     21.228000    159.42    159.42   \n",
       "4      1  03813I82730  947.0    150.619333    150.619333   1098.90   1098.90   \n",
       "\n",
       "   last_rech_date_ma  last_rech_date_da  last_rech_amt_ma  ...  amnt_loans30  \\\n",
       "0                2.0                0.0              1539  ...            12   \n",
       "1               20.0                0.0              5787  ...            12   \n",
       "2                3.0                0.0              1539  ...             6   \n",
       "3               41.0                0.0               947  ...            12   \n",
       "4                4.0                0.0              2309  ...            42   \n",
       "\n",
       "   maxamnt_loans30  medianamnt_loans30  cnt_loans90  amnt_loans90  \\\n",
       "0              6.0                 0.0          2.0            12   \n",
       "1             12.0                 0.0          1.0            12   \n",
       "2              6.0                 0.0          1.0             6   \n",
       "3              6.0                 0.0          2.0            12   \n",
       "4              6.0                 0.0          7.0            42   \n",
       "\n",
       "   maxamnt_loans90  medianamnt_loans90  payback30  payback90       pdate  \n",
       "0                6                 0.0  29.000000  29.000000  2016-07-20  \n",
       "1               12                 0.0   0.000000   0.000000  2016-08-10  \n",
       "2                6                 0.0   0.000000   0.000000  2016-08-19  \n",
       "3                6                 0.0   0.000000   0.000000  2016-06-06  \n",
       "4                6                 0.0   2.333333   2.333333  2016-06-22  \n",
       "\n",
       "[5 rows x 35 columns]"
      ]
     },
     "execution_count": 53,
     "metadata": {},
     "output_type": "execute_result"
    }
   ],
   "source": [
    "# Reading the head of the data\n",
    "ds.head()"
   ]
  },
  {
   "cell_type": "code",
   "execution_count": 54,
   "metadata": {},
   "outputs": [
    {
     "data": {
      "text/plain": [
       "Index(['label', 'msisdn', 'aon', 'daily_decr30', 'daily_decr90', 'rental30',\n",
       "       'rental90', 'last_rech_date_ma', 'last_rech_date_da',\n",
       "       'last_rech_amt_ma', 'cnt_ma_rech30', 'fr_ma_rech30',\n",
       "       'sumamnt_ma_rech30', 'medianamnt_ma_rech30', 'medianmarechprebal30',\n",
       "       'cnt_ma_rech90', 'fr_ma_rech90', 'sumamnt_ma_rech90',\n",
       "       'medianamnt_ma_rech90', 'medianmarechprebal90', 'cnt_da_rech30',\n",
       "       'fr_da_rech30', 'cnt_da_rech90', 'fr_da_rech90', 'cnt_loans30',\n",
       "       'amnt_loans30', 'maxamnt_loans30', 'medianamnt_loans30', 'cnt_loans90',\n",
       "       'amnt_loans90', 'maxamnt_loans90', 'medianamnt_loans90', 'payback30',\n",
       "       'payback90', 'pdate'],\n",
       "      dtype='object')"
      ]
     },
     "execution_count": 54,
     "metadata": {},
     "output_type": "execute_result"
    }
   ],
   "source": [
    "# Checking the columns of the dataset\n",
    "ds.columns"
   ]
  },
  {
   "cell_type": "code",
   "execution_count": 55,
   "metadata": {},
   "outputs": [
    {
     "data": {
      "text/plain": [
       "label                     int64\n",
       "msisdn                   object\n",
       "aon                     float64\n",
       "daily_decr30            float64\n",
       "daily_decr90            float64\n",
       "rental30                float64\n",
       "rental90                float64\n",
       "last_rech_date_ma       float64\n",
       "last_rech_date_da       float64\n",
       "last_rech_amt_ma          int64\n",
       "cnt_ma_rech30             int64\n",
       "fr_ma_rech30            float64\n",
       "sumamnt_ma_rech30       float64\n",
       "medianamnt_ma_rech30    float64\n",
       "medianmarechprebal30    float64\n",
       "cnt_ma_rech90             int64\n",
       "fr_ma_rech90              int64\n",
       "sumamnt_ma_rech90         int64\n",
       "medianamnt_ma_rech90    float64\n",
       "medianmarechprebal90    float64\n",
       "cnt_da_rech30           float64\n",
       "fr_da_rech30            float64\n",
       "cnt_da_rech90             int64\n",
       "fr_da_rech90              int64\n",
       "cnt_loans30               int64\n",
       "amnt_loans30              int64\n",
       "maxamnt_loans30         float64\n",
       "medianamnt_loans30      float64\n",
       "cnt_loans90             float64\n",
       "amnt_loans90              int64\n",
       "maxamnt_loans90           int64\n",
       "medianamnt_loans90      float64\n",
       "payback30               float64\n",
       "payback90               float64\n",
       "pdate                    object\n",
       "dtype: object"
      ]
     },
     "execution_count": 55,
     "metadata": {},
     "output_type": "execute_result"
    }
   ],
   "source": [
    "# Checking the datatypes of columns\n",
    "ds.dtypes"
   ]
  },
  {
   "cell_type": "code",
   "execution_count": 56,
   "metadata": {},
   "outputs": [
    {
     "name": "stdout",
     "output_type": "stream",
     "text": [
      "<class 'pandas.core.frame.DataFrame'>\n",
      "Int64Index: 209592 entries, 0 to 209592\n",
      "Data columns (total 35 columns):\n",
      " #   Column                Non-Null Count   Dtype  \n",
      "---  ------                --------------   -----  \n",
      " 0   label                 209592 non-null  int64  \n",
      " 1   msisdn                209592 non-null  object \n",
      " 2   aon                   209592 non-null  float64\n",
      " 3   daily_decr30          209592 non-null  float64\n",
      " 4   daily_decr90          209592 non-null  float64\n",
      " 5   rental30              209592 non-null  float64\n",
      " 6   rental90              209592 non-null  float64\n",
      " 7   last_rech_date_ma     209592 non-null  float64\n",
      " 8   last_rech_date_da     209592 non-null  float64\n",
      " 9   last_rech_amt_ma      209592 non-null  int64  \n",
      " 10  cnt_ma_rech30         209592 non-null  int64  \n",
      " 11  fr_ma_rech30          209592 non-null  float64\n",
      " 12  sumamnt_ma_rech30     209592 non-null  float64\n",
      " 13  medianamnt_ma_rech30  209592 non-null  float64\n",
      " 14  medianmarechprebal30  209592 non-null  float64\n",
      " 15  cnt_ma_rech90         209592 non-null  int64  \n",
      " 16  fr_ma_rech90          209592 non-null  int64  \n",
      " 17  sumamnt_ma_rech90     209592 non-null  int64  \n",
      " 18  medianamnt_ma_rech90  209592 non-null  float64\n",
      " 19  medianmarechprebal90  209592 non-null  float64\n",
      " 20  cnt_da_rech30         209592 non-null  float64\n",
      " 21  fr_da_rech30          209592 non-null  float64\n",
      " 22  cnt_da_rech90         209592 non-null  int64  \n",
      " 23  fr_da_rech90          209592 non-null  int64  \n",
      " 24  cnt_loans30           209592 non-null  int64  \n",
      " 25  amnt_loans30          209592 non-null  int64  \n",
      " 26  maxamnt_loans30       209592 non-null  float64\n",
      " 27  medianamnt_loans30    209592 non-null  float64\n",
      " 28  cnt_loans90           209592 non-null  float64\n",
      " 29  amnt_loans90          209592 non-null  int64  \n",
      " 30  maxamnt_loans90       209592 non-null  int64  \n",
      " 31  medianamnt_loans90    209592 non-null  float64\n",
      " 32  payback30             209592 non-null  float64\n",
      " 33  payback90             209592 non-null  float64\n",
      " 34  pdate                 209592 non-null  object \n",
      "dtypes: float64(21), int64(12), object(2)\n",
      "memory usage: 57.6+ MB\n"
     ]
    }
   ],
   "source": [
    "# Checking the dataset columns information\n",
    "ds.info()"
   ]
  },
  {
   "cell_type": "markdown",
   "metadata": {},
   "source": [
    "# Summarize the 'Label' distribution"
   ]
  },
  {
   "cell_type": "code",
   "execution_count": 57,
   "metadata": {},
   "outputs": [
    {
     "name": "stdout",
     "output_type": "stream",
     "text": [
      "Label = 0, Count=26162, Percentage=12.482%\n",
      "Label = 1, Count=183430, Percentage=87.518%\n"
     ]
    }
   ],
   "source": [
    "from collections import Counter\n",
    "\n",
    "target = ds.values[:,0]\n",
    "counter = Counter(target)\n",
    "\n",
    "for k, v in counter.items():\n",
    "    per = v/len(target) * 100\n",
    "    print ('Label = %s, Count=%d, Percentage=%.3f%%' %(k, v, per) )"
   ]
  },
  {
   "cell_type": "markdown",
   "metadata": {},
   "source": [
    "# Checking the unique values of columns of dataset"
   ]
  },
  {
   "cell_type": "code",
   "execution_count": 58,
   "metadata": {},
   "outputs": [
    {
     "data": {
      "text/plain": [
       "array([0, 1], dtype=int64)"
      ]
     },
     "execution_count": 58,
     "metadata": {},
     "output_type": "execute_result"
    }
   ],
   "source": [
    "ds['label'].unique()"
   ]
  },
  {
   "cell_type": "markdown",
   "metadata": {},
   "source": [
    "Label ‘1’ indicates that the loan has been payed i.e. Non- defaulter, while, Label ‘0’ indicates that the loan has not been payed i.e. defaulter. "
   ]
  },
  {
   "cell_type": "code",
   "execution_count": 59,
   "metadata": {},
   "outputs": [
    {
     "data": {
      "text/plain": [
       "array([  2,   1,   0,   7,   4,   3,   5,  15,   6,   9,  10,  11,  13,\n",
       "         8,  12,  16,  18,  19,  29,  17,  14,  21,  27,  22,  37,  23,\n",
       "        20,  26,  25,  24,  34,  28,  32,  35,  31,  33,  40,  30,  41,\n",
       "        36,  52,  38,  48,  61,  39,  54,  84,  42,  44,  46,  45,  47,\n",
       "        49,  43,  55,  74,  58,  64,  59,  53,  51,  77,  78,  50,  91,\n",
       "        99, 115, 203,  60,  71,  63], dtype=int64)"
      ]
     },
     "execution_count": 59,
     "metadata": {},
     "output_type": "execute_result"
    }
   ],
   "source": [
    "ds['cnt_ma_rech30'].unique()"
   ]
  },
  {
   "cell_type": "code",
   "execution_count": 60,
   "metadata": {},
   "outputs": [
    {
     "data": {
      "text/plain": [
       "array([ 0,  1,  3,  2,  5,  6,  8,  4, 27,  7,  9, 14, 12, 22, 13, 10, 16,\n",
       "       19, 11, 15, 38, 18, 20, 30, 28, 25, 17], dtype=int64)"
      ]
     },
     "execution_count": 60,
     "metadata": {},
     "output_type": "execute_result"
    }
   ],
   "source": [
    "ds['cnt_da_rech90'].unique()"
   ]
  },
  {
   "cell_type": "code",
   "execution_count": 61,
   "metadata": {},
   "outputs": [
    {
     "data": {
      "text/plain": [
       "array([0. , 1. , 0.5, 2. , 1.5, 3. ])"
      ]
     },
     "execution_count": 61,
     "metadata": {},
     "output_type": "execute_result"
    }
   ],
   "source": [
    "ds['medianamnt_loans30'].unique()"
   ]
  },
  {
   "cell_type": "code",
   "execution_count": 62,
   "metadata": {},
   "outputs": [
    {
     "data": {
      "text/plain": [
       "array([ 6, 12,  0], dtype=int64)"
      ]
     },
     "execution_count": 62,
     "metadata": {},
     "output_type": "execute_result"
    }
   ],
   "source": [
    "ds['maxamnt_loans90'].unique()"
   ]
  },
  {
   "cell_type": "code",
   "execution_count": 63,
   "metadata": {},
   "outputs": [
    {
     "data": {
      "text/plain": [
       "array([0. , 1. , 0.5, 2. , 1.5, 3. ])"
      ]
     },
     "execution_count": 63,
     "metadata": {},
     "output_type": "execute_result"
    }
   ],
   "source": [
    "ds['medianamnt_loans90'].unique()"
   ]
  },
  {
   "cell_type": "code",
   "execution_count": 64,
   "metadata": {},
   "outputs": [
    {
     "data": {
      "text/plain": [
       "Index(['label', 'last_rech_amt_ma', 'cnt_ma_rech30', 'cnt_ma_rech90',\n",
       "       'fr_ma_rech90', 'sumamnt_ma_rech90', 'cnt_da_rech90', 'fr_da_rech90',\n",
       "       'cnt_loans30', 'amnt_loans30', 'amnt_loans90', 'maxamnt_loans90'],\n",
       "      dtype='object')"
      ]
     },
     "execution_count": 64,
     "metadata": {},
     "output_type": "execute_result"
    }
   ],
   "source": [
    "# identifying the number columns\n",
    "ds_int = ds.select_dtypes(include=['int64', 'int32'])\n",
    "ds_int.columns"
   ]
  },
  {
   "cell_type": "code",
   "execution_count": 65,
   "metadata": {},
   "outputs": [
    {
     "data": {
      "text/plain": [
       "Index(['msisdn', 'pdate'], dtype='object')"
      ]
     },
     "execution_count": 65,
     "metadata": {},
     "output_type": "execute_result"
    }
   ],
   "source": [
    "# identifying the category columns\n",
    "ds_cat = ds.select_dtypes(include=['object'])\n",
    "ds_cat.columns"
   ]
  },
  {
   "cell_type": "markdown",
   "metadata": {},
   "source": [
    "# Statistical Summary"
   ]
  },
  {
   "cell_type": "code",
   "execution_count": 66,
   "metadata": {},
   "outputs": [
    {
     "data": {
      "text/html": [
       "<div>\n",
       "<style scoped>\n",
       "    .dataframe tbody tr th:only-of-type {\n",
       "        vertical-align: middle;\n",
       "    }\n",
       "\n",
       "    .dataframe tbody tr th {\n",
       "        vertical-align: top;\n",
       "    }\n",
       "\n",
       "    .dataframe thead th {\n",
       "        text-align: right;\n",
       "    }\n",
       "</style>\n",
       "<table border=\"1\" class=\"dataframe\">\n",
       "  <thead>\n",
       "    <tr style=\"text-align: right;\">\n",
       "      <th></th>\n",
       "      <th>label</th>\n",
       "      <th>aon</th>\n",
       "      <th>daily_decr30</th>\n",
       "      <th>daily_decr90</th>\n",
       "      <th>rental30</th>\n",
       "      <th>rental90</th>\n",
       "      <th>last_rech_date_ma</th>\n",
       "      <th>last_rech_date_da</th>\n",
       "      <th>last_rech_amt_ma</th>\n",
       "      <th>cnt_ma_rech30</th>\n",
       "      <th>...</th>\n",
       "      <th>cnt_loans30</th>\n",
       "      <th>amnt_loans30</th>\n",
       "      <th>maxamnt_loans30</th>\n",
       "      <th>medianamnt_loans30</th>\n",
       "      <th>cnt_loans90</th>\n",
       "      <th>amnt_loans90</th>\n",
       "      <th>maxamnt_loans90</th>\n",
       "      <th>medianamnt_loans90</th>\n",
       "      <th>payback30</th>\n",
       "      <th>payback90</th>\n",
       "    </tr>\n",
       "  </thead>\n",
       "  <tbody>\n",
       "    <tr>\n",
       "      <th>count</th>\n",
       "      <td>209592.000000</td>\n",
       "      <td>209592.000000</td>\n",
       "      <td>209592.000000</td>\n",
       "      <td>209592.000000</td>\n",
       "      <td>209592.000000</td>\n",
       "      <td>209592.000000</td>\n",
       "      <td>209592.000000</td>\n",
       "      <td>209592.000000</td>\n",
       "      <td>209592.000000</td>\n",
       "      <td>209592.000000</td>\n",
       "      <td>...</td>\n",
       "      <td>209592.000000</td>\n",
       "      <td>209592.000000</td>\n",
       "      <td>209592.000000</td>\n",
       "      <td>209592.000000</td>\n",
       "      <td>209592.000000</td>\n",
       "      <td>209592.000000</td>\n",
       "      <td>209592.000000</td>\n",
       "      <td>209592.000000</td>\n",
       "      <td>209592.000000</td>\n",
       "      <td>209592.000000</td>\n",
       "    </tr>\n",
       "    <tr>\n",
       "      <th>mean</th>\n",
       "      <td>0.875177</td>\n",
       "      <td>8112.380399</td>\n",
       "      <td>5381.412999</td>\n",
       "      <td>6082.529123</td>\n",
       "      <td>2692.578912</td>\n",
       "      <td>3483.407309</td>\n",
       "      <td>3755.865715</td>\n",
       "      <td>3712.220632</td>\n",
       "      <td>2064.458973</td>\n",
       "      <td>3.978053</td>\n",
       "      <td>...</td>\n",
       "      <td>2.758975</td>\n",
       "      <td>17.951992</td>\n",
       "      <td>274.660029</td>\n",
       "      <td>0.054029</td>\n",
       "      <td>18.520988</td>\n",
       "      <td>23.645397</td>\n",
       "      <td>6.703138</td>\n",
       "      <td>0.046078</td>\n",
       "      <td>3.398639</td>\n",
       "      <td>4.321302</td>\n",
       "    </tr>\n",
       "    <tr>\n",
       "      <th>std</th>\n",
       "      <td>0.330519</td>\n",
       "      <td>75696.261220</td>\n",
       "      <td>9220.644093</td>\n",
       "      <td>10918.836919</td>\n",
       "      <td>4308.596841</td>\n",
       "      <td>5770.475034</td>\n",
       "      <td>53906.020204</td>\n",
       "      <td>53374.960145</td>\n",
       "      <td>2370.790003</td>\n",
       "      <td>4.256099</td>\n",
       "      <td>...</td>\n",
       "      <td>2.554507</td>\n",
       "      <td>17.379778</td>\n",
       "      <td>4245.274734</td>\n",
       "      <td>0.218039</td>\n",
       "      <td>224.797957</td>\n",
       "      <td>26.469924</td>\n",
       "      <td>2.103869</td>\n",
       "      <td>0.200692</td>\n",
       "      <td>8.813330</td>\n",
       "      <td>10.307791</td>\n",
       "    </tr>\n",
       "    <tr>\n",
       "      <th>min</th>\n",
       "      <td>0.000000</td>\n",
       "      <td>-48.000000</td>\n",
       "      <td>-93.012667</td>\n",
       "      <td>-93.012667</td>\n",
       "      <td>-23737.140000</td>\n",
       "      <td>-24720.580000</td>\n",
       "      <td>-29.000000</td>\n",
       "      <td>-29.000000</td>\n",
       "      <td>0.000000</td>\n",
       "      <td>0.000000</td>\n",
       "      <td>...</td>\n",
       "      <td>0.000000</td>\n",
       "      <td>0.000000</td>\n",
       "      <td>0.000000</td>\n",
       "      <td>0.000000</td>\n",
       "      <td>0.000000</td>\n",
       "      <td>0.000000</td>\n",
       "      <td>0.000000</td>\n",
       "      <td>0.000000</td>\n",
       "      <td>0.000000</td>\n",
       "      <td>0.000000</td>\n",
       "    </tr>\n",
       "    <tr>\n",
       "      <th>25%</th>\n",
       "      <td>1.000000</td>\n",
       "      <td>246.000000</td>\n",
       "      <td>42.439500</td>\n",
       "      <td>42.691917</td>\n",
       "      <td>280.417500</td>\n",
       "      <td>300.260000</td>\n",
       "      <td>1.000000</td>\n",
       "      <td>0.000000</td>\n",
       "      <td>770.000000</td>\n",
       "      <td>1.000000</td>\n",
       "      <td>...</td>\n",
       "      <td>1.000000</td>\n",
       "      <td>6.000000</td>\n",
       "      <td>6.000000</td>\n",
       "      <td>0.000000</td>\n",
       "      <td>1.000000</td>\n",
       "      <td>6.000000</td>\n",
       "      <td>6.000000</td>\n",
       "      <td>0.000000</td>\n",
       "      <td>0.000000</td>\n",
       "      <td>0.000000</td>\n",
       "    </tr>\n",
       "    <tr>\n",
       "      <th>50%</th>\n",
       "      <td>1.000000</td>\n",
       "      <td>527.000000</td>\n",
       "      <td>1469.091833</td>\n",
       "      <td>1500.000000</td>\n",
       "      <td>1083.540000</td>\n",
       "      <td>1334.000000</td>\n",
       "      <td>3.000000</td>\n",
       "      <td>0.000000</td>\n",
       "      <td>1539.000000</td>\n",
       "      <td>3.000000</td>\n",
       "      <td>...</td>\n",
       "      <td>2.000000</td>\n",
       "      <td>12.000000</td>\n",
       "      <td>6.000000</td>\n",
       "      <td>0.000000</td>\n",
       "      <td>2.000000</td>\n",
       "      <td>12.000000</td>\n",
       "      <td>6.000000</td>\n",
       "      <td>0.000000</td>\n",
       "      <td>0.000000</td>\n",
       "      <td>1.666667</td>\n",
       "    </tr>\n",
       "    <tr>\n",
       "      <th>75%</th>\n",
       "      <td>1.000000</td>\n",
       "      <td>982.000000</td>\n",
       "      <td>7244.096000</td>\n",
       "      <td>7802.795000</td>\n",
       "      <td>3356.945000</td>\n",
       "      <td>4201.792500</td>\n",
       "      <td>7.000000</td>\n",
       "      <td>0.000000</td>\n",
       "      <td>2309.000000</td>\n",
       "      <td>5.000000</td>\n",
       "      <td>...</td>\n",
       "      <td>4.000000</td>\n",
       "      <td>24.000000</td>\n",
       "      <td>6.000000</td>\n",
       "      <td>0.000000</td>\n",
       "      <td>5.000000</td>\n",
       "      <td>30.000000</td>\n",
       "      <td>6.000000</td>\n",
       "      <td>0.000000</td>\n",
       "      <td>3.750000</td>\n",
       "      <td>4.500000</td>\n",
       "    </tr>\n",
       "    <tr>\n",
       "      <th>max</th>\n",
       "      <td>1.000000</td>\n",
       "      <td>999860.755168</td>\n",
       "      <td>265926.000000</td>\n",
       "      <td>320630.000000</td>\n",
       "      <td>198926.110000</td>\n",
       "      <td>200148.110000</td>\n",
       "      <td>998650.377733</td>\n",
       "      <td>999171.809410</td>\n",
       "      <td>55000.000000</td>\n",
       "      <td>203.000000</td>\n",
       "      <td>...</td>\n",
       "      <td>50.000000</td>\n",
       "      <td>306.000000</td>\n",
       "      <td>99864.560864</td>\n",
       "      <td>3.000000</td>\n",
       "      <td>4997.517944</td>\n",
       "      <td>438.000000</td>\n",
       "      <td>12.000000</td>\n",
       "      <td>3.000000</td>\n",
       "      <td>171.500000</td>\n",
       "      <td>171.500000</td>\n",
       "    </tr>\n",
       "  </tbody>\n",
       "</table>\n",
       "<p>8 rows × 33 columns</p>\n",
       "</div>"
      ],
      "text/plain": [
       "               label            aon   daily_decr30   daily_decr90  \\\n",
       "count  209592.000000  209592.000000  209592.000000  209592.000000   \n",
       "mean        0.875177    8112.380399    5381.412999    6082.529123   \n",
       "std         0.330519   75696.261220    9220.644093   10918.836919   \n",
       "min         0.000000     -48.000000     -93.012667     -93.012667   \n",
       "25%         1.000000     246.000000      42.439500      42.691917   \n",
       "50%         1.000000     527.000000    1469.091833    1500.000000   \n",
       "75%         1.000000     982.000000    7244.096000    7802.795000   \n",
       "max         1.000000  999860.755168  265926.000000  320630.000000   \n",
       "\n",
       "            rental30       rental90  last_rech_date_ma  last_rech_date_da  \\\n",
       "count  209592.000000  209592.000000      209592.000000      209592.000000   \n",
       "mean     2692.578912    3483.407309        3755.865715        3712.220632   \n",
       "std      4308.596841    5770.475034       53906.020204       53374.960145   \n",
       "min    -23737.140000  -24720.580000         -29.000000         -29.000000   \n",
       "25%       280.417500     300.260000           1.000000           0.000000   \n",
       "50%      1083.540000    1334.000000           3.000000           0.000000   \n",
       "75%      3356.945000    4201.792500           7.000000           0.000000   \n",
       "max    198926.110000  200148.110000      998650.377733      999171.809410   \n",
       "\n",
       "       last_rech_amt_ma  cnt_ma_rech30  ...    cnt_loans30   amnt_loans30  \\\n",
       "count     209592.000000  209592.000000  ...  209592.000000  209592.000000   \n",
       "mean        2064.458973       3.978053  ...       2.758975      17.951992   \n",
       "std         2370.790003       4.256099  ...       2.554507      17.379778   \n",
       "min            0.000000       0.000000  ...       0.000000       0.000000   \n",
       "25%          770.000000       1.000000  ...       1.000000       6.000000   \n",
       "50%         1539.000000       3.000000  ...       2.000000      12.000000   \n",
       "75%         2309.000000       5.000000  ...       4.000000      24.000000   \n",
       "max        55000.000000     203.000000  ...      50.000000     306.000000   \n",
       "\n",
       "       maxamnt_loans30  medianamnt_loans30    cnt_loans90   amnt_loans90  \\\n",
       "count    209592.000000       209592.000000  209592.000000  209592.000000   \n",
       "mean        274.660029            0.054029      18.520988      23.645397   \n",
       "std        4245.274734            0.218039     224.797957      26.469924   \n",
       "min           0.000000            0.000000       0.000000       0.000000   \n",
       "25%           6.000000            0.000000       1.000000       6.000000   \n",
       "50%           6.000000            0.000000       2.000000      12.000000   \n",
       "75%           6.000000            0.000000       5.000000      30.000000   \n",
       "max       99864.560864            3.000000    4997.517944     438.000000   \n",
       "\n",
       "       maxamnt_loans90  medianamnt_loans90      payback30      payback90  \n",
       "count    209592.000000       209592.000000  209592.000000  209592.000000  \n",
       "mean          6.703138            0.046078       3.398639       4.321302  \n",
       "std           2.103869            0.200692       8.813330      10.307791  \n",
       "min           0.000000            0.000000       0.000000       0.000000  \n",
       "25%           6.000000            0.000000       0.000000       0.000000  \n",
       "50%           6.000000            0.000000       0.000000       1.666667  \n",
       "75%           6.000000            0.000000       3.750000       4.500000  \n",
       "max          12.000000            3.000000     171.500000     171.500000  \n",
       "\n",
       "[8 rows x 33 columns]"
      ]
     },
     "execution_count": 66,
     "metadata": {},
     "output_type": "execute_result"
    }
   ],
   "source": [
    "ds.describe()"
   ]
  },
  {
   "cell_type": "markdown",
   "metadata": {},
   "source": [
    "In most of the columns, mean is greater than the median, it seems outliers are present in the dataset"
   ]
  },
  {
   "cell_type": "markdown",
   "metadata": {},
   "source": [
    "Checking for null values in the dataset"
   ]
  },
  {
   "cell_type": "code",
   "execution_count": 67,
   "metadata": {},
   "outputs": [
    {
     "data": {
      "text/plain": [
       "label                   0\n",
       "msisdn                  0\n",
       "aon                     0\n",
       "daily_decr30            0\n",
       "daily_decr90            0\n",
       "rental30                0\n",
       "rental90                0\n",
       "last_rech_date_ma       0\n",
       "last_rech_date_da       0\n",
       "last_rech_amt_ma        0\n",
       "cnt_ma_rech30           0\n",
       "fr_ma_rech30            0\n",
       "sumamnt_ma_rech30       0\n",
       "medianamnt_ma_rech30    0\n",
       "medianmarechprebal30    0\n",
       "cnt_ma_rech90           0\n",
       "fr_ma_rech90            0\n",
       "sumamnt_ma_rech90       0\n",
       "medianamnt_ma_rech90    0\n",
       "medianmarechprebal90    0\n",
       "cnt_da_rech30           0\n",
       "fr_da_rech30            0\n",
       "cnt_da_rech90           0\n",
       "fr_da_rech90            0\n",
       "cnt_loans30             0\n",
       "amnt_loans30            0\n",
       "maxamnt_loans30         0\n",
       "medianamnt_loans30      0\n",
       "cnt_loans90             0\n",
       "amnt_loans90            0\n",
       "maxamnt_loans90         0\n",
       "medianamnt_loans90      0\n",
       "payback30               0\n",
       "payback90               0\n",
       "pdate                   0\n",
       "dtype: int64"
      ]
     },
     "execution_count": 67,
     "metadata": {},
     "output_type": "execute_result"
    }
   ],
   "source": [
    "ds.isnull().sum()"
   ]
  },
  {
   "cell_type": "code",
   "execution_count": 68,
   "metadata": {},
   "outputs": [
    {
     "data": {
      "text/plain": [
       "label                   0\n",
       "msisdn                  0\n",
       "aon                     0\n",
       "daily_decr30            0\n",
       "daily_decr90            0\n",
       "rental30                0\n",
       "rental90                0\n",
       "last_rech_date_ma       0\n",
       "last_rech_date_da       0\n",
       "last_rech_amt_ma        0\n",
       "cnt_ma_rech30           0\n",
       "fr_ma_rech30            0\n",
       "sumamnt_ma_rech30       0\n",
       "medianamnt_ma_rech30    0\n",
       "medianmarechprebal30    0\n",
       "cnt_ma_rech90           0\n",
       "fr_ma_rech90            0\n",
       "sumamnt_ma_rech90       0\n",
       "medianamnt_ma_rech90    0\n",
       "medianmarechprebal90    0\n",
       "cnt_da_rech30           0\n",
       "fr_da_rech30            0\n",
       "cnt_da_rech90           0\n",
       "fr_da_rech90            0\n",
       "cnt_loans30             0\n",
       "amnt_loans30            0\n",
       "maxamnt_loans30         0\n",
       "medianamnt_loans30      0\n",
       "cnt_loans90             0\n",
       "amnt_loans90            0\n",
       "maxamnt_loans90         0\n",
       "medianamnt_loans90      0\n",
       "payback30               0\n",
       "payback90               0\n",
       "pdate                   0\n",
       "dtype: int64"
      ]
     },
     "execution_count": 68,
     "metadata": {},
     "output_type": "execute_result"
    }
   ],
   "source": [
    "# checking for NaN values\n",
    "ds.isna().sum()"
   ]
  },
  {
   "cell_type": "code",
   "execution_count": 69,
   "metadata": {},
   "outputs": [
    {
     "data": {
      "image/png": "[encoded data removed]",
      "text/plain": [
       "<Figure size 432x288 with 2 Axes>"
      ]
     },
     "metadata": {
      "needs_background": "light"
     },
     "output_type": "display_data"
    }
   ],
   "source": [
    "# Checking the null values through heatmap visualization\n",
    "sns.heatmap(ds.isnull())\n",
    "plt.show()"
   ]
  },
  {
   "cell_type": "markdown",
   "metadata": {},
   "source": [
    "# Checking the corelation"
   ]
  },
  {
   "cell_type": "code",
   "execution_count": 70,
   "metadata": {},
   "outputs": [
    {
     "data": {
      "text/html": [
       "<div>\n",
       "<style scoped>\n",
       "    .dataframe tbody tr th:only-of-type {\n",
       "        vertical-align: middle;\n",
       "    }\n",
       "\n",
       "    .dataframe tbody tr th {\n",
       "        vertical-align: top;\n",
       "    }\n",
       "\n",
       "    .dataframe thead th {\n",
       "        text-align: right;\n",
       "    }\n",
       "</style>\n",
       "<table border=\"1\" class=\"dataframe\">\n",
       "  <thead>\n",
       "    <tr style=\"text-align: right;\">\n",
       "      <th></th>\n",
       "      <th>label</th>\n",
       "      <th>aon</th>\n",
       "      <th>daily_decr30</th>\n",
       "      <th>daily_decr90</th>\n",
       "      <th>rental30</th>\n",
       "      <th>rental90</th>\n",
       "      <th>last_rech_date_ma</th>\n",
       "      <th>last_rech_date_da</th>\n",
       "      <th>last_rech_amt_ma</th>\n",
       "      <th>cnt_ma_rech30</th>\n",
       "      <th>...</th>\n",
       "      <th>cnt_loans30</th>\n",
       "      <th>amnt_loans30</th>\n",
       "      <th>maxamnt_loans30</th>\n",
       "      <th>medianamnt_loans30</th>\n",
       "      <th>cnt_loans90</th>\n",
       "      <th>amnt_loans90</th>\n",
       "      <th>maxamnt_loans90</th>\n",
       "      <th>medianamnt_loans90</th>\n",
       "      <th>payback30</th>\n",
       "      <th>payback90</th>\n",
       "    </tr>\n",
       "  </thead>\n",
       "  <tbody>\n",
       "    <tr>\n",
       "      <th>label</th>\n",
       "      <td>1.000000</td>\n",
       "      <td>-0.003785</td>\n",
       "      <td>0.168298</td>\n",
       "      <td>0.166151</td>\n",
       "      <td>0.058084</td>\n",
       "      <td>0.075521</td>\n",
       "      <td>0.003728</td>\n",
       "      <td>0.001711</td>\n",
       "      <td>0.131805</td>\n",
       "      <td>0.237331</td>\n",
       "      <td>...</td>\n",
       "      <td>0.196283</td>\n",
       "      <td>0.197272</td>\n",
       "      <td>0.000248</td>\n",
       "      <td>0.044590</td>\n",
       "      <td>0.004733</td>\n",
       "      <td>0.199788</td>\n",
       "      <td>0.084144</td>\n",
       "      <td>0.035747</td>\n",
       "      <td>0.048330</td>\n",
       "      <td>0.049178</td>\n",
       "    </tr>\n",
       "    <tr>\n",
       "      <th>aon</th>\n",
       "      <td>-0.003785</td>\n",
       "      <td>1.000000</td>\n",
       "      <td>0.001104</td>\n",
       "      <td>0.000374</td>\n",
       "      <td>-0.000960</td>\n",
       "      <td>-0.000790</td>\n",
       "      <td>0.001692</td>\n",
       "      <td>-0.001693</td>\n",
       "      <td>0.004256</td>\n",
       "      <td>-0.003148</td>\n",
       "      <td>...</td>\n",
       "      <td>-0.001826</td>\n",
       "      <td>-0.001726</td>\n",
       "      <td>-0.002764</td>\n",
       "      <td>0.004664</td>\n",
       "      <td>-0.000611</td>\n",
       "      <td>-0.002319</td>\n",
       "      <td>-0.001191</td>\n",
       "      <td>0.002771</td>\n",
       "      <td>0.001942</td>\n",
       "      <td>0.002205</td>\n",
       "    </tr>\n",
       "    <tr>\n",
       "      <th>daily_decr30</th>\n",
       "      <td>0.168298</td>\n",
       "      <td>0.001104</td>\n",
       "      <td>1.000000</td>\n",
       "      <td>0.977704</td>\n",
       "      <td>0.442066</td>\n",
       "      <td>0.458977</td>\n",
       "      <td>0.000487</td>\n",
       "      <td>-0.001636</td>\n",
       "      <td>0.275837</td>\n",
       "      <td>0.451385</td>\n",
       "      <td>...</td>\n",
       "      <td>0.366117</td>\n",
       "      <td>0.471492</td>\n",
       "      <td>-0.000028</td>\n",
       "      <td>-0.011611</td>\n",
       "      <td>0.008962</td>\n",
       "      <td>0.563496</td>\n",
       "      <td>0.400199</td>\n",
       "      <td>-0.037305</td>\n",
       "      <td>0.026922</td>\n",
       "      <td>0.047181</td>\n",
       "    </tr>\n",
       "    <tr>\n",
       "      <th>daily_decr90</th>\n",
       "      <td>0.166151</td>\n",
       "      <td>0.000374</td>\n",
       "      <td>0.977704</td>\n",
       "      <td>1.000000</td>\n",
       "      <td>0.434685</td>\n",
       "      <td>0.471730</td>\n",
       "      <td>0.000908</td>\n",
       "      <td>-0.001886</td>\n",
       "      <td>0.264130</td>\n",
       "      <td>0.426708</td>\n",
       "      <td>...</td>\n",
       "      <td>0.340387</td>\n",
       "      <td>0.447869</td>\n",
       "      <td>0.000025</td>\n",
       "      <td>-0.005592</td>\n",
       "      <td>0.009446</td>\n",
       "      <td>0.567204</td>\n",
       "      <td>0.397251</td>\n",
       "      <td>-0.034686</td>\n",
       "      <td>0.019406</td>\n",
       "      <td>0.040806</td>\n",
       "    </tr>\n",
       "    <tr>\n",
       "      <th>rental30</th>\n",
       "      <td>0.058084</td>\n",
       "      <td>-0.000960</td>\n",
       "      <td>0.442066</td>\n",
       "      <td>0.434685</td>\n",
       "      <td>1.000000</td>\n",
       "      <td>0.955237</td>\n",
       "      <td>-0.001095</td>\n",
       "      <td>0.003262</td>\n",
       "      <td>0.127272</td>\n",
       "      <td>0.233343</td>\n",
       "      <td>...</td>\n",
       "      <td>0.180203</td>\n",
       "      <td>0.233453</td>\n",
       "      <td>-0.000864</td>\n",
       "      <td>-0.016482</td>\n",
       "      <td>0.004012</td>\n",
       "      <td>0.298943</td>\n",
       "      <td>0.234212</td>\n",
       "      <td>-0.035489</td>\n",
       "      <td>0.072974</td>\n",
       "      <td>0.095148</td>\n",
       "    </tr>\n",
       "    <tr>\n",
       "      <th>rental90</th>\n",
       "      <td>0.075521</td>\n",
       "      <td>-0.000790</td>\n",
       "      <td>0.458977</td>\n",
       "      <td>0.471730</td>\n",
       "      <td>0.955237</td>\n",
       "      <td>1.000000</td>\n",
       "      <td>-0.001688</td>\n",
       "      <td>0.002794</td>\n",
       "      <td>0.121416</td>\n",
       "      <td>0.230260</td>\n",
       "      <td>...</td>\n",
       "      <td>0.171595</td>\n",
       "      <td>0.231906</td>\n",
       "      <td>-0.001411</td>\n",
       "      <td>-0.009467</td>\n",
       "      <td>0.005141</td>\n",
       "      <td>0.327436</td>\n",
       "      <td>0.251029</td>\n",
       "      <td>-0.034122</td>\n",
       "      <td>0.067114</td>\n",
       "      <td>0.099505</td>\n",
       "    </tr>\n",
       "    <tr>\n",
       "      <th>last_rech_date_ma</th>\n",
       "      <td>0.003728</td>\n",
       "      <td>0.001692</td>\n",
       "      <td>0.000487</td>\n",
       "      <td>0.000908</td>\n",
       "      <td>-0.001095</td>\n",
       "      <td>-0.001688</td>\n",
       "      <td>1.000000</td>\n",
       "      <td>0.001790</td>\n",
       "      <td>-0.000147</td>\n",
       "      <td>0.004311</td>\n",
       "      <td>...</td>\n",
       "      <td>0.001193</td>\n",
       "      <td>0.000903</td>\n",
       "      <td>0.000928</td>\n",
       "      <td>0.001835</td>\n",
       "      <td>-0.000225</td>\n",
       "      <td>0.000870</td>\n",
       "      <td>-0.001123</td>\n",
       "      <td>0.002771</td>\n",
       "      <td>-0.002231</td>\n",
       "      <td>-0.001582</td>\n",
       "    </tr>\n",
       "    <tr>\n",
       "      <th>last_rech_date_da</th>\n",
       "      <td>0.001711</td>\n",
       "      <td>-0.001693</td>\n",
       "      <td>-0.001636</td>\n",
       "      <td>-0.001886</td>\n",
       "      <td>0.003262</td>\n",
       "      <td>0.002794</td>\n",
       "      <td>0.001790</td>\n",
       "      <td>1.000000</td>\n",
       "      <td>-0.000149</td>\n",
       "      <td>0.001549</td>\n",
       "      <td>...</td>\n",
       "      <td>0.000380</td>\n",
       "      <td>0.000536</td>\n",
       "      <td>0.000503</td>\n",
       "      <td>0.000061</td>\n",
       "      <td>-0.000972</td>\n",
       "      <td>0.000519</td>\n",
       "      <td>0.001524</td>\n",
       "      <td>-0.002239</td>\n",
       "      <td>0.000079</td>\n",
       "      <td>0.000418</td>\n",
       "    </tr>\n",
       "    <tr>\n",
       "      <th>last_rech_amt_ma</th>\n",
       "      <td>0.131805</td>\n",
       "      <td>0.004256</td>\n",
       "      <td>0.275837</td>\n",
       "      <td>0.264130</td>\n",
       "      <td>0.127272</td>\n",
       "      <td>0.121416</td>\n",
       "      <td>-0.000147</td>\n",
       "      <td>-0.000149</td>\n",
       "      <td>1.000000</td>\n",
       "      <td>-0.002661</td>\n",
       "      <td>...</td>\n",
       "      <td>-0.027611</td>\n",
       "      <td>0.008503</td>\n",
       "      <td>0.001000</td>\n",
       "      <td>0.028370</td>\n",
       "      <td>0.000093</td>\n",
       "      <td>0.014067</td>\n",
       "      <td>0.148459</td>\n",
       "      <td>0.021004</td>\n",
       "      <td>-0.027358</td>\n",
       "      <td>-0.014251</td>\n",
       "    </tr>\n",
       "    <tr>\n",
       "      <th>cnt_ma_rech30</th>\n",
       "      <td>0.237331</td>\n",
       "      <td>-0.003148</td>\n",
       "      <td>0.451385</td>\n",
       "      <td>0.426708</td>\n",
       "      <td>0.233343</td>\n",
       "      <td>0.230260</td>\n",
       "      <td>0.004311</td>\n",
       "      <td>0.001549</td>\n",
       "      <td>-0.002661</td>\n",
       "      <td>1.000000</td>\n",
       "      <td>...</td>\n",
       "      <td>0.765802</td>\n",
       "      <td>0.752296</td>\n",
       "      <td>0.000110</td>\n",
       "      <td>-0.067010</td>\n",
       "      <td>0.014703</td>\n",
       "      <td>0.685257</td>\n",
       "      <td>0.174105</td>\n",
       "      <td>-0.071451</td>\n",
       "      <td>0.043614</td>\n",
       "      <td>0.017358</td>\n",
       "    </tr>\n",
       "    <tr>\n",
       "      <th>fr_ma_rech30</th>\n",
       "      <td>0.001330</td>\n",
       "      <td>-0.001163</td>\n",
       "      <td>-0.000577</td>\n",
       "      <td>-0.000343</td>\n",
       "      <td>-0.001219</td>\n",
       "      <td>-0.000503</td>\n",
       "      <td>-0.001629</td>\n",
       "      <td>0.001158</td>\n",
       "      <td>0.002876</td>\n",
       "      <td>0.001669</td>\n",
       "      <td>...</td>\n",
       "      <td>0.002666</td>\n",
       "      <td>0.002470</td>\n",
       "      <td>-0.001100</td>\n",
       "      <td>-0.000331</td>\n",
       "      <td>0.003368</td>\n",
       "      <td>0.002634</td>\n",
       "      <td>-0.001890</td>\n",
       "      <td>-0.001292</td>\n",
       "      <td>0.001457</td>\n",
       "      <td>0.000999</td>\n",
       "    </tr>\n",
       "    <tr>\n",
       "      <th>sumamnt_ma_rech30</th>\n",
       "      <td>0.202828</td>\n",
       "      <td>0.000707</td>\n",
       "      <td>0.636536</td>\n",
       "      <td>0.603886</td>\n",
       "      <td>0.272649</td>\n",
       "      <td>0.259709</td>\n",
       "      <td>0.002105</td>\n",
       "      <td>0.000046</td>\n",
       "      <td>0.440821</td>\n",
       "      <td>0.656986</td>\n",
       "      <td>...</td>\n",
       "      <td>0.491864</td>\n",
       "      <td>0.531079</td>\n",
       "      <td>0.001633</td>\n",
       "      <td>-0.034460</td>\n",
       "      <td>0.009419</td>\n",
       "      <td>0.484761</td>\n",
       "      <td>0.257706</td>\n",
       "      <td>-0.042244</td>\n",
       "      <td>0.000110</td>\n",
       "      <td>-0.012599</td>\n",
       "    </tr>\n",
       "    <tr>\n",
       "      <th>medianamnt_ma_rech30</th>\n",
       "      <td>0.141491</td>\n",
       "      <td>0.004306</td>\n",
       "      <td>0.295356</td>\n",
       "      <td>0.282959</td>\n",
       "      <td>0.129853</td>\n",
       "      <td>0.120242</td>\n",
       "      <td>-0.001358</td>\n",
       "      <td>0.001037</td>\n",
       "      <td>0.794646</td>\n",
       "      <td>-0.011792</td>\n",
       "      <td>...</td>\n",
       "      <td>-0.029788</td>\n",
       "      <td>0.007126</td>\n",
       "      <td>0.001985</td>\n",
       "      <td>0.032477</td>\n",
       "      <td>-0.001143</td>\n",
       "      <td>0.014546</td>\n",
       "      <td>0.159612</td>\n",
       "      <td>0.022692</td>\n",
       "      <td>-0.018396</td>\n",
       "      <td>-0.002859</td>\n",
       "    </tr>\n",
       "    <tr>\n",
       "      <th>medianmarechprebal30</th>\n",
       "      <td>-0.004829</td>\n",
       "      <td>0.003930</td>\n",
       "      <td>-0.001153</td>\n",
       "      <td>-0.000746</td>\n",
       "      <td>-0.001415</td>\n",
       "      <td>-0.001237</td>\n",
       "      <td>0.004071</td>\n",
       "      <td>0.002849</td>\n",
       "      <td>-0.002342</td>\n",
       "      <td>0.000082</td>\n",
       "      <td>...</td>\n",
       "      <td>-0.000211</td>\n",
       "      <td>0.000134</td>\n",
       "      <td>-0.002176</td>\n",
       "      <td>-0.002290</td>\n",
       "      <td>0.001342</td>\n",
       "      <td>0.000736</td>\n",
       "      <td>-0.002142</td>\n",
       "      <td>-0.001927</td>\n",
       "      <td>0.001517</td>\n",
       "      <td>0.001813</td>\n",
       "    </tr>\n",
       "    <tr>\n",
       "      <th>cnt_ma_rech90</th>\n",
       "      <td>0.236393</td>\n",
       "      <td>-0.002725</td>\n",
       "      <td>0.587338</td>\n",
       "      <td>0.593069</td>\n",
       "      <td>0.312118</td>\n",
       "      <td>0.345293</td>\n",
       "      <td>0.004263</td>\n",
       "      <td>0.001272</td>\n",
       "      <td>0.016706</td>\n",
       "      <td>0.886434</td>\n",
       "      <td>...</td>\n",
       "      <td>0.689003</td>\n",
       "      <td>0.707559</td>\n",
       "      <td>-0.000573</td>\n",
       "      <td>-0.053637</td>\n",
       "      <td>0.015754</td>\n",
       "      <td>0.783419</td>\n",
       "      <td>0.244602</td>\n",
       "      <td>-0.072481</td>\n",
       "      <td>0.011947</td>\n",
       "      <td>-0.003138</td>\n",
       "    </tr>\n",
       "    <tr>\n",
       "      <th>fr_ma_rech90</th>\n",
       "      <td>0.084386</td>\n",
       "      <td>0.004401</td>\n",
       "      <td>-0.078300</td>\n",
       "      <td>-0.079530</td>\n",
       "      <td>-0.033529</td>\n",
       "      <td>-0.036524</td>\n",
       "      <td>0.001414</td>\n",
       "      <td>0.000798</td>\n",
       "      <td>0.106265</td>\n",
       "      <td>-0.152759</td>\n",
       "      <td>...</td>\n",
       "      <td>-0.119081</td>\n",
       "      <td>-0.123663</td>\n",
       "      <td>0.001635</td>\n",
       "      <td>0.020626</td>\n",
       "      <td>-0.002756</td>\n",
       "      <td>-0.132035</td>\n",
       "      <td>-0.045781</td>\n",
       "      <td>0.016963</td>\n",
       "      <td>0.036830</td>\n",
       "      <td>0.077541</td>\n",
       "    </tr>\n",
       "    <tr>\n",
       "      <th>sumamnt_ma_rech90</th>\n",
       "      <td>0.205794</td>\n",
       "      <td>0.001011</td>\n",
       "      <td>0.762981</td>\n",
       "      <td>0.768817</td>\n",
       "      <td>0.342306</td>\n",
       "      <td>0.360601</td>\n",
       "      <td>0.002243</td>\n",
       "      <td>-0.000414</td>\n",
       "      <td>0.418735</td>\n",
       "      <td>0.584060</td>\n",
       "      <td>...</td>\n",
       "      <td>0.442767</td>\n",
       "      <td>0.508600</td>\n",
       "      <td>0.001152</td>\n",
       "      <td>-0.022134</td>\n",
       "      <td>0.011306</td>\n",
       "      <td>0.562609</td>\n",
       "      <td>0.321738</td>\n",
       "      <td>-0.042386</td>\n",
       "      <td>-0.026406</td>\n",
       "      <td>-0.029994</td>\n",
       "    </tr>\n",
       "    <tr>\n",
       "      <th>medianamnt_ma_rech90</th>\n",
       "      <td>0.120855</td>\n",
       "      <td>0.004909</td>\n",
       "      <td>0.257846</td>\n",
       "      <td>0.250518</td>\n",
       "      <td>0.110356</td>\n",
       "      <td>0.103151</td>\n",
       "      <td>-0.000726</td>\n",
       "      <td>0.000219</td>\n",
       "      <td>0.818735</td>\n",
       "      <td>-0.051347</td>\n",
       "      <td>...</td>\n",
       "      <td>-0.060766</td>\n",
       "      <td>-0.025306</td>\n",
       "      <td>0.001016</td>\n",
       "      <td>0.036474</td>\n",
       "      <td>-0.000123</td>\n",
       "      <td>-0.023450</td>\n",
       "      <td>0.134138</td>\n",
       "      <td>0.031696</td>\n",
       "      <td>-0.035638</td>\n",
       "      <td>-0.023020</td>\n",
       "    </tr>\n",
       "    <tr>\n",
       "      <th>medianmarechprebal90</th>\n",
       "      <td>0.039300</td>\n",
       "      <td>-0.000859</td>\n",
       "      <td>0.037495</td>\n",
       "      <td>0.036382</td>\n",
       "      <td>0.027170</td>\n",
       "      <td>0.029547</td>\n",
       "      <td>-0.001086</td>\n",
       "      <td>0.004158</td>\n",
       "      <td>0.124646</td>\n",
       "      <td>0.013463</td>\n",
       "      <td>...</td>\n",
       "      <td>-0.043381</td>\n",
       "      <td>-0.033878</td>\n",
       "      <td>0.001884</td>\n",
       "      <td>0.030534</td>\n",
       "      <td>-0.000926</td>\n",
       "      <td>-0.036412</td>\n",
       "      <td>0.027130</td>\n",
       "      <td>0.032453</td>\n",
       "      <td>-0.031761</td>\n",
       "      <td>-0.031211</td>\n",
       "    </tr>\n",
       "    <tr>\n",
       "      <th>cnt_da_rech30</th>\n",
       "      <td>0.003827</td>\n",
       "      <td>0.001564</td>\n",
       "      <td>0.000700</td>\n",
       "      <td>0.000660</td>\n",
       "      <td>-0.001105</td>\n",
       "      <td>-0.000548</td>\n",
       "      <td>-0.003467</td>\n",
       "      <td>-0.003628</td>\n",
       "      <td>-0.001837</td>\n",
       "      <td>0.002306</td>\n",
       "      <td>...</td>\n",
       "      <td>0.001852</td>\n",
       "      <td>0.001487</td>\n",
       "      <td>-0.000394</td>\n",
       "      <td>0.000049</td>\n",
       "      <td>-0.001986</td>\n",
       "      <td>0.003369</td>\n",
       "      <td>-0.000647</td>\n",
       "      <td>-0.001365</td>\n",
       "      <td>-0.000469</td>\n",
       "      <td>0.000383</td>\n",
       "    </tr>\n",
       "    <tr>\n",
       "      <th>fr_da_rech30</th>\n",
       "      <td>-0.000026</td>\n",
       "      <td>0.000892</td>\n",
       "      <td>-0.001500</td>\n",
       "      <td>-0.001570</td>\n",
       "      <td>-0.002558</td>\n",
       "      <td>-0.002345</td>\n",
       "      <td>-0.003626</td>\n",
       "      <td>-0.000074</td>\n",
       "      <td>-0.003230</td>\n",
       "      <td>-0.002732</td>\n",
       "      <td>...</td>\n",
       "      <td>-0.003211</td>\n",
       "      <td>-0.003395</td>\n",
       "      <td>-0.001070</td>\n",
       "      <td>-0.001141</td>\n",
       "      <td>-0.001623</td>\n",
       "      <td>-0.001593</td>\n",
       "      <td>-0.001069</td>\n",
       "      <td>-0.001623</td>\n",
       "      <td>0.001710</td>\n",
       "      <td>-0.000724</td>\n",
       "    </tr>\n",
       "    <tr>\n",
       "      <th>cnt_da_rech90</th>\n",
       "      <td>0.002999</td>\n",
       "      <td>0.001121</td>\n",
       "      <td>0.038814</td>\n",
       "      <td>0.031155</td>\n",
       "      <td>0.072255</td>\n",
       "      <td>0.056282</td>\n",
       "      <td>-0.003538</td>\n",
       "      <td>-0.001859</td>\n",
       "      <td>0.014779</td>\n",
       "      <td>0.011981</td>\n",
       "      <td>...</td>\n",
       "      <td>0.017976</td>\n",
       "      <td>0.026250</td>\n",
       "      <td>-0.001855</td>\n",
       "      <td>-0.003351</td>\n",
       "      <td>0.000907</td>\n",
       "      <td>0.020909</td>\n",
       "      <td>0.038019</td>\n",
       "      <td>-0.003094</td>\n",
       "      <td>0.013432</td>\n",
       "      <td>0.024049</td>\n",
       "    </tr>\n",
       "    <tr>\n",
       "      <th>fr_da_rech90</th>\n",
       "      <td>-0.005418</td>\n",
       "      <td>0.005395</td>\n",
       "      <td>0.020673</td>\n",
       "      <td>0.016437</td>\n",
       "      <td>0.046761</td>\n",
       "      <td>0.036886</td>\n",
       "      <td>-0.002395</td>\n",
       "      <td>-0.000203</td>\n",
       "      <td>0.016042</td>\n",
       "      <td>0.006989</td>\n",
       "      <td>...</td>\n",
       "      <td>0.010021</td>\n",
       "      <td>0.014935</td>\n",
       "      <td>-0.000754</td>\n",
       "      <td>-0.002234</td>\n",
       "      <td>0.001992</td>\n",
       "      <td>0.011501</td>\n",
       "      <td>0.021785</td>\n",
       "      <td>-0.000949</td>\n",
       "      <td>0.000355</td>\n",
       "      <td>0.001227</td>\n",
       "    </tr>\n",
       "    <tr>\n",
       "      <th>cnt_loans30</th>\n",
       "      <td>0.196283</td>\n",
       "      <td>-0.001826</td>\n",
       "      <td>0.366117</td>\n",
       "      <td>0.340387</td>\n",
       "      <td>0.180203</td>\n",
       "      <td>0.171595</td>\n",
       "      <td>0.001193</td>\n",
       "      <td>0.000380</td>\n",
       "      <td>-0.027611</td>\n",
       "      <td>0.765802</td>\n",
       "      <td>...</td>\n",
       "      <td>1.000000</td>\n",
       "      <td>0.957742</td>\n",
       "      <td>0.000251</td>\n",
       "      <td>-0.093145</td>\n",
       "      <td>0.015595</td>\n",
       "      <td>0.852906</td>\n",
       "      <td>0.143590</td>\n",
       "      <td>-0.097871</td>\n",
       "      <td>0.067835</td>\n",
       "      <td>0.033361</td>\n",
       "    </tr>\n",
       "    <tr>\n",
       "      <th>amnt_loans30</th>\n",
       "      <td>0.197272</td>\n",
       "      <td>-0.001726</td>\n",
       "      <td>0.471492</td>\n",
       "      <td>0.447869</td>\n",
       "      <td>0.233453</td>\n",
       "      <td>0.231906</td>\n",
       "      <td>0.000903</td>\n",
       "      <td>0.000536</td>\n",
       "      <td>0.008503</td>\n",
       "      <td>0.752296</td>\n",
       "      <td>...</td>\n",
       "      <td>0.957742</td>\n",
       "      <td>1.000000</td>\n",
       "      <td>-0.000073</td>\n",
       "      <td>-0.078531</td>\n",
       "      <td>0.014625</td>\n",
       "      <td>0.897962</td>\n",
       "      <td>0.329171</td>\n",
       "      <td>-0.087989</td>\n",
       "      <td>0.060420</td>\n",
       "      <td>0.030896</td>\n",
       "    </tr>\n",
       "    <tr>\n",
       "      <th>maxamnt_loans30</th>\n",
       "      <td>0.000248</td>\n",
       "      <td>-0.002764</td>\n",
       "      <td>-0.000028</td>\n",
       "      <td>0.000025</td>\n",
       "      <td>-0.000864</td>\n",
       "      <td>-0.001411</td>\n",
       "      <td>0.000928</td>\n",
       "      <td>0.000503</td>\n",
       "      <td>0.001000</td>\n",
       "      <td>0.000110</td>\n",
       "      <td>...</td>\n",
       "      <td>0.000251</td>\n",
       "      <td>-0.000073</td>\n",
       "      <td>1.000000</td>\n",
       "      <td>0.007782</td>\n",
       "      <td>0.003987</td>\n",
       "      <td>-0.001850</td>\n",
       "      <td>-0.000487</td>\n",
       "      <td>0.009330</td>\n",
       "      <td>-0.001511</td>\n",
       "      <td>-0.000914</td>\n",
       "    </tr>\n",
       "    <tr>\n",
       "      <th>medianamnt_loans30</th>\n",
       "      <td>0.044590</td>\n",
       "      <td>0.004664</td>\n",
       "      <td>-0.011611</td>\n",
       "      <td>-0.005592</td>\n",
       "      <td>-0.016482</td>\n",
       "      <td>-0.009467</td>\n",
       "      <td>0.001835</td>\n",
       "      <td>0.000061</td>\n",
       "      <td>0.028370</td>\n",
       "      <td>-0.067010</td>\n",
       "      <td>...</td>\n",
       "      <td>-0.093145</td>\n",
       "      <td>-0.078531</td>\n",
       "      <td>0.007782</td>\n",
       "      <td>1.000000</td>\n",
       "      <td>-0.003670</td>\n",
       "      <td>-0.067580</td>\n",
       "      <td>0.058377</td>\n",
       "      <td>0.911604</td>\n",
       "      <td>-0.006002</td>\n",
       "      <td>0.003182</td>\n",
       "    </tr>\n",
       "    <tr>\n",
       "      <th>cnt_loans90</th>\n",
       "      <td>0.004733</td>\n",
       "      <td>-0.000611</td>\n",
       "      <td>0.008962</td>\n",
       "      <td>0.009446</td>\n",
       "      <td>0.004012</td>\n",
       "      <td>0.005141</td>\n",
       "      <td>-0.000225</td>\n",
       "      <td>-0.000972</td>\n",
       "      <td>0.000093</td>\n",
       "      <td>0.014703</td>\n",
       "      <td>...</td>\n",
       "      <td>0.015595</td>\n",
       "      <td>0.014625</td>\n",
       "      <td>0.003987</td>\n",
       "      <td>-0.003670</td>\n",
       "      <td>1.000000</td>\n",
       "      <td>0.017697</td>\n",
       "      <td>0.001450</td>\n",
       "      <td>-0.002571</td>\n",
       "      <td>0.000588</td>\n",
       "      <td>-0.000475</td>\n",
       "    </tr>\n",
       "    <tr>\n",
       "      <th>amnt_loans90</th>\n",
       "      <td>0.199788</td>\n",
       "      <td>-0.002319</td>\n",
       "      <td>0.563496</td>\n",
       "      <td>0.567204</td>\n",
       "      <td>0.298943</td>\n",
       "      <td>0.327436</td>\n",
       "      <td>0.000870</td>\n",
       "      <td>0.000519</td>\n",
       "      <td>0.014067</td>\n",
       "      <td>0.685257</td>\n",
       "      <td>...</td>\n",
       "      <td>0.852906</td>\n",
       "      <td>0.897962</td>\n",
       "      <td>-0.001850</td>\n",
       "      <td>-0.067580</td>\n",
       "      <td>0.017697</td>\n",
       "      <td>1.000000</td>\n",
       "      <td>0.323417</td>\n",
       "      <td>-0.095160</td>\n",
       "      <td>0.052144</td>\n",
       "      <td>0.029654</td>\n",
       "    </tr>\n",
       "    <tr>\n",
       "      <th>maxamnt_loans90</th>\n",
       "      <td>0.084144</td>\n",
       "      <td>-0.001191</td>\n",
       "      <td>0.400199</td>\n",
       "      <td>0.397251</td>\n",
       "      <td>0.234212</td>\n",
       "      <td>0.251029</td>\n",
       "      <td>-0.001123</td>\n",
       "      <td>0.001524</td>\n",
       "      <td>0.148459</td>\n",
       "      <td>0.174105</td>\n",
       "      <td>...</td>\n",
       "      <td>0.143590</td>\n",
       "      <td>0.329171</td>\n",
       "      <td>-0.000487</td>\n",
       "      <td>0.058377</td>\n",
       "      <td>0.001450</td>\n",
       "      <td>0.323417</td>\n",
       "      <td>1.000000</td>\n",
       "      <td>0.032255</td>\n",
       "      <td>0.013383</td>\n",
       "      <td>0.029685</td>\n",
       "    </tr>\n",
       "    <tr>\n",
       "      <th>medianamnt_loans90</th>\n",
       "      <td>0.035747</td>\n",
       "      <td>0.002771</td>\n",
       "      <td>-0.037305</td>\n",
       "      <td>-0.034686</td>\n",
       "      <td>-0.035489</td>\n",
       "      <td>-0.034122</td>\n",
       "      <td>0.002771</td>\n",
       "      <td>-0.002239</td>\n",
       "      <td>0.021004</td>\n",
       "      <td>-0.071451</td>\n",
       "      <td>...</td>\n",
       "      <td>-0.097871</td>\n",
       "      <td>-0.087989</td>\n",
       "      <td>0.009330</td>\n",
       "      <td>0.911604</td>\n",
       "      <td>-0.002571</td>\n",
       "      <td>-0.095160</td>\n",
       "      <td>0.032255</td>\n",
       "      <td>1.000000</td>\n",
       "      <td>-0.013384</td>\n",
       "      <td>-0.010440</td>\n",
       "    </tr>\n",
       "    <tr>\n",
       "      <th>payback30</th>\n",
       "      <td>0.048330</td>\n",
       "      <td>0.001942</td>\n",
       "      <td>0.026922</td>\n",
       "      <td>0.019406</td>\n",
       "      <td>0.072974</td>\n",
       "      <td>0.067114</td>\n",
       "      <td>-0.002231</td>\n",
       "      <td>0.000079</td>\n",
       "      <td>-0.027358</td>\n",
       "      <td>0.043614</td>\n",
       "      <td>...</td>\n",
       "      <td>0.067835</td>\n",
       "      <td>0.060420</td>\n",
       "      <td>-0.001511</td>\n",
       "      <td>-0.006002</td>\n",
       "      <td>0.000588</td>\n",
       "      <td>0.052144</td>\n",
       "      <td>0.013383</td>\n",
       "      <td>-0.013384</td>\n",
       "      <td>1.000000</td>\n",
       "      <td>0.830350</td>\n",
       "    </tr>\n",
       "    <tr>\n",
       "      <th>payback90</th>\n",
       "      <td>0.049178</td>\n",
       "      <td>0.002205</td>\n",
       "      <td>0.047181</td>\n",
       "      <td>0.040806</td>\n",
       "      <td>0.095148</td>\n",
       "      <td>0.099505</td>\n",
       "      <td>-0.001582</td>\n",
       "      <td>0.000418</td>\n",
       "      <td>-0.014251</td>\n",
       "      <td>0.017358</td>\n",
       "      <td>...</td>\n",
       "      <td>0.033361</td>\n",
       "      <td>0.030896</td>\n",
       "      <td>-0.000914</td>\n",
       "      <td>0.003182</td>\n",
       "      <td>-0.000475</td>\n",
       "      <td>0.029654</td>\n",
       "      <td>0.029685</td>\n",
       "      <td>-0.010440</td>\n",
       "      <td>0.830350</td>\n",
       "      <td>1.000000</td>\n",
       "    </tr>\n",
       "  </tbody>\n",
       "</table>\n",
       "<p>33 rows × 33 columns</p>\n",
       "</div>"
      ],
      "text/plain": [
       "                         label       aon  daily_decr30  daily_decr90  \\\n",
       "label                 1.000000 -0.003785      0.168298      0.166151   \n",
       "aon                  -0.003785  1.000000      0.001104      0.000374   \n",
       "daily_decr30          0.168298  0.001104      1.000000      0.977704   \n",
       "daily_decr90          0.166151  0.000374      0.977704      1.000000   \n",
       "rental30              0.058084 -0.000960      0.442066      0.434685   \n",
       "rental90              0.075521 -0.000790      0.458977      0.471730   \n",
       "last_rech_date_ma     0.003728  0.001692      0.000487      0.000908   \n",
       "last_rech_date_da     0.001711 -0.001693     -0.001636     -0.001886   \n",
       "last_rech_amt_ma      0.131805  0.004256      0.275837      0.264130   \n",
       "cnt_ma_rech30         0.237331 -0.003148      0.451385      0.426708   \n",
       "fr_ma_rech30          0.001330 -0.001163     -0.000577     -0.000343   \n",
       "sumamnt_ma_rech30     0.202828  0.000707      0.636536      0.603886   \n",
       "medianamnt_ma_rech30  0.141491  0.004306      0.295356      0.282959   \n",
       "medianmarechprebal30 -0.004829  0.003930     -0.001153     -0.000746   \n",
       "cnt_ma_rech90         0.236393 -0.002725      0.587338      0.593069   \n",
       "fr_ma_rech90          0.084386  0.004401     -0.078300     -0.079530   \n",
       "sumamnt_ma_rech90     0.205794  0.001011      0.762981      0.768817   \n",
       "medianamnt_ma_rech90  0.120855  0.004909      0.257846      0.250518   \n",
       "medianmarechprebal90  0.039300 -0.000859      0.037495      0.036382   \n",
       "cnt_da_rech30         0.003827  0.001564      0.000700      0.000660   \n",
       "fr_da_rech30         -0.000026  0.000892     -0.001500     -0.001570   \n",
       "cnt_da_rech90         0.002999  0.001121      0.038814      0.031155   \n",
       "fr_da_rech90         -0.005418  0.005395      0.020673      0.016437   \n",
       "cnt_loans30           0.196283 -0.001826      0.366117      0.340387   \n",
       "amnt_loans30          0.197272 -0.001726      0.471492      0.447869   \n",
       "maxamnt_loans30       0.000248 -0.002764     -0.000028      0.000025   \n",
       "medianamnt_loans30    0.044590  0.004664     -0.011611     -0.005592   \n",
       "cnt_loans90           0.004733 -0.000611      0.008962      0.009446   \n",
       "amnt_loans90          0.199788 -0.002319      0.563496      0.567204   \n",
       "maxamnt_loans90       0.084144 -0.001191      0.400199      0.397251   \n",
       "medianamnt_loans90    0.035747  0.002771     -0.037305     -0.034686   \n",
       "payback30             0.048330  0.001942      0.026922      0.019406   \n",
       "payback90             0.049178  0.002205      0.047181      0.040806   \n",
       "\n",
       "                      rental30  rental90  last_rech_date_ma  \\\n",
       "label                 0.058084  0.075521           0.003728   \n",
       "aon                  -0.000960 -0.000790           0.001692   \n",
       "daily_decr30          0.442066  0.458977           0.000487   \n",
       "daily_decr90          0.434685  0.471730           0.000908   \n",
       "rental30              1.000000  0.955237          -0.001095   \n",
       "rental90              0.955237  1.000000          -0.001688   \n",
       "last_rech_date_ma    -0.001095 -0.001688           1.000000   \n",
       "last_rech_date_da     0.003262  0.002794           0.001790   \n",
       "last_rech_amt_ma      0.127272  0.121416          -0.000147   \n",
       "cnt_ma_rech30         0.233343  0.230260           0.004311   \n",
       "fr_ma_rech30         -0.001219 -0.000503          -0.001629   \n",
       "sumamnt_ma_rech30     0.272649  0.259709           0.002105   \n",
       "medianamnt_ma_rech30  0.129853  0.120242          -0.001358   \n",
       "medianmarechprebal30 -0.001415 -0.001237           0.004071   \n",
       "cnt_ma_rech90         0.312118  0.345293           0.004263   \n",
       "fr_ma_rech90         -0.033529 -0.036524           0.001414   \n",
       "sumamnt_ma_rech90     0.342306  0.360601           0.002243   \n",
       "medianamnt_ma_rech90  0.110356  0.103151          -0.000726   \n",
       "medianmarechprebal90  0.027170  0.029547          -0.001086   \n",
       "cnt_da_rech30        -0.001105 -0.000548          -0.003467   \n",
       "fr_da_rech30         -0.002558 -0.002345          -0.003626   \n",
       "cnt_da_rech90         0.072255  0.056282          -0.003538   \n",
       "fr_da_rech90          0.046761  0.036886          -0.002395   \n",
       "cnt_loans30           0.180203  0.171595           0.001193   \n",
       "amnt_loans30          0.233453  0.231906           0.000903   \n",
       "maxamnt_loans30      -0.000864 -0.001411           0.000928   \n",
       "medianamnt_loans30   -0.016482 -0.009467           0.001835   \n",
       "cnt_loans90           0.004012  0.005141          -0.000225   \n",
       "amnt_loans90          0.298943  0.327436           0.000870   \n",
       "maxamnt_loans90       0.234212  0.251029          -0.001123   \n",
       "medianamnt_loans90   -0.035489 -0.034122           0.002771   \n",
       "payback30             0.072974  0.067114          -0.002231   \n",
       "payback90             0.095148  0.099505          -0.001582   \n",
       "\n",
       "                      last_rech_date_da  last_rech_amt_ma  cnt_ma_rech30  ...  \\\n",
       "label                          0.001711          0.131805       0.237331  ...   \n",
       "aon                           -0.001693          0.004256      -0.003148  ...   \n",
       "daily_decr30                  -0.001636          0.275837       0.451385  ...   \n",
       "daily_decr90                  -0.001886          0.264130       0.426708  ...   \n",
       "rental30                       0.003262          0.127272       0.233343  ...   \n",
       "rental90                       0.002794          0.121416       0.230260  ...   \n",
       "last_rech_date_ma              0.001790         -0.000147       0.004311  ...   \n",
       "last_rech_date_da              1.000000         -0.000149       0.001549  ...   \n",
       "last_rech_amt_ma              -0.000149          1.000000      -0.002661  ...   \n",
       "cnt_ma_rech30                  0.001549         -0.002661       1.000000  ...   \n",
       "fr_ma_rech30                   0.001158          0.002876       0.001669  ...   \n",
       "sumamnt_ma_rech30              0.000046          0.440821       0.656986  ...   \n",
       "medianamnt_ma_rech30           0.001037          0.794646      -0.011792  ...   \n",
       "medianmarechprebal30           0.002849         -0.002342       0.000082  ...   \n",
       "cnt_ma_rech90                  0.001272          0.016706       0.886434  ...   \n",
       "fr_ma_rech90                   0.000798          0.106265      -0.152759  ...   \n",
       "sumamnt_ma_rech90             -0.000414          0.418735       0.584060  ...   \n",
       "medianamnt_ma_rech90           0.000219          0.818735      -0.051347  ...   \n",
       "medianmarechprebal90           0.004158          0.124646       0.013463  ...   \n",
       "cnt_da_rech30                 -0.003628         -0.001837       0.002306  ...   \n",
       "fr_da_rech30                  -0.000074         -0.003230      -0.002732  ...   \n",
       "cnt_da_rech90                 -0.001859          0.014779       0.011981  ...   \n",
       "fr_da_rech90                  -0.000203          0.016042       0.006989  ...   \n",
       "cnt_loans30                    0.000380         -0.027611       0.765802  ...   \n",
       "amnt_loans30                   0.000536          0.008503       0.752296  ...   \n",
       "maxamnt_loans30                0.000503          0.001000       0.000110  ...   \n",
       "medianamnt_loans30             0.000061          0.028370      -0.067010  ...   \n",
       "cnt_loans90                   -0.000972          0.000093       0.014703  ...   \n",
       "amnt_loans90                   0.000519          0.014067       0.685257  ...   \n",
       "maxamnt_loans90                0.001524          0.148459       0.174105  ...   \n",
       "medianamnt_loans90            -0.002239          0.021004      -0.071451  ...   \n",
       "payback30                      0.000079         -0.027358       0.043614  ...   \n",
       "payback90                      0.000418         -0.014251       0.017358  ...   \n",
       "\n",
       "                      cnt_loans30  amnt_loans30  maxamnt_loans30  \\\n",
       "label                    0.196283      0.197272         0.000248   \n",
       "aon                     -0.001826     -0.001726        -0.002764   \n",
       "daily_decr30             0.366117      0.471492        -0.000028   \n",
       "daily_decr90             0.340387      0.447869         0.000025   \n",
       "rental30                 0.180203      0.233453        -0.000864   \n",
       "rental90                 0.171595      0.231906        -0.001411   \n",
       "last_rech_date_ma        0.001193      0.000903         0.000928   \n",
       "last_rech_date_da        0.000380      0.000536         0.000503   \n",
       "last_rech_amt_ma        -0.027611      0.008503         0.001000   \n",
       "cnt_ma_rech30            0.765802      0.752296         0.000110   \n",
       "fr_ma_rech30             0.002666      0.002470        -0.001100   \n",
       "sumamnt_ma_rech30        0.491864      0.531079         0.001633   \n",
       "medianamnt_ma_rech30    -0.029788      0.007126         0.001985   \n",
       "medianmarechprebal30    -0.000211      0.000134        -0.002176   \n",
       "cnt_ma_rech90            0.689003      0.707559        -0.000573   \n",
       "fr_ma_rech90            -0.119081     -0.123663         0.001635   \n",
       "sumamnt_ma_rech90        0.442767      0.508600         0.001152   \n",
       "medianamnt_ma_rech90    -0.060766     -0.025306         0.001016   \n",
       "medianmarechprebal90    -0.043381     -0.033878         0.001884   \n",
       "cnt_da_rech30            0.001852      0.001487        -0.000394   \n",
       "fr_da_rech30            -0.003211     -0.003395        -0.001070   \n",
       "cnt_da_rech90            0.017976      0.026250        -0.001855   \n",
       "fr_da_rech90             0.010021      0.014935        -0.000754   \n",
       "cnt_loans30              1.000000      0.957742         0.000251   \n",
       "amnt_loans30             0.957742      1.000000        -0.000073   \n",
       "maxamnt_loans30          0.000251     -0.000073         1.000000   \n",
       "medianamnt_loans30      -0.093145     -0.078531         0.007782   \n",
       "cnt_loans90              0.015595      0.014625         0.003987   \n",
       "amnt_loans90             0.852906      0.897962        -0.001850   \n",
       "maxamnt_loans90          0.143590      0.329171        -0.000487   \n",
       "medianamnt_loans90      -0.097871     -0.087989         0.009330   \n",
       "payback30                0.067835      0.060420        -0.001511   \n",
       "payback90                0.033361      0.030896        -0.000914   \n",
       "\n",
       "                      medianamnt_loans30  cnt_loans90  amnt_loans90  \\\n",
       "label                           0.044590     0.004733      0.199788   \n",
       "aon                             0.004664    -0.000611     -0.002319   \n",
       "daily_decr30                   -0.011611     0.008962      0.563496   \n",
       "daily_decr90                   -0.005592     0.009446      0.567204   \n",
       "rental30                       -0.016482     0.004012      0.298943   \n",
       "rental90                       -0.009467     0.005141      0.327436   \n",
       "last_rech_date_ma               0.001835    -0.000225      0.000870   \n",
       "last_rech_date_da               0.000061    -0.000972      0.000519   \n",
       "last_rech_amt_ma                0.028370     0.000093      0.014067   \n",
       "cnt_ma_rech30                  -0.067010     0.014703      0.685257   \n",
       "fr_ma_rech30                   -0.000331     0.003368      0.002634   \n",
       "sumamnt_ma_rech30              -0.034460     0.009419      0.484761   \n",
       "medianamnt_ma_rech30            0.032477    -0.001143      0.014546   \n",
       "medianmarechprebal30           -0.002290     0.001342      0.000736   \n",
       "cnt_ma_rech90                  -0.053637     0.015754      0.783419   \n",
       "fr_ma_rech90                    0.020626    -0.002756     -0.132035   \n",
       "sumamnt_ma_rech90              -0.022134     0.011306      0.562609   \n",
       "medianamnt_ma_rech90            0.036474    -0.000123     -0.023450   \n",
       "medianmarechprebal90            0.030534    -0.000926     -0.036412   \n",
       "cnt_da_rech30                   0.000049    -0.001986      0.003369   \n",
       "fr_da_rech30                   -0.001141    -0.001623     -0.001593   \n",
       "cnt_da_rech90                  -0.003351     0.000907      0.020909   \n",
       "fr_da_rech90                   -0.002234     0.001992      0.011501   \n",
       "cnt_loans30                    -0.093145     0.015595      0.852906   \n",
       "amnt_loans30                   -0.078531     0.014625      0.897962   \n",
       "maxamnt_loans30                 0.007782     0.003987     -0.001850   \n",
       "medianamnt_loans30              1.000000    -0.003670     -0.067580   \n",
       "cnt_loans90                    -0.003670     1.000000      0.017697   \n",
       "amnt_loans90                   -0.067580     0.017697      1.000000   \n",
       "maxamnt_loans90                 0.058377     0.001450      0.323417   \n",
       "medianamnt_loans90              0.911604    -0.002571     -0.095160   \n",
       "payback30                      -0.006002     0.000588      0.052144   \n",
       "payback90                       0.003182    -0.000475      0.029654   \n",
       "\n",
       "                      maxamnt_loans90  medianamnt_loans90  payback30  \\\n",
       "label                        0.084144            0.035747   0.048330   \n",
       "aon                         -0.001191            0.002771   0.001942   \n",
       "daily_decr30                 0.400199           -0.037305   0.026922   \n",
       "daily_decr90                 0.397251           -0.034686   0.019406   \n",
       "rental30                     0.234212           -0.035489   0.072974   \n",
       "rental90                     0.251029           -0.034122   0.067114   \n",
       "last_rech_date_ma           -0.001123            0.002771  -0.002231   \n",
       "last_rech_date_da            0.001524           -0.002239   0.000079   \n",
       "last_rech_amt_ma             0.148459            0.021004  -0.027358   \n",
       "cnt_ma_rech30                0.174105           -0.071451   0.043614   \n",
       "fr_ma_rech30                -0.001890           -0.001292   0.001457   \n",
       "sumamnt_ma_rech30            0.257706           -0.042244   0.000110   \n",
       "medianamnt_ma_rech30         0.159612            0.022692  -0.018396   \n",
       "medianmarechprebal30        -0.002142           -0.001927   0.001517   \n",
       "cnt_ma_rech90                0.244602           -0.072481   0.011947   \n",
       "fr_ma_rech90                -0.045781            0.016963   0.036830   \n",
       "sumamnt_ma_rech90            0.321738           -0.042386  -0.026406   \n",
       "medianamnt_ma_rech90         0.134138            0.031696  -0.035638   \n",
       "medianmarechprebal90         0.027130            0.032453  -0.031761   \n",
       "cnt_da_rech30               -0.000647           -0.001365  -0.000469   \n",
       "fr_da_rech30                -0.001069           -0.001623   0.001710   \n",
       "cnt_da_rech90                0.038019           -0.003094   0.013432   \n",
       "fr_da_rech90                 0.021785           -0.000949   0.000355   \n",
       "cnt_loans30                  0.143590           -0.097871   0.067835   \n",
       "amnt_loans30                 0.329171           -0.087989   0.060420   \n",
       "maxamnt_loans30             -0.000487            0.009330  -0.001511   \n",
       "medianamnt_loans30           0.058377            0.911604  -0.006002   \n",
       "cnt_loans90                  0.001450           -0.002571   0.000588   \n",
       "amnt_loans90                 0.323417           -0.095160   0.052144   \n",
       "maxamnt_loans90              1.000000            0.032255   0.013383   \n",
       "medianamnt_loans90           0.032255            1.000000  -0.013384   \n",
       "payback30                    0.013383           -0.013384   1.000000   \n",
       "payback90                    0.029685           -0.010440   0.830350   \n",
       "\n",
       "                      payback90  \n",
       "label                  0.049178  \n",
       "aon                    0.002205  \n",
       "daily_decr30           0.047181  \n",
       "daily_decr90           0.040806  \n",
       "rental30               0.095148  \n",
       "rental90               0.099505  \n",
       "last_rech_date_ma     -0.001582  \n",
       "last_rech_date_da      0.000418  \n",
       "last_rech_amt_ma      -0.014251  \n",
       "cnt_ma_rech30          0.017358  \n",
       "fr_ma_rech30           0.000999  \n",
       "sumamnt_ma_rech30     -0.012599  \n",
       "medianamnt_ma_rech30  -0.002859  \n",
       "medianmarechprebal30   0.001813  \n",
       "cnt_ma_rech90         -0.003138  \n",
       "fr_ma_rech90           0.077541  \n",
       "sumamnt_ma_rech90     -0.029994  \n",
       "medianamnt_ma_rech90  -0.023020  \n",
       "medianmarechprebal90  -0.031211  \n",
       "cnt_da_rech30          0.000383  \n",
       "fr_da_rech30          -0.000724  \n",
       "cnt_da_rech90          0.024049  \n",
       "fr_da_rech90           0.001227  \n",
       "cnt_loans30            0.033361  \n",
       "amnt_loans30           0.030896  \n",
       "maxamnt_loans30       -0.000914  \n",
       "medianamnt_loans30     0.003182  \n",
       "cnt_loans90           -0.000475  \n",
       "amnt_loans90           0.029654  \n",
       "maxamnt_loans90        0.029685  \n",
       "medianamnt_loans90    -0.010440  \n",
       "payback30              0.830350  \n",
       "payback90              1.000000  \n",
       "\n",
       "[33 rows x 33 columns]"
      ]
     },
     "execution_count": 70,
     "metadata": {},
     "output_type": "execute_result"
    }
   ],
   "source": [
    "ds.corr()"
   ]
  },
  {
   "cell_type": "markdown",
   "metadata": {},
   "source": [
    "Most of the values are positively co related with each other"
   ]
  },
  {
   "cell_type": "code",
   "execution_count": 71,
   "metadata": {},
   "outputs": [
    {
     "data": {
      "image/png": "[encoded data removed]",
      "text/plain": [
       "<Figure size 720x576 with 2 Axes>"
      ]
     },
     "metadata": {
      "needs_background": "light"
     },
     "output_type": "display_data"
    }
   ],
   "source": [
    "# Checking the corelation through heatmap\n",
    "plt.figure(figsize=(10, 8))\n",
    "sns.heatmap(ds.corr(), annot=True)\n",
    "plt.show()"
   ]
  },
  {
   "cell_type": "markdown",
   "metadata": {},
   "source": [
    "# Univariate Analysis"
   ]
  },
  {
   "cell_type": "markdown",
   "metadata": {},
   "source": [
    "# Countplots for features"
   ]
  },
  {
   "cell_type": "code",
   "execution_count": 72,
   "metadata": {},
   "outputs": [
    {
     "data": {
      "image/png": "[encoded data removed]",
      "text/plain": [
       "<Figure size 360x216 with 1 Axes>"
      ]
     },
     "metadata": {
      "needs_background": "light"
     },
     "output_type": "display_data"
    }
   ],
   "source": [
    "plt.figure(figsize=(5, 3))\n",
    "sns.countplot(ds['label'])\n",
    "plt.show()"
   ]
  },
  {
   "cell_type": "markdown",
   "metadata": {},
   "source": [
    "It seems most of the people are Non-Defaulters"
   ]
  },
  {
   "cell_type": "code",
   "execution_count": 73,
   "metadata": {},
   "outputs": [
    {
     "data": {
      "image/png": "[encoded data removed]",
      "text/plain": [
       "<Figure size 720x216 with 1 Axes>"
      ]
     },
     "metadata": {
      "needs_background": "light"
     },
     "output_type": "display_data"
    }
   ],
   "source": [
    "plt.figure(figsize=(10, 3))\n",
    "sns.countplot(ds['pdate'])\n",
    "plt.show()"
   ]
  },
  {
   "cell_type": "markdown",
   "metadata": {},
   "source": [
    "# PiePlot"
   ]
  },
  {
   "cell_type": "markdown",
   "metadata": {},
   "source": [
    "A pie plot show the data in the form of pie chart"
   ]
  },
  {
   "cell_type": "code",
   "execution_count": 74,
   "metadata": {},
   "outputs": [
    {
     "data": {
      "image/png": "[encoded data removed]",
      "text/plain": [
       "<Figure size 288x288 with 1 Axes>"
      ]
     },
     "metadata": {},
     "output_type": "display_data"
    }
   ],
   "source": [
    "plt.figure(figsize=(4,4))\n",
    "plt.pie(ds['label'].value_counts(), labels=ds.label.unique())\n",
    "plt.show()"
   ]
  },
  {
   "cell_type": "markdown",
   "metadata": {},
   "source": [
    "# LabelEncoder: To change categorical data to number data"
   ]
  },
  {
   "cell_type": "code",
   "execution_count": 75,
   "metadata": {},
   "outputs": [],
   "source": [
    "le = LabelEncoder()\n",
    "ds['msisdn'] = le.fit_transform(ds['msisdn'])\n",
    "ds['pdate'] = le.fit_transform(ds['pdate'])"
   ]
  },
  {
   "cell_type": "code",
   "execution_count": 76,
   "metadata": {},
   "outputs": [
    {
     "data": {
      "text/plain": [
       "label                     int64\n",
       "msisdn                    int32\n",
       "aon                     float64\n",
       "daily_decr30            float64\n",
       "daily_decr90            float64\n",
       "rental30                float64\n",
       "rental90                float64\n",
       "last_rech_date_ma       float64\n",
       "last_rech_date_da       float64\n",
       "last_rech_amt_ma          int64\n",
       "cnt_ma_rech30             int64\n",
       "fr_ma_rech30            float64\n",
       "sumamnt_ma_rech30       float64\n",
       "medianamnt_ma_rech30    float64\n",
       "medianmarechprebal30    float64\n",
       "cnt_ma_rech90             int64\n",
       "fr_ma_rech90              int64\n",
       "sumamnt_ma_rech90         int64\n",
       "medianamnt_ma_rech90    float64\n",
       "medianmarechprebal90    float64\n",
       "cnt_da_rech30           float64\n",
       "fr_da_rech30            float64\n",
       "cnt_da_rech90             int64\n",
       "fr_da_rech90              int64\n",
       "cnt_loans30               int64\n",
       "amnt_loans30              int64\n",
       "maxamnt_loans30         float64\n",
       "medianamnt_loans30      float64\n",
       "cnt_loans90             float64\n",
       "amnt_loans90              int64\n",
       "maxamnt_loans90           int64\n",
       "medianamnt_loans90      float64\n",
       "payback30               float64\n",
       "payback90               float64\n",
       "pdate                     int32\n",
       "dtype: object"
      ]
     },
     "execution_count": 76,
     "metadata": {},
     "output_type": "execute_result"
    }
   ],
   "source": [
    "# After LabelEncoder, checking the data types of columns\n",
    "ds.dtypes"
   ]
  },
  {
   "cell_type": "markdown",
   "metadata": {},
   "source": [
    "# Plotting Outliers"
   ]
  },
  {
   "cell_type": "code",
   "execution_count": 77,
   "metadata": {},
   "outputs": [
    {
     "data": {
      "image/png": "[encoded data removed]",
      "text/plain": [
       "<Figure size 216x216 with 1 Axes>"
      ]
     },
     "metadata": {
      "needs_background": "light"
     },
     "output_type": "display_data"
    }
   ],
   "source": [
    "plt.figure(figsize=(3,3))\n",
    "sns.boxplot(ds['label'])\n",
    "plt.show()"
   ]
  },
  {
   "cell_type": "code",
   "execution_count": 78,
   "metadata": {},
   "outputs": [
    {
     "data": {
      "image/png": "[encoded data removed]",
      "text/plain": [
       "<Figure size 216x216 with 1 Axes>"
      ]
     },
     "metadata": {
      "needs_background": "light"
     },
     "output_type": "display_data"
    }
   ],
   "source": [
    "plt.figure(figsize=(3,3))\n",
    "sns.boxplot(ds['msisdn'])\n",
    "plt.show()"
   ]
  },
  {
   "cell_type": "code",
   "execution_count": 79,
   "metadata": {},
   "outputs": [
    {
     "data": {
      "image/png": "[encoded data removed]",
      "text/plain": [
       "<Figure size 216x216 with 1 Axes>"
      ]
     },
     "metadata": {
      "needs_background": "light"
     },
     "output_type": "display_data"
    }
   ],
   "source": [
    "plt.figure(figsize=(3,3))\n",
    "sns.boxplot(ds['daily_decr30'])\n",
    "plt.show()"
   ]
  },
  {
   "cell_type": "code",
   "execution_count": 80,
   "metadata": {},
   "outputs": [
    {
     "data": {
      "image/png": "[encoded data removed]",
      "text/plain": [
       "<Figure size 216x216 with 1 Axes>"
      ]
     },
     "metadata": {
      "needs_background": "light"
     },
     "output_type": "display_data"
    }
   ],
   "source": [
    "plt.figure(figsize=(3,3))\n",
    "sns.boxplot(ds['medianmarechprebal30'])\n",
    "plt.show()"
   ]
  },
  {
   "cell_type": "code",
   "execution_count": 81,
   "metadata": {},
   "outputs": [
    {
     "data": {
      "image/png": "[encoded data removed]",
      "text/plain": [
       "<Figure size 216x216 with 1 Axes>"
      ]
     },
     "metadata": {
      "needs_background": "light"
     },
     "output_type": "display_data"
    }
   ],
   "source": [
    "plt.figure(figsize=(3,3))\n",
    "sns.boxplot(ds['sumamnt_ma_rech90'])\n",
    "plt.show()"
   ]
  },
  {
   "cell_type": "code",
   "execution_count": 82,
   "metadata": {},
   "outputs": [
    {
     "data": {
      "image/png": "[encoded data removed]",
      "text/plain": [
       "<Figure size 216x216 with 1 Axes>"
      ]
     },
     "metadata": {
      "needs_background": "light"
     },
     "output_type": "display_data"
    }
   ],
   "source": [
    "plt.figure(figsize=(3,3))\n",
    "sns.boxplot(ds['medianamnt_loans90'])\n",
    "plt.show()"
   ]
  },
  {
   "cell_type": "code",
   "execution_count": 83,
   "metadata": {},
   "outputs": [
    {
     "data": {
      "image/png": "[encoded data removed]",
      "text/plain": [
       "<Figure size 216x216 with 1 Axes>"
      ]
     },
     "metadata": {
      "needs_background": "light"
     },
     "output_type": "display_data"
    }
   ],
   "source": [
    "plt.figure(figsize=(3,3))\n",
    "sns.boxplot(ds['payback30'])\n",
    "plt.show()"
   ]
  },
  {
   "cell_type": "code",
   "execution_count": 84,
   "metadata": {},
   "outputs": [
    {
     "data": {
      "image/png": "[encoded data removed]",
      "text/plain": [
       "<Figure size 216x216 with 1 Axes>"
      ]
     },
     "metadata": {
      "needs_background": "light"
     },
     "output_type": "display_data"
    }
   ],
   "source": [
    "plt.figure(figsize=(3,3))\n",
    "sns.boxplot(ds['medianamnt_ma_rech30'])\n",
    "plt.show()"
   ]
  },
  {
   "cell_type": "code",
   "execution_count": 85,
   "metadata": {},
   "outputs": [
    {
     "data": {
      "image/png": "[encoded data removed]",
      "text/plain": [
       "<Figure size 216x216 with 1 Axes>"
      ]
     },
     "metadata": {
      "needs_background": "light"
     },
     "output_type": "display_data"
    }
   ],
   "source": [
    "plt.figure(figsize=(3,3))\n",
    "sns.boxplot(ds['fr_ma_rech30'])\n",
    "plt.show()"
   ]
  },
  {
   "cell_type": "code",
   "execution_count": 86,
   "metadata": {},
   "outputs": [
    {
     "data": {
      "image/png": "[encoded data removed]",
      "text/plain": [
       "<Figure size 216x216 with 1 Axes>"
      ]
     },
     "metadata": {
      "needs_background": "light"
     },
     "output_type": "display_data"
    }
   ],
   "source": [
    "plt.figure(figsize=(3,3))\n",
    "sns.boxplot(ds['cnt_ma_rech90'])\n",
    "plt.show()"
   ]
  },
  {
   "cell_type": "markdown",
   "metadata": {},
   "source": [
    "From the above boxplot, it seems outliers are present in the dataset."
   ]
  },
  {
   "cell_type": "code",
   "execution_count": 87,
   "metadata": {},
   "outputs": [
    {
     "data": {
      "text/plain": [
       "array(['label', 'msisdn', 'aon', 'daily_decr30', 'daily_decr90',\n",
       "       'rental30', 'rental90', 'last_rech_date_ma', 'last_rech_date_da',\n",
       "       'last_rech_amt_ma', 'cnt_ma_rech30', 'fr_ma_rech30',\n",
       "       'sumamnt_ma_rech30', 'medianamnt_ma_rech30',\n",
       "       'medianmarechprebal30', 'cnt_ma_rech90', 'fr_ma_rech90',\n",
       "       'sumamnt_ma_rech90', 'medianamnt_ma_rech90',\n",
       "       'medianmarechprebal90', 'cnt_da_rech30', 'fr_da_rech30',\n",
       "       'cnt_da_rech90', 'fr_da_rech90', 'cnt_loans30', 'amnt_loans30',\n",
       "       'maxamnt_loans30', 'medianamnt_loans30', 'cnt_loans90',\n",
       "       'amnt_loans90', 'maxamnt_loans90', 'medianamnt_loans90',\n",
       "       'payback30', 'payback90', 'pdate'], dtype=object)"
      ]
     },
     "execution_count": 87,
     "metadata": {},
     "output_type": "execute_result"
    }
   ],
   "source": [
    "collist = ds.columns.values\n",
    "collist"
   ]
  },
  {
   "cell_type": "markdown",
   "metadata": {},
   "source": [
    "# Distributionplot: To check the skewness of data"
   ]
  },
  {
   "cell_type": "code",
   "execution_count": 88,
   "metadata": {},
   "outputs": [
    {
     "data": {
      "image/png": "[encoded data removed]",
      "text/plain": [
       "<Figure size 216x216 with 1 Axes>"
      ]
     },
     "metadata": {
      "needs_background": "light"
     },
     "output_type": "display_data"
    }
   ],
   "source": [
    "plt.figure(figsize=(3,3))\n",
    "sns.distplot(ds['daily_decr30'])\n",
    "plt.show()"
   ]
  },
  {
   "cell_type": "code",
   "execution_count": 89,
   "metadata": {},
   "outputs": [
    {
     "data": {
      "image/png": "[encoded data removed]",
      "text/plain": [
       "<Figure size 216x216 with 1 Axes>"
      ]
     },
     "metadata": {
      "needs_background": "light"
     },
     "output_type": "display_data"
    }
   ],
   "source": [
    "plt.figure(figsize=(3,3))\n",
    "sns.distplot(ds['last_rech_date_ma'])\n",
    "plt.show()"
   ]
  },
  {
   "cell_type": "code",
   "execution_count": 90,
   "metadata": {},
   "outputs": [
    {
     "data": {
      "image/png": "[encoded data removed]",
      "text/plain": [
       "<Figure size 216x216 with 1 Axes>"
      ]
     },
     "metadata": {
      "needs_background": "light"
     },
     "output_type": "display_data"
    }
   ],
   "source": [
    "plt.figure(figsize=(3,3))\n",
    "sns.distplot(ds['fr_ma_rech30'])\n",
    "plt.show()"
   ]
  },
  {
   "cell_type": "code",
   "execution_count": 91,
   "metadata": {},
   "outputs": [
    {
     "data": {
      "image/png": "[encoded data removed]",
      "text/plain": [
       "<Figure size 216x216 with 1 Axes>"
      ]
     },
     "metadata": {
      "needs_background": "light"
     },
     "output_type": "display_data"
    }
   ],
   "source": [
    "plt.figure(figsize=(3,3))\n",
    "sns.distplot(ds['medianamnt_ma_rech30'])\n",
    "plt.show()"
   ]
  },
  {
   "cell_type": "code",
   "execution_count": 92,
   "metadata": {},
   "outputs": [
    {
     "data": {
      "image/png": "[encoded data removed]",
      "text/plain": [
       "<Figure size 216x216 with 1 Axes>"
      ]
     },
     "metadata": {
      "needs_background": "light"
     },
     "output_type": "display_data"
    }
   ],
   "source": [
    "plt.figure(figsize=(3,3))\n",
    "sns.distplot(ds['sumamnt_ma_rech90'])\n",
    "plt.show()"
   ]
  },
  {
   "cell_type": "code",
   "execution_count": 93,
   "metadata": {},
   "outputs": [
    {
     "data": {
      "image/png": "[encoded data removed]",
      "text/plain": [
       "<Figure size 216x216 with 1 Axes>"
      ]
     },
     "metadata": {
      "needs_background": "light"
     },
     "output_type": "display_data"
    }
   ],
   "source": [
    "plt.figure(figsize=(3,3))\n",
    "sns.distplot(ds['medianamnt_ma_rech90'])\n",
    "plt.show()"
   ]
  },
  {
   "cell_type": "code",
   "execution_count": 94,
   "metadata": {},
   "outputs": [
    {
     "data": {
      "image/png": "[encoded data removed]",
      "text/plain": [
       "<Figure size 216x216 with 1 Axes>"
      ]
     },
     "metadata": {
      "needs_background": "light"
     },
     "output_type": "display_data"
    }
   ],
   "source": [
    "plt.figure(figsize=(3,3))\n",
    "sns.distplot(ds['cnt_loans30'])\n",
    "plt.show()"
   ]
  },
  {
   "cell_type": "code",
   "execution_count": 95,
   "metadata": {},
   "outputs": [
    {
     "data": {
      "image/png": "[encoded data removed]",
      "text/plain": [
       "<Figure size 216x216 with 1 Axes>"
      ]
     },
     "metadata": {
      "needs_background": "light"
     },
     "output_type": "display_data"
    }
   ],
   "source": [
    "plt.figure(figsize=(3,3))\n",
    "sns.distplot(ds['amnt_loans30'])\n",
    "plt.show()"
   ]
  },
  {
   "cell_type": "code",
   "execution_count": 96,
   "metadata": {},
   "outputs": [],
   "source": [
    "#plt.figure(figsize=(3,3))\n",
    "#sns.distplot(ds['medianamnt_loans30'])\n",
    "#plt.show()"
   ]
  },
  {
   "cell_type": "code",
   "execution_count": 97,
   "metadata": {},
   "outputs": [
    {
     "data": {
      "image/png": "[encoded data removed]",
      "text/plain": [
       "<Figure size 216x216 with 1 Axes>"
      ]
     },
     "metadata": {
      "needs_background": "light"
     },
     "output_type": "display_data"
    }
   ],
   "source": [
    "plt.figure(figsize=(3,3))\n",
    "sns.distplot(ds['amnt_loans90'])\n",
    "plt.show()"
   ]
  },
  {
   "cell_type": "code",
   "execution_count": 98,
   "metadata": {},
   "outputs": [
    {
     "ename": "RuntimeError",
     "evalue": "Selected KDE bandwidth is 0. Cannot estiamte density.",
     "output_type": "error",
     "traceback": [
      "\u001b[1;31m---------------------------------------------------------------------------\u001b[0m",
      "\u001b[1;31mValueError\u001b[0m                                Traceback (most recent call last)",
      "\u001b[1;32mC:\\ProgramData\\Anaconda3\\lib\\site-packages\\statsmodels\\nonparametric\\kde.py\u001b[0m in \u001b[0;36mkdensityfft\u001b[1;34m(X, kernel, bw, weights, gridsize, adjust, clip, cut, retgrid)\u001b[0m\n\u001b[0;32m    450\u001b[0m     \u001b[1;32mtry\u001b[0m\u001b[1;33m:\u001b[0m\u001b[1;33m\u001b[0m\u001b[1;33m\u001b[0m\u001b[0m\n\u001b[1;32m--> 451\u001b[1;33m         \u001b[0mbw\u001b[0m \u001b[1;33m=\u001b[0m \u001b[0mfloat\u001b[0m\u001b[1;33m(\u001b[0m\u001b[0mbw\u001b[0m\u001b[1;33m)\u001b[0m\u001b[1;33m\u001b[0m\u001b[1;33m\u001b[0m\u001b[0m\n\u001b[0m\u001b[0;32m    452\u001b[0m     \u001b[1;32mexcept\u001b[0m\u001b[1;33m:\u001b[0m\u001b[1;33m\u001b[0m\u001b[1;33m\u001b[0m\u001b[0m\n",
      "\u001b[1;31mValueError\u001b[0m: could not convert string to float: 'scott'",
      "\nDuring handling of the above exception, another exception occurred:\n",
      "\u001b[1;31mRuntimeError\u001b[0m                              Traceback (most recent call last)",
      "\u001b[1;32m<ipython-input-98-303fb98ac030>\u001b[0m in \u001b[0;36m<module>\u001b[1;34m\u001b[0m\n\u001b[0;32m      1\u001b[0m \u001b[0mplt\u001b[0m\u001b[1;33m.\u001b[0m\u001b[0mfigure\u001b[0m\u001b[1;33m(\u001b[0m\u001b[0mfigsize\u001b[0m\u001b[1;33m=\u001b[0m\u001b[1;33m(\u001b[0m\u001b[1;36m3\u001b[0m\u001b[1;33m,\u001b[0m\u001b[1;36m3\u001b[0m\u001b[1;33m)\u001b[0m\u001b[1;33m)\u001b[0m\u001b[1;33m\u001b[0m\u001b[1;33m\u001b[0m\u001b[0m\n\u001b[1;32m----> 2\u001b[1;33m \u001b[0msns\u001b[0m\u001b[1;33m.\u001b[0m\u001b[0mdistplot\u001b[0m\u001b[1;33m(\u001b[0m\u001b[0mds\u001b[0m\u001b[1;33m[\u001b[0m\u001b[1;34m'maxamnt_loans90'\u001b[0m\u001b[1;33m]\u001b[0m\u001b[1;33m)\u001b[0m\u001b[1;33m\u001b[0m\u001b[1;33m\u001b[0m\u001b[0m\n\u001b[0m\u001b[0;32m      3\u001b[0m \u001b[0mplt\u001b[0m\u001b[1;33m.\u001b[0m\u001b[0mshow\u001b[0m\u001b[1;33m(\u001b[0m\u001b[1;33m)\u001b[0m\u001b[1;33m\u001b[0m\u001b[1;33m\u001b[0m\u001b[0m\n",
      "\u001b[1;32mC:\\ProgramData\\Anaconda3\\lib\\site-packages\\seaborn\\distributions.py\u001b[0m in \u001b[0;36mdistplot\u001b[1;34m(a, bins, hist, kde, rug, fit, hist_kws, kde_kws, rug_kws, fit_kws, color, vertical, norm_hist, axlabel, label, ax)\u001b[0m\n\u001b[0;32m    231\u001b[0m     \u001b[1;32mif\u001b[0m \u001b[0mkde\u001b[0m\u001b[1;33m:\u001b[0m\u001b[1;33m\u001b[0m\u001b[1;33m\u001b[0m\u001b[0m\n\u001b[0;32m    232\u001b[0m         \u001b[0mkde_color\u001b[0m \u001b[1;33m=\u001b[0m \u001b[0mkde_kws\u001b[0m\u001b[1;33m.\u001b[0m\u001b[0mpop\u001b[0m\u001b[1;33m(\u001b[0m\u001b[1;34m\"color\"\u001b[0m\u001b[1;33m,\u001b[0m \u001b[0mcolor\u001b[0m\u001b[1;33m)\u001b[0m\u001b[1;33m\u001b[0m\u001b[1;33m\u001b[0m\u001b[0m\n\u001b[1;32m--> 233\u001b[1;33m         \u001b[0mkdeplot\u001b[0m\u001b[1;33m(\u001b[0m\u001b[0ma\u001b[0m\u001b[1;33m,\u001b[0m \u001b[0mvertical\u001b[0m\u001b[1;33m=\u001b[0m\u001b[0mvertical\u001b[0m\u001b[1;33m,\u001b[0m \u001b[0max\u001b[0m\u001b[1;33m=\u001b[0m\u001b[0max\u001b[0m\u001b[1;33m,\u001b[0m \u001b[0mcolor\u001b[0m\u001b[1;33m=\u001b[0m\u001b[0mkde_color\u001b[0m\u001b[1;33m,\u001b[0m \u001b[1;33m**\u001b[0m\u001b[0mkde_kws\u001b[0m\u001b[1;33m)\u001b[0m\u001b[1;33m\u001b[0m\u001b[1;33m\u001b[0m\u001b[0m\n\u001b[0m\u001b[0;32m    234\u001b[0m         \u001b[1;32mif\u001b[0m \u001b[0mkde_color\u001b[0m \u001b[1;33m!=\u001b[0m \u001b[0mcolor\u001b[0m\u001b[1;33m:\u001b[0m\u001b[1;33m\u001b[0m\u001b[1;33m\u001b[0m\u001b[0m\n\u001b[0;32m    235\u001b[0m             \u001b[0mkde_kws\u001b[0m\u001b[1;33m[\u001b[0m\u001b[1;34m\"color\"\u001b[0m\u001b[1;33m]\u001b[0m \u001b[1;33m=\u001b[0m \u001b[0mkde_color\u001b[0m\u001b[1;33m\u001b[0m\u001b[1;33m\u001b[0m\u001b[0m\n",
      "\u001b[1;32mC:\\ProgramData\\Anaconda3\\lib\\site-packages\\seaborn\\distributions.py\u001b[0m in \u001b[0;36mkdeplot\u001b[1;34m(data, data2, shade, vertical, kernel, bw, gridsize, cut, clip, legend, cumulative, shade_lowest, cbar, cbar_ax, cbar_kws, ax, **kwargs)\u001b[0m\n\u001b[0;32m    703\u001b[0m         ax = _univariate_kdeplot(data, shade, vertical, kernel, bw,\n\u001b[0;32m    704\u001b[0m                                  \u001b[0mgridsize\u001b[0m\u001b[1;33m,\u001b[0m \u001b[0mcut\u001b[0m\u001b[1;33m,\u001b[0m \u001b[0mclip\u001b[0m\u001b[1;33m,\u001b[0m \u001b[0mlegend\u001b[0m\u001b[1;33m,\u001b[0m \u001b[0max\u001b[0m\u001b[1;33m,\u001b[0m\u001b[1;33m\u001b[0m\u001b[1;33m\u001b[0m\u001b[0m\n\u001b[1;32m--> 705\u001b[1;33m                                  cumulative=cumulative, **kwargs)\n\u001b[0m\u001b[0;32m    706\u001b[0m \u001b[1;33m\u001b[0m\u001b[0m\n\u001b[0;32m    707\u001b[0m     \u001b[1;32mreturn\u001b[0m \u001b[0max\u001b[0m\u001b[1;33m\u001b[0m\u001b[1;33m\u001b[0m\u001b[0m\n",
      "\u001b[1;32mC:\\ProgramData\\Anaconda3\\lib\\site-packages\\seaborn\\distributions.py\u001b[0m in \u001b[0;36m_univariate_kdeplot\u001b[1;34m(data, shade, vertical, kernel, bw, gridsize, cut, clip, legend, ax, cumulative, **kwargs)\u001b[0m\n\u001b[0;32m    293\u001b[0m         x, y = _statsmodels_univariate_kde(data, kernel, bw,\n\u001b[0;32m    294\u001b[0m                                            \u001b[0mgridsize\u001b[0m\u001b[1;33m,\u001b[0m \u001b[0mcut\u001b[0m\u001b[1;33m,\u001b[0m \u001b[0mclip\u001b[0m\u001b[1;33m,\u001b[0m\u001b[1;33m\u001b[0m\u001b[1;33m\u001b[0m\u001b[0m\n\u001b[1;32m--> 295\u001b[1;33m                                            cumulative=cumulative)\n\u001b[0m\u001b[0;32m    296\u001b[0m     \u001b[1;32melse\u001b[0m\u001b[1;33m:\u001b[0m\u001b[1;33m\u001b[0m\u001b[1;33m\u001b[0m\u001b[0m\n\u001b[0;32m    297\u001b[0m         \u001b[1;31m# Fall back to scipy if missing statsmodels\u001b[0m\u001b[1;33m\u001b[0m\u001b[1;33m\u001b[0m\u001b[1;33m\u001b[0m\u001b[0m\n",
      "\u001b[1;32mC:\\ProgramData\\Anaconda3\\lib\\site-packages\\seaborn\\distributions.py\u001b[0m in \u001b[0;36m_statsmodels_univariate_kde\u001b[1;34m(data, kernel, bw, gridsize, cut, clip, cumulative)\u001b[0m\n\u001b[0;32m    365\u001b[0m     \u001b[0mfft\u001b[0m \u001b[1;33m=\u001b[0m \u001b[0mkernel\u001b[0m \u001b[1;33m==\u001b[0m \u001b[1;34m\"gau\"\u001b[0m\u001b[1;33m\u001b[0m\u001b[1;33m\u001b[0m\u001b[0m\n\u001b[0;32m    366\u001b[0m     \u001b[0mkde\u001b[0m \u001b[1;33m=\u001b[0m \u001b[0msmnp\u001b[0m\u001b[1;33m.\u001b[0m\u001b[0mKDEUnivariate\u001b[0m\u001b[1;33m(\u001b[0m\u001b[0mdata\u001b[0m\u001b[1;33m)\u001b[0m\u001b[1;33m\u001b[0m\u001b[1;33m\u001b[0m\u001b[0m\n\u001b[1;32m--> 367\u001b[1;33m     \u001b[0mkde\u001b[0m\u001b[1;33m.\u001b[0m\u001b[0mfit\u001b[0m\u001b[1;33m(\u001b[0m\u001b[0mkernel\u001b[0m\u001b[1;33m,\u001b[0m \u001b[0mbw\u001b[0m\u001b[1;33m,\u001b[0m \u001b[0mfft\u001b[0m\u001b[1;33m,\u001b[0m \u001b[0mgridsize\u001b[0m\u001b[1;33m=\u001b[0m\u001b[0mgridsize\u001b[0m\u001b[1;33m,\u001b[0m \u001b[0mcut\u001b[0m\u001b[1;33m=\u001b[0m\u001b[0mcut\u001b[0m\u001b[1;33m,\u001b[0m \u001b[0mclip\u001b[0m\u001b[1;33m=\u001b[0m\u001b[0mclip\u001b[0m\u001b[1;33m)\u001b[0m\u001b[1;33m\u001b[0m\u001b[1;33m\u001b[0m\u001b[0m\n\u001b[0m\u001b[0;32m    368\u001b[0m     \u001b[1;32mif\u001b[0m \u001b[0mcumulative\u001b[0m\u001b[1;33m:\u001b[0m\u001b[1;33m\u001b[0m\u001b[1;33m\u001b[0m\u001b[0m\n\u001b[0;32m    369\u001b[0m         \u001b[0mgrid\u001b[0m\u001b[1;33m,\u001b[0m \u001b[0my\u001b[0m \u001b[1;33m=\u001b[0m \u001b[0mkde\u001b[0m\u001b[1;33m.\u001b[0m\u001b[0msupport\u001b[0m\u001b[1;33m,\u001b[0m \u001b[0mkde\u001b[0m\u001b[1;33m.\u001b[0m\u001b[0mcdf\u001b[0m\u001b[1;33m\u001b[0m\u001b[1;33m\u001b[0m\u001b[0m\n",
      "\u001b[1;32mC:\\ProgramData\\Anaconda3\\lib\\site-packages\\statsmodels\\nonparametric\\kde.py\u001b[0m in \u001b[0;36mfit\u001b[1;34m(self, kernel, bw, fft, weights, gridsize, adjust, cut, clip)\u001b[0m\n\u001b[0;32m    138\u001b[0m             density, grid, bw = kdensityfft(endog, kernel=kernel, bw=bw,\n\u001b[0;32m    139\u001b[0m                     \u001b[0madjust\u001b[0m\u001b[1;33m=\u001b[0m\u001b[0madjust\u001b[0m\u001b[1;33m,\u001b[0m \u001b[0mweights\u001b[0m\u001b[1;33m=\u001b[0m\u001b[0mweights\u001b[0m\u001b[1;33m,\u001b[0m \u001b[0mgridsize\u001b[0m\u001b[1;33m=\u001b[0m\u001b[0mgridsize\u001b[0m\u001b[1;33m,\u001b[0m\u001b[1;33m\u001b[0m\u001b[1;33m\u001b[0m\u001b[0m\n\u001b[1;32m--> 140\u001b[1;33m                     clip=clip, cut=cut)\n\u001b[0m\u001b[0;32m    141\u001b[0m         \u001b[1;32melse\u001b[0m\u001b[1;33m:\u001b[0m\u001b[1;33m\u001b[0m\u001b[1;33m\u001b[0m\u001b[0m\n\u001b[0;32m    142\u001b[0m             density, grid, bw = kdensity(endog, kernel=kernel, bw=bw,\n",
      "\u001b[1;32mC:\\ProgramData\\Anaconda3\\lib\\site-packages\\statsmodels\\nonparametric\\kde.py\u001b[0m in \u001b[0;36mkdensityfft\u001b[1;34m(X, kernel, bw, weights, gridsize, adjust, clip, cut, retgrid)\u001b[0m\n\u001b[0;32m    451\u001b[0m         \u001b[0mbw\u001b[0m \u001b[1;33m=\u001b[0m \u001b[0mfloat\u001b[0m\u001b[1;33m(\u001b[0m\u001b[0mbw\u001b[0m\u001b[1;33m)\u001b[0m\u001b[1;33m\u001b[0m\u001b[1;33m\u001b[0m\u001b[0m\n\u001b[0;32m    452\u001b[0m     \u001b[1;32mexcept\u001b[0m\u001b[1;33m:\u001b[0m\u001b[1;33m\u001b[0m\u001b[1;33m\u001b[0m\u001b[0m\n\u001b[1;32m--> 453\u001b[1;33m         \u001b[0mbw\u001b[0m \u001b[1;33m=\u001b[0m \u001b[0mbandwidths\u001b[0m\u001b[1;33m.\u001b[0m\u001b[0mselect_bandwidth\u001b[0m\u001b[1;33m(\u001b[0m\u001b[0mX\u001b[0m\u001b[1;33m,\u001b[0m \u001b[0mbw\u001b[0m\u001b[1;33m,\u001b[0m \u001b[0mkern\u001b[0m\u001b[1;33m)\u001b[0m \u001b[1;31m# will cross-val fit this pattern?\u001b[0m\u001b[1;33m\u001b[0m\u001b[1;33m\u001b[0m\u001b[0m\n\u001b[0m\u001b[0;32m    454\u001b[0m     \u001b[0mbw\u001b[0m \u001b[1;33m*=\u001b[0m \u001b[0madjust\u001b[0m\u001b[1;33m\u001b[0m\u001b[1;33m\u001b[0m\u001b[0m\n\u001b[0;32m    455\u001b[0m \u001b[1;33m\u001b[0m\u001b[0m\n",
      "\u001b[1;32mC:\\ProgramData\\Anaconda3\\lib\\site-packages\\statsmodels\\nonparametric\\bandwidths.py\u001b[0m in \u001b[0;36mselect_bandwidth\u001b[1;34m(x, bw, kernel)\u001b[0m\n\u001b[0;32m    172\u001b[0m         \u001b[1;31m# eventually this can fall back on another selection criterion.\u001b[0m\u001b[1;33m\u001b[0m\u001b[1;33m\u001b[0m\u001b[1;33m\u001b[0m\u001b[0m\n\u001b[0;32m    173\u001b[0m         \u001b[0merr\u001b[0m \u001b[1;33m=\u001b[0m \u001b[1;34m\"Selected KDE bandwidth is 0. Cannot estiamte density.\"\u001b[0m\u001b[1;33m\u001b[0m\u001b[1;33m\u001b[0m\u001b[0m\n\u001b[1;32m--> 174\u001b[1;33m         \u001b[1;32mraise\u001b[0m \u001b[0mRuntimeError\u001b[0m\u001b[1;33m(\u001b[0m\u001b[0merr\u001b[0m\u001b[1;33m)\u001b[0m\u001b[1;33m\u001b[0m\u001b[1;33m\u001b[0m\u001b[0m\n\u001b[0m\u001b[0;32m    175\u001b[0m     \u001b[1;32melse\u001b[0m\u001b[1;33m:\u001b[0m\u001b[1;33m\u001b[0m\u001b[1;33m\u001b[0m\u001b[0m\n\u001b[0;32m    176\u001b[0m         \u001b[1;32mreturn\u001b[0m \u001b[0mbandwidth\u001b[0m\u001b[1;33m\u001b[0m\u001b[1;33m\u001b[0m\u001b[0m\n",
      "\u001b[1;31mRuntimeError\u001b[0m: Selected KDE bandwidth is 0. Cannot estiamte density."
     ]
    },
    {
     "data": {
      "image/png": "[encoded data removed]",
      "text/plain": [
       "<Figure size 216x216 with 1 Axes>"
      ]
     },
     "metadata": {
      "needs_background": "light"
     },
     "output_type": "display_data"
    }
   ],
   "source": [
    "plt.figure(figsize=(3,3))\n",
    "sns.distplot(ds['maxamnt_loans90'])\n",
    "plt.show()"
   ]
  },
  {
   "cell_type": "code",
   "execution_count": null,
   "metadata": {},
   "outputs": [],
   "source": [
    "plt.figure(figsize=(3,3))\n",
    "sns.distplot(ds['medianamnt_loans90'])\n",
    "plt.show()"
   ]
  },
  {
   "cell_type": "code",
   "execution_count": null,
   "metadata": {},
   "outputs": [],
   "source": [
    "plt.figure(figsize=(3,3))\n",
    "sns.distplot(ds['payback90'])\n",
    "plt.show()"
   ]
  },
  {
   "cell_type": "markdown",
   "metadata": {},
   "source": [
    "From above distribution plot, it seems data is skewed."
   ]
  },
  {
   "cell_type": "markdown",
   "metadata": {},
   "source": [
    "# ViolinPlot"
   ]
  },
  {
   "cell_type": "markdown",
   "metadata": {},
   "source": [
    "violinplots are used to represent comparison of a variable distribution (or sample distribution)\n",
    "across different 'categories'"
   ]
  },
  {
   "cell_type": "code",
   "execution_count": null,
   "metadata": {},
   "outputs": [],
   "source": [
    "plt.figure(figsize=(3,3))\n",
    "sns.violinplot(ds['label'])"
   ]
  },
  {
   "cell_type": "code",
   "execution_count": null,
   "metadata": {},
   "outputs": [],
   "source": [
    "plt.figure(figsize=(3,3))\n",
    "sns.violinplot(ds['daily_decr30'])"
   ]
  },
  {
   "cell_type": "code",
   "execution_count": null,
   "metadata": {},
   "outputs": [],
   "source": [
    "plt.figure(figsize=(3,3))\n",
    "sns.violinplot(ds['fr_ma_rech30'])"
   ]
  },
  {
   "cell_type": "code",
   "execution_count": null,
   "metadata": {},
   "outputs": [],
   "source": [
    "plt.figure(figsize=(3,3))\n",
    "sns.violinplot(ds['medianamnt_ma_rech30'])"
   ]
  },
  {
   "cell_type": "code",
   "execution_count": null,
   "metadata": {},
   "outputs": [],
   "source": [
    "plt.figure(figsize=(3,3))\n",
    "sns.violinplot(ds['sumamnt_ma_rech90'])"
   ]
  },
  {
   "cell_type": "code",
   "execution_count": null,
   "metadata": {},
   "outputs": [],
   "source": [
    "plt.figure(figsize=(3,3))\n",
    "sns.violinplot(ds['fr_da_rech90'])"
   ]
  },
  {
   "cell_type": "code",
   "execution_count": null,
   "metadata": {},
   "outputs": [],
   "source": [
    "plt.figure(figsize=(3,3))\n",
    "sns.violinplot(ds['medianamnt_loans30'])"
   ]
  },
  {
   "cell_type": "markdown",
   "metadata": {},
   "source": [
    "# Histograms"
   ]
  },
  {
   "cell_type": "code",
   "execution_count": null,
   "metadata": {},
   "outputs": [],
   "source": [
    "plt.figure(figsize=(3,3))\n",
    "plt.hist(ds['label'])\n",
    "plt.show()"
   ]
  },
  {
   "cell_type": "code",
   "execution_count": null,
   "metadata": {},
   "outputs": [],
   "source": [
    "plt.figure(figsize=(10,3))\n",
    "plt.hist(ds['cnt_ma_rech30'])\n",
    "plt.show()"
   ]
  },
  {
   "cell_type": "code",
   "execution_count": null,
   "metadata": {},
   "outputs": [],
   "source": [
    "plt.figure(figsize=(10,3))\n",
    "plt.hist(ds['medianmarechprebal30'])\n",
    "plt.show()"
   ]
  },
  {
   "cell_type": "code",
   "execution_count": null,
   "metadata": {},
   "outputs": [],
   "source": [
    "plt.figure(figsize=(10,3))\n",
    "plt.hist(ds['sumamnt_ma_rech90'])\n",
    "plt.show()"
   ]
  },
  {
   "cell_type": "code",
   "execution_count": null,
   "metadata": {},
   "outputs": [],
   "source": [
    "plt.figure(figsize=(10,3))\n",
    "plt.hist(ds['medianmarechprebal90'])\n",
    "plt.show()"
   ]
  },
  {
   "cell_type": "code",
   "execution_count": null,
   "metadata": {},
   "outputs": [],
   "source": [
    "plt.figure(figsize=(10,3))\n",
    "plt.hist(ds['fr_da_rech90'])\n",
    "plt.show()"
   ]
  },
  {
   "cell_type": "code",
   "execution_count": null,
   "metadata": {},
   "outputs": [],
   "source": [
    "plt.figure(figsize=(10,3))\n",
    "plt.hist(ds['cnt_loans30'])\n",
    "plt.show()"
   ]
  },
  {
   "cell_type": "code",
   "execution_count": null,
   "metadata": {},
   "outputs": [],
   "source": [
    "plt.figure(figsize=(10,3))\n",
    "plt.hist(ds['medianamnt_loans30'])\n",
    "plt.show()"
   ]
  },
  {
   "cell_type": "code",
   "execution_count": null,
   "metadata": {},
   "outputs": [],
   "source": [
    "plt.figure(figsize=(10,3))\n",
    "plt.hist(ds['payback30'])\n",
    "plt.show()"
   ]
  },
  {
   "cell_type": "markdown",
   "metadata": {},
   "source": [
    "# Bivariate Analysis"
   ]
  },
  {
   "cell_type": "code",
   "execution_count": null,
   "metadata": {},
   "outputs": [],
   "source": [
    "plt.figure(figsize=(3,3))\n",
    "ds.plot(x='daily_decr30', y='label', kind='line')\n",
    "plt.show()"
   ]
  },
  {
   "cell_type": "code",
   "execution_count": null,
   "metadata": {},
   "outputs": [],
   "source": [
    "plt.figure(figsize=(3,3))\n",
    "ds.plot(x='daily_decr90', y='label', kind='line')\n",
    "plt.show()"
   ]
  },
  {
   "cell_type": "code",
   "execution_count": null,
   "metadata": {},
   "outputs": [],
   "source": [
    "plt.figure(figsize=(3,3))\n",
    "ds.plot(x='medianmarechprebal30', y='label', kind='line')\n",
    "plt.show()"
   ]
  },
  {
   "cell_type": "code",
   "execution_count": null,
   "metadata": {},
   "outputs": [],
   "source": [
    "plt.figure(figsize=(3,3))\n",
    "ds.plot(x='sumamnt_ma_rech90', y='label', kind='line')\n",
    "plt.show()"
   ]
  },
  {
   "cell_type": "code",
   "execution_count": null,
   "metadata": {},
   "outputs": [],
   "source": [
    "sns.barplot(x='fr_da_rech90', y='label', data=ds)\n",
    "plt.show()"
   ]
  },
  {
   "cell_type": "code",
   "execution_count": null,
   "metadata": {},
   "outputs": [],
   "source": [
    "sns.barplot(x='fr_da_rech90', y='label', data=ds)\n",
    "plt.show()"
   ]
  },
  {
   "cell_type": "code",
   "execution_count": null,
   "metadata": {},
   "outputs": [],
   "source": [
    "sns.barplot(x='maxamnt_loans30', y='maxamnt_loans90', data=ds)\n",
    "plt.show()"
   ]
  },
  {
   "cell_type": "code",
   "execution_count": null,
   "metadata": {},
   "outputs": [],
   "source": [
    "sns.barplot(x='cnt_loans90', y='amnt_loans90', data=ds)\n",
    "plt.show()"
   ]
  },
  {
   "cell_type": "code",
   "execution_count": null,
   "metadata": {},
   "outputs": [],
   "source": [
    "sns.pointplot(x='maxamnt_loans90', y='label', data=ds)"
   ]
  },
  {
   "cell_type": "code",
   "execution_count": null,
   "metadata": {
    "scrolled": true
   },
   "outputs": [],
   "source": [
    "sns.jointplot(data=ds, x=\"rental90\", y=\"msisdn\" )\n",
    "plt.show()"
   ]
  },
  {
   "cell_type": "code",
   "execution_count": null,
   "metadata": {},
   "outputs": [],
   "source": [
    "sns.pairplot(ds)\n",
    "plt.show()"
   ]
  },
  {
   "cell_type": "code",
   "execution_count": null,
   "metadata": {},
   "outputs": [],
   "source": []
  },
  {
   "cell_type": "code",
   "execution_count": null,
   "metadata": {},
   "outputs": [],
   "source": [
    "# Checking the skewness of the data\n",
    "ds.skew()"
   ]
  },
  {
   "cell_type": "code",
   "execution_count": null,
   "metadata": {},
   "outputs": [],
   "source": [
    "# Remove skewness \n",
    "for col in ds.columns:\n",
    "    if ds.skew().loc[col] > 0.55:\n",
    "        ds[col] = np.sqrt(ds[col])"
   ]
  },
  {
   "cell_type": "code",
   "execution_count": null,
   "metadata": {},
   "outputs": [],
   "source": [
    "ds.skew()"
   ]
  },
  {
   "cell_type": "code",
   "execution_count": null,
   "metadata": {},
   "outputs": [],
   "source": [
    "for i in range(1, 17):\n",
    "    # Remove skewness \n",
    "    for col in ds.columns:\n",
    "        if ds.skew().loc[col] > 0.55:\n",
    "            ds[col] = np.sqrt(ds[col])"
   ]
  },
  {
   "cell_type": "code",
   "execution_count": null,
   "metadata": {},
   "outputs": [],
   "source": [
    "ds.skew()"
   ]
  },
  {
   "cell_type": "code",
   "execution_count": null,
   "metadata": {},
   "outputs": [],
   "source": [
    "# Checking the 'z score' / outliers of the dataset, if present, will remove it\n",
    "from scipy.stats import zscore\n",
    "\n",
    "for i in ds.columns:\n",
    "    ds_copy = ds.drop(i, axis=1 )\n",
    "    z = np.abs(zscore(ds_copy))\n",
    "    ds_new = ds_copy [(z<3).all(axis=1)]\n",
    "    print (ds_new.shape, i)"
   ]
  },
  {
   "cell_type": "code",
   "execution_count": null,
   "metadata": {},
   "outputs": [],
   "source": [
    "# Checking the 'z score' / outliers of the dataset, if present, will remove it\n",
    "from scipy.stats import zscore\n",
    "z_scr = abs(zscore(ds))\n",
    "print ('Before removing zscore: ', ds.shape)\n",
    "\n",
    "ds_final = ds.loc[(z_scr < 3).all(axis=1)]\n",
    "print (\"After removing zscore: \", ds_final.shape)"
   ]
  },
  {
   "cell_type": "code",
   "execution_count": null,
   "metadata": {},
   "outputs": [],
   "source": [
    "# Assigning the input and output data\n",
    "df_x = ds.drop(columns = ['label'])\n",
    "y = ds['label']"
   ]
  },
  {
   "cell_type": "code",
   "execution_count": null,
   "metadata": {},
   "outputs": [],
   "source": [
    "y.head()"
   ]
  },
  {
   "cell_type": "code",
   "execution_count": null,
   "metadata": {},
   "outputs": [],
   "source": [
    "df_x.replace(np.NaN, 0, inplace=True)"
   ]
  },
  {
   "cell_type": "code",
   "execution_count": null,
   "metadata": {},
   "outputs": [],
   "source": [
    "# StandardScaler is used to scale the data\n",
    "sc = StandardScaler()\n",
    "x = sc.fit_transform(df_x)\n",
    "x = pd.DataFrame(x, columns=df_x.columns)"
   ]
  },
  {
   "cell_type": "code",
   "execution_count": null,
   "metadata": {},
   "outputs": [],
   "source": [
    "x.head()"
   ]
  },
  {
   "cell_type": "code",
   "execution_count": null,
   "metadata": {},
   "outputs": [],
   "source": [
    "(x.shape, y.shape)"
   ]
  },
  {
   "cell_type": "markdown",
   "metadata": {},
   "source": [
    "# Classification algorithm for dataset: with target column 'label'"
   ]
  },
  {
   "cell_type": "code",
   "execution_count": null,
   "metadata": {},
   "outputs": [],
   "source": [
    "y.unique()"
   ]
  },
  {
   "cell_type": "code",
   "execution_count": null,
   "metadata": {},
   "outputs": [],
   "source": [
    "# Subroutine to get the best random state with maximum accuracy score\n",
    "\n",
    "def max_acu_score (regr, x, y):\n",
    "    max_acu_score = 0\n",
    "    for r_state in range (42, 100):\n",
    "\n",
    "        x_train, x_test, y_train, y_test = train_test_split(x, y, random_state=r_state, test_size=.20)\n",
    "\n",
    "        regr.fit(x_train, y_train)\n",
    "        y_pred = regr.predict(x_test)\n",
    "        acu_scr = accuracy_score(y_test, y_pred)\n",
    "\n",
    "\n",
    "        #print (\"\\n accuracy score corresponding to state: \", r_state, \" is: \", acu_scr)\n",
    "        if (acu_scr > max_acu_score):\n",
    "            max_acu_score = acu_scr\n",
    "            final_r_state = r_state\n",
    "    print (\"\\nMax accuracy score corresponding to \", final_r_state, \" is: \", max_acu_score)\n",
    "    return final_r_state"
   ]
  },
  {
   "cell_type": "markdown",
   "metadata": {},
   "source": [
    "Using the below algorithms for classification"
   ]
  },
  {
   "cell_type": "code",
   "execution_count": null,
   "metadata": {},
   "outputs": [],
   "source": [
    "from sklearn.neighbors import KNeighborsClassifier\n",
    "from sklearn.svm import SVC\n",
    "from sklearn.tree import DecisionTreeClassifier\n",
    "from sklearn.ensemble import RandomForestClassifier\n",
    "from sklearn.linear_model import LogisticRegression\n",
    "from sklearn.naive_bayes import GaussianNB"
   ]
  },
  {
   "cell_type": "code",
   "execution_count": null,
   "metadata": {},
   "outputs": [],
   "source": [
    "KNN = KNeighborsClassifier()\n",
    "SV = SVC()\n",
    "DT = DecisionTreeClassifier()\n",
    "RFC = RandomForestClassifier()\n",
    "LR = LogisticRegression()\n",
    "GNB = GaussianNB()"
   ]
  },
  {
   "cell_type": "markdown",
   "metadata": {},
   "source": [
    "Creating the array of algorithms"
   ]
  },
  {
   "cell_type": "code",
   "execution_count": null,
   "metadata": {},
   "outputs": [],
   "source": [
    "models = []\n",
    "models.append(('KNeighborsClassifier', KNN))\n",
    "models.append(('SVC', SV))\n",
    "models.append(('DecisionTraeeClassifier', DT))\n",
    "models.append(('RandomForestClassifier', RFC))\n",
    "models.append(('LogisticRegression', LR))\n",
    "models.append(('GaussianNB', GNB))"
   ]
  },
  {
   "cell_type": "markdown",
   "metadata": {},
   "source": [
    "As it is a large dataset, for that we are splitting the datset into training and testing dataset. \n",
    "We will use the sample dataset for training and will use the testing dataset for testing. \n",
    "For splitting the dataset, we are using the best random state as 42."
   ]
  },
  {
   "cell_type": "code",
   "execution_count": null,
   "metadata": {},
   "outputs": [],
   "source": [
    "x_train, x_test, y_train, y_test = train_test_split(x, y, random_state = 42, test_size = .90)"
   ]
  },
  {
   "cell_type": "code",
   "execution_count": null,
   "metadata": {},
   "outputs": [],
   "source": [
    "x_train.shape"
   ]
  },
  {
   "cell_type": "code",
   "execution_count": null,
   "metadata": {},
   "outputs": [],
   "source": [
    "x_test.shape"
   ]
  },
  {
   "cell_type": "code",
   "execution_count": null,
   "metadata": {},
   "outputs": [],
   "source": [
    "print ('Training dataset: x_train,y_train')\n",
    "print ('Testing dataset: x_test,y_test')"
   ]
  },
  {
   "cell_type": "code",
   "execution_count": null,
   "metadata": {},
   "outputs": [],
   "source": [
    "x = x_train\n",
    "y = y_train"
   ]
  },
  {
   "cell_type": "code",
   "execution_count": null,
   "metadata": {},
   "outputs": [],
   "source": [
    "x_test1 = x_test\n",
    "y_test1 = y_test"
   ]
  },
  {
   "cell_type": "markdown",
   "metadata": {},
   "source": [
    "Here we will do all the processing on training dataset and for testing will use x_test, y_test"
   ]
  },
  {
   "cell_type": "code",
   "execution_count": null,
   "metadata": {},
   "outputs": [],
   "source": [
    "Model = []\n",
    "score = []\n",
    "cvs = []\n",
    "rocscore = []\n",
    "rstate = []\n",
    "\n",
    "for name, model in models:    \n",
    "    print ('******************', name , '*********************')\n",
    "    print (\"\\n\")\n",
    "    \n",
    "    model_state = max_acu_score(model, x, y)\n",
    "    rstate.append(model_state)\n",
    "    \n",
    "    x_train, x_test, y_train, y_test = train_test_split(x, y, random_state = model_state, test_size = .20)\n",
    "    \n",
    "    Model.append(name)\n",
    "    model.fit (x_train, y_train)\n",
    "    print (model)\n",
    "    \n",
    "    pre = model.predict(x_test)\n",
    "    print (\"Predicted values: \", pre)\n",
    "    print ('\\n')\n",
    "    \n",
    "    AS = accuracy_score(y_test, pre)\n",
    "    print (\"Accuracy score: \", AS)\n",
    "    score.append (AS*100)\n",
    "    print ('\\n')\n",
    "    \n",
    "    sc = cross_val_score(model, x, y, cv =10, scoring='accuracy').mean()\n",
    "    print (\"cross val score: \", sc)    \n",
    "    cvs.append(sc*100)\n",
    "    print ('\\n')\n",
    "    \n",
    "    fpr, tpr, thresholds = roc_curve(y_test, pre, pos_label=1)\n",
    "    print (fpr, tpr, thresholds)\n",
    "    roc_auc = auc(fpr, tpr)\n",
    "    print (\"roc auc score: \", roc_auc)\n",
    "    rocscore.append(roc_auc * 100)\n",
    "    print ('\\n')\n",
    "    \n",
    "    print (\"classification report: \", classification_report (y_test, pre) )\n",
    "    print ('\\n')\n",
    "    \n",
    "    cm = confusion_matrix(y_test, pre)\n",
    "    print (cm)\n",
    "    print ('\\n')\n",
    "    \n",
    "    plt.figure(figsize=(10,40))\n",
    "    plt.subplot(911)\n",
    "    plt.title(name)\n",
    "    print (sns.heatmap(cm, annot=True))\n",
    "     \n",
    "    plt.subplot(912)\n",
    "    plt.title(name)\n",
    "    plt.plot(fpr, tpr, label='AUC = %0.2f'%(roc_auc))\n",
    "    plt.plot ([0,1], [0,1], 'r--')\n",
    "    plt.legend(loc = 'lower right')\n",
    "    plt.ylabel('True Positive Rate')\n",
    "    plt.xlabel('False Positive Rate')\n",
    "    print ('\\n\\n')"
   ]
  },
  {
   "cell_type": "code",
   "execution_count": null,
   "metadata": {},
   "outputs": [],
   "source": [
    "# Displaying the data in tabular form\n",
    "result = pd.DataFrame({'Model': Model, 'Accuracy_Score': score, 'Cross Val Score' : cvs, 'ROC_AUC_Curve': rocscore, 'RandomState': rstate })\n",
    "result"
   ]
  },
  {
   "cell_type": "markdown",
   "metadata": {},
   "source": [
    "We observed that after using multiple algorithms, RandomForestClassifier is giving the best accuracy score. So we will create the model using RandomForestClassifier."
   ]
  },
  {
   "cell_type": "code",
   "execution_count": null,
   "metadata": {},
   "outputs": [],
   "source": [
    "# GridSearchCV for RandomForestClassifier\n",
    "parameters = { 'n_estimators': [100,150, 200, 250, 300], 'criterion': ['gini', 'entropy'], 'max_features':\n",
    "              ['auto', 'sqrt', 'log2']\n",
    "}\n",
    "gsc = GridSearchCV(estimator = RFC, param_grid = parameters, cv=10)"
   ]
  },
  {
   "cell_type": "code",
   "execution_count": null,
   "metadata": {},
   "outputs": [],
   "source": [
    "gsc"
   ]
  },
  {
   "cell_type": "code",
   "execution_count": null,
   "metadata": {},
   "outputs": [],
   "source": [
    "df = pd.DataFrame(x_test1, columns = x_test1.columns)"
   ]
  },
  {
   "cell_type": "code",
   "execution_count": null,
   "metadata": {},
   "outputs": [],
   "source": [
    "df['label'] = y_test1"
   ]
  },
  {
   "cell_type": "code",
   "execution_count": null,
   "metadata": {},
   "outputs": [],
   "source": [
    "df.replace(np.NaN, 0, inplace=True)"
   ]
  },
  {
   "cell_type": "code",
   "execution_count": null,
   "metadata": {},
   "outputs": [],
   "source": [
    "df.head()"
   ]
  },
  {
   "cell_type": "markdown",
   "metadata": {},
   "source": [
    "As the dataset is too large, we are splitting the dataset and performing the test predictions."
   ]
  },
  {
   "cell_type": "code",
   "execution_count": null,
   "metadata": {},
   "outputs": [],
   "source": [
    "df_split = np.array_split(df, 4)"
   ]
  },
  {
   "cell_type": "code",
   "execution_count": null,
   "metadata": {},
   "outputs": [],
   "source": [
    "df_split[0]['label'].head()"
   ]
  },
  {
   "cell_type": "code",
   "execution_count": null,
   "metadata": {},
   "outputs": [],
   "source": [
    "df_split[0].head()"
   ]
  },
  {
   "cell_type": "code",
   "execution_count": null,
   "metadata": {},
   "outputs": [],
   "source": [
    "j = 0\n",
    "\n",
    "for i in df_split:\n",
    "\n",
    "    y = i['label']\n",
    "    x = i.drop(columns = ['label'])\n",
    "    \n",
    "    x_train, x_test, y_train, y_test = train_test_split(x, y, random_state=66, test_size = 0.20)\n",
    "    rfc = RandomForestClassifier(criterion= 'gini', max_features='sqrt', n_estimators= 200)\n",
    "    rfc.fit(x_train, y_train)\n",
    "    y_pred =  rfc.predict(x_test)\n",
    "    print (y_pred)\n",
    "    \n",
    "     # Saving the predicted values in csv files\n",
    "    dft = pd.DataFrame(y_pred)\n",
    "    dft.to_csv ('pred_mfi_'+ str(j) +'.csv')\n",
    "    j = j + 1\n",
    "    \n",
    "    print ('------*************-----')\n",
    "    print (\"accuracy score: \", accuracy_score(y_test, y_pred))\n",
    "    print (\"Classification Report : \\n\", classification_report (y_test, y_pred))\n",
    "    print (\"Confusion_matrix: \", confusion_matrix(y_test, y_pred))\n",
    "    cm = confusion_matrix(y_test, y_pred)\n",
    "\n",
    "    sc = cross_val_score(rfc, x, y, cv =10, scoring='accuracy').mean()\n",
    "    print (\"cross val score: \", sc)    \n",
    "\n",
    "    fpr, tpr, thresholds = roc_curve(y_test, y_pred, pos_label=1)\n",
    "    roc_auc = auc(fpr, tpr)\n",
    "    print (\"roc auc score: \", roc_auc)\n",
    "\n",
    "    plt.figure(figsize=(10,40))\n",
    "    plt.subplot(911)\n",
    "    plt.title(\"Confusion Matrix\")\n",
    "    print (sns.heatmap(cm, annot=True))\n",
    "\n",
    "    plt.subplot(912)\n",
    "    plt.title(\"ROC AUC curve\")\n",
    "    plt.plot(fpr, tpr, label='AUC = %0.2f'%(roc_auc))\n",
    "    plt.plot ([0,1], [0,1], 'r--')\n",
    "    plt.legend(loc = 'lower right')\n",
    "    plt.ylabel('True Positive Rate')\n",
    "    plt.xlabel('False Positive Rate')\n",
    "    print ('\\n------*************-----')"
   ]
  },
  {
   "cell_type": "code",
   "execution_count": null,
   "metadata": {},
   "outputs": [],
   "source": [
    "# saving the model \n",
    "\n",
    "from sklearn.externals import joblib\n",
    "joblib.dump(rfc, 'micro_credit.pkl')\n",
    "clf = joblib.load('micro_credit.pkl')\n",
    "clf.predict(x_test)"
   ]
  }
 ],
 "metadata": {
  "kernelspec": {
   "display_name": "Python 3",
   "language": "python",
   "name": "python3"
  },
  "language_info": {
   "codemirror_mode": {
    "name": "ipython",
    "version": 3
   },
   "file_extension": ".py",
   "mimetype": "text/x-python",
   "name": "python",
   "nbconvert_exporter": "python",
   "pygments_lexer": "ipython3",
   "version": "3.7.6"
  }
 },
 "nbformat": 4,
 "nbformat_minor": 2
}
