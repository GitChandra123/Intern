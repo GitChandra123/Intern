{
 "cells": [
  {
   "cell_type": "code",
   "execution_count": 1,
   "metadata": {},
   "outputs": [],
   "source": [
    "#importing libraries\n",
    "\n",
    "import pandas as pd\n",
    "import numpy as np\n",
    "import matplotlib.pyplot as plt\n",
    "import seaborn as sns\n",
    "import re \n",
    "import warnings\n",
    "warnings.filterwarnings('ignore')"
   ]
  },
  {
   "cell_type": "code",
   "execution_count": 2,
   "metadata": {},
   "outputs": [
    {
     "data": {
      "text/html": [
       "<div>\n",
       "<style scoped>\n",
       "    .dataframe tbody tr th:only-of-type {\n",
       "        vertical-align: middle;\n",
       "    }\n",
       "\n",
       "    .dataframe tbody tr th {\n",
       "        vertical-align: top;\n",
       "    }\n",
       "\n",
       "    .dataframe thead th {\n",
       "        text-align: right;\n",
       "    }\n",
       "</style>\n",
       "<table border=\"1\" class=\"dataframe\">\n",
       "  <thead>\n",
       "    <tr style=\"text-align: right;\">\n",
       "      <th></th>\n",
       "      <th>Unnamed: 0</th>\n",
       "      <th>Date</th>\n",
       "      <th>Author</th>\n",
       "      <th>Vertical</th>\n",
       "      <th>Headline</th>\n",
       "      <th>Description</th>\n",
       "    </tr>\n",
       "  </thead>\n",
       "  <tbody>\n",
       "    <tr>\n",
       "      <th>0</th>\n",
       "      <td>0</td>\n",
       "      <td>FEB 01 2015</td>\n",
       "      <td>-</td>\n",
       "      <td>50-50-WC-Cricket</td>\n",
       "      <td>Tigers face tough test of survival</td>\n",
       "      <td>Bangladesh will need a dramatic turn in fortun...</td>\n",
       "    </tr>\n",
       "    <tr>\n",
       "      <th>1</th>\n",
       "      <td>1</td>\n",
       "      <td>FEB 01 2015</td>\n",
       "      <td>Annapurna Singh, NEW DELHI, Feb 01, 2015, DHNS,</td>\n",
       "      <td>-</td>\n",
       "      <td>Gems and jewellery sector poised for sops from...</td>\n",
       "      <td>With a high employment generation and export p...</td>\n",
       "    </tr>\n",
       "    <tr>\n",
       "      <th>2</th>\n",
       "      <td>2</td>\n",
       "      <td>FEB 01 2015</td>\n",
       "      <td>MUMBAI, Feb 01, 2015, DHNS and Agencies,</td>\n",
       "      <td>-</td>\n",
       "      <td>Sun-Ranbaxy deal gets FTC nod</td>\n",
       "      <td>Sun Pharmaceuticals has won approval from the ...</td>\n",
       "    </tr>\n",
       "    <tr>\n",
       "      <th>3</th>\n",
       "      <td>3</td>\n",
       "      <td>FEB 01 2015</td>\n",
       "      <td>ATHENS, Feb 01, 2015, Reuters,</td>\n",
       "      <td>-</td>\n",
       "      <td>Greek government says will not cooperate with ...</td>\n",
       "      <td>Greece’s new leftist government opened talks o...</td>\n",
       "    </tr>\n",
       "    <tr>\n",
       "      <th>4</th>\n",
       "      <td>4</td>\n",
       "      <td>FEB 01 2015</td>\n",
       "      <td>Hrithik Kiran Bagade, Bengaluru, Feb 01, 2015,...</td>\n",
       "      <td>-</td>\n",
       "      <td>Karnataka illustrates a place in animation glory</td>\n",
       "      <td>ABAI, a non-profit body promoting the animatio...</td>\n",
       "    </tr>\n",
       "  </tbody>\n",
       "</table>\n",
       "</div>"
      ],
      "text/plain": [
       "   Unnamed: 0         Date                                             Author  \\\n",
       "0           0  FEB 01 2015                                                  -   \n",
       "1           1  FEB 01 2015    Annapurna Singh, NEW DELHI, Feb 01, 2015, DHNS,   \n",
       "2           2  FEB 01 2015           MUMBAI, Feb 01, 2015, DHNS and Agencies,   \n",
       "3           3  FEB 01 2015                     ATHENS, Feb 01, 2015, Reuters,   \n",
       "4           4  FEB 01 2015  Hrithik Kiran Bagade, Bengaluru, Feb 01, 2015,...   \n",
       "\n",
       "           Vertical                                           Headline  \\\n",
       "0  50-50-WC-Cricket                 Tigers face tough test of survival   \n",
       "1                 -  Gems and jewellery sector poised for sops from...   \n",
       "2                 -                      Sun-Ranbaxy deal gets FTC nod   \n",
       "3                 -  Greek government says will not cooperate with ...   \n",
       "4                 -   Karnataka illustrates a place in animation glory   \n",
       "\n",
       "                                         Description  \n",
       "0  Bangladesh will need a dramatic turn in fortun...  \n",
       "1  With a high employment generation and export p...  \n",
       "2  Sun Pharmaceuticals has won approval from the ...  \n",
       "3  Greece’s new leftist government opened talks o...  \n",
       "4  ABAI, a non-profit body promoting the animatio...  "
      ]
     },
     "execution_count": 2,
     "metadata": {},
     "output_type": "execute_result"
    }
   ],
   "source": [
    "ds = pd.read_csv('DH_FEB_2015_Phase2.csv')\n",
    "ds.head()"
   ]
  },
  {
   "cell_type": "code",
   "execution_count": 3,
   "metadata": {},
   "outputs": [
    {
     "name": "stdout",
     "output_type": "stream",
     "text": [
      "\n",
      "Shape of dataset: (4678, 6)\n"
     ]
    }
   ],
   "source": [
    "# Checking the shape of the dataset\n",
    "print ('\\nShape of dataset:', ds.shape)"
   ]
  },
  {
   "cell_type": "code",
   "execution_count": 4,
   "metadata": {},
   "outputs": [
    {
     "name": "stdout",
     "output_type": "stream",
     "text": [
      "Shape of dataset before removing duplicates:  (4678, 6)\n",
      "Shape of dataset after removing duplicates:  (4678, 6)\n"
     ]
    }
   ],
   "source": [
    "# Removing the duplicate rows from the dataset\n",
    "\n",
    "print ('Shape of dataset before removing duplicates: ', ds.shape)\n",
    "# Dropping the duplicate rows\n",
    "ds = ds.drop_duplicates(keep='first')\n",
    "print ('Shape of dataset after removing duplicates: ', ds.shape)"
   ]
  },
  {
   "cell_type": "code",
   "execution_count": 5,
   "metadata": {},
   "outputs": [
    {
     "data": {
      "text/plain": [
       "Index(['Unnamed: 0', 'Date', 'Author', 'Vertical', 'Headline', 'Description'], dtype='object')"
      ]
     },
     "execution_count": 5,
     "metadata": {},
     "output_type": "execute_result"
    }
   ],
   "source": [
    "ds.columns"
   ]
  },
  {
   "cell_type": "code",
   "execution_count": 6,
   "metadata": {},
   "outputs": [
    {
     "data": {
      "text/plain": [
       "Unnamed: 0      int64\n",
       "Date           object\n",
       "Author         object\n",
       "Vertical       object\n",
       "Headline       object\n",
       "Description    object\n",
       "dtype: object"
      ]
     },
     "execution_count": 6,
     "metadata": {},
     "output_type": "execute_result"
    }
   ],
   "source": [
    "ds.dtypes"
   ]
  },
  {
   "cell_type": "code",
   "execution_count": 7,
   "metadata": {},
   "outputs": [
    {
     "name": "stdout",
     "output_type": "stream",
     "text": [
      "<class 'pandas.core.frame.DataFrame'>\n",
      "Int64Index: 4678 entries, 0 to 4677\n",
      "Data columns (total 6 columns):\n",
      " #   Column       Non-Null Count  Dtype \n",
      "---  ------       --------------  ----- \n",
      " 0   Unnamed: 0   4678 non-null   int64 \n",
      " 1   Date         4678 non-null   object\n",
      " 2   Author       4678 non-null   object\n",
      " 3   Vertical     4678 non-null   object\n",
      " 4   Headline     4678 non-null   object\n",
      " 5   Description  4678 non-null   object\n",
      "dtypes: int64(1), object(5)\n",
      "memory usage: 255.8+ KB\n"
     ]
    }
   ],
   "source": [
    "# Checking the dataset columns information\n",
    "ds.info()"
   ]
  },
  {
   "cell_type": "code",
   "execution_count": 8,
   "metadata": {},
   "outputs": [
    {
     "data": {
      "text/plain": [
       "Index(['Unnamed: 0'], dtype='object')"
      ]
     },
     "execution_count": 8,
     "metadata": {},
     "output_type": "execute_result"
    }
   ],
   "source": [
    "# identifying the number columns\n",
    "ds_int = ds.select_dtypes(include=['int64', 'int32'])\n",
    "ds_int.columns"
   ]
  },
  {
   "cell_type": "code",
   "execution_count": 9,
   "metadata": {},
   "outputs": [
    {
     "data": {
      "text/plain": [
       "Index(['Date', 'Author', 'Vertical', 'Headline', 'Description'], dtype='object')"
      ]
     },
     "execution_count": 9,
     "metadata": {},
     "output_type": "execute_result"
    }
   ],
   "source": [
    "# identifying the category columns\n",
    "ds_cat = ds.select_dtypes(include=['object'])\n",
    "ds_cat.columns"
   ]
  },
  {
   "cell_type": "code",
   "execution_count": 10,
   "metadata": {},
   "outputs": [
    {
     "data": {
      "text/html": [
       "<div>\n",
       "<style scoped>\n",
       "    .dataframe tbody tr th:only-of-type {\n",
       "        vertical-align: middle;\n",
       "    }\n",
       "\n",
       "    .dataframe tbody tr th {\n",
       "        vertical-align: top;\n",
       "    }\n",
       "\n",
       "    .dataframe thead th {\n",
       "        text-align: right;\n",
       "    }\n",
       "</style>\n",
       "<table border=\"1\" class=\"dataframe\">\n",
       "  <thead>\n",
       "    <tr style=\"text-align: right;\">\n",
       "      <th></th>\n",
       "      <th>Unnamed: 0</th>\n",
       "    </tr>\n",
       "  </thead>\n",
       "  <tbody>\n",
       "    <tr>\n",
       "      <th>count</th>\n",
       "      <td>4678.000000</td>\n",
       "    </tr>\n",
       "    <tr>\n",
       "      <th>mean</th>\n",
       "      <td>2338.500000</td>\n",
       "    </tr>\n",
       "    <tr>\n",
       "      <th>std</th>\n",
       "      <td>1350.566609</td>\n",
       "    </tr>\n",
       "    <tr>\n",
       "      <th>min</th>\n",
       "      <td>0.000000</td>\n",
       "    </tr>\n",
       "    <tr>\n",
       "      <th>25%</th>\n",
       "      <td>1169.250000</td>\n",
       "    </tr>\n",
       "    <tr>\n",
       "      <th>50%</th>\n",
       "      <td>2338.500000</td>\n",
       "    </tr>\n",
       "    <tr>\n",
       "      <th>75%</th>\n",
       "      <td>3507.750000</td>\n",
       "    </tr>\n",
       "    <tr>\n",
       "      <th>max</th>\n",
       "      <td>4677.000000</td>\n",
       "    </tr>\n",
       "  </tbody>\n",
       "</table>\n",
       "</div>"
      ],
      "text/plain": [
       "        Unnamed: 0\n",
       "count  4678.000000\n",
       "mean   2338.500000\n",
       "std    1350.566609\n",
       "min       0.000000\n",
       "25%    1169.250000\n",
       "50%    2338.500000\n",
       "75%    3507.750000\n",
       "max    4677.000000"
      ]
     },
     "execution_count": 10,
     "metadata": {},
     "output_type": "execute_result"
    }
   ],
   "source": [
    "ds.describe()"
   ]
  },
  {
   "cell_type": "code",
   "execution_count": 11,
   "metadata": {},
   "outputs": [
    {
     "data": {
      "text/plain": [
       "Unnamed: 0     0\n",
       "Date           0\n",
       "Author         0\n",
       "Vertical       0\n",
       "Headline       0\n",
       "Description    0\n",
       "dtype: int64"
      ]
     },
     "execution_count": 11,
     "metadata": {},
     "output_type": "execute_result"
    }
   ],
   "source": [
    "ds.isnull().sum()"
   ]
  },
  {
   "cell_type": "code",
   "execution_count": 12,
   "metadata": {},
   "outputs": [
    {
     "data": {
      "text/plain": [
       "Unnamed: 0     0\n",
       "Date           0\n",
       "Author         0\n",
       "Vertical       0\n",
       "Headline       0\n",
       "Description    0\n",
       "dtype: int64"
      ]
     },
     "execution_count": 12,
     "metadata": {},
     "output_type": "execute_result"
    }
   ],
   "source": [
    "ds.isna().sum()"
   ]
  },
  {
   "cell_type": "code",
   "execution_count": 13,
   "metadata": {},
   "outputs": [],
   "source": [
    "ds.dropna(inplace=True)\n",
    "\n",
    "#ds.replace(np.NaN, None, inplace=True)"
   ]
  },
  {
   "cell_type": "code",
   "execution_count": 14,
   "metadata": {},
   "outputs": [
    {
     "data": {
      "text/plain": [
       "<AxesSubplot:>"
      ]
     },
     "execution_count": 14,
     "metadata": {},
     "output_type": "execute_result"
    },
    {
     "data": {
      "image/png": "[encoded data removed]",
      "text/plain": [
       "<Figure size 432x288 with 1 Axes>"
      ]
     },
     "metadata": {
      "needs_background": "light"
     },
     "output_type": "display_data"
    }
   ],
   "source": [
    "ds['Headline'].str.len().hist()"
   ]
  },
  {
   "cell_type": "code",
   "execution_count": 15,
   "metadata": {},
   "outputs": [
    {
     "name": "stdout",
     "output_type": "stream",
     "text": [
      "count    4678.000000\n",
      "mean       57.074391\n",
      "std       101.101270\n",
      "min         1.000000\n",
      "25%        26.000000\n",
      "50%        33.000000\n",
      "75%        42.000000\n",
      "max      1353.000000\n",
      "Name: Description, dtype: float64\n"
     ]
    },
    {
     "data": {
      "text/plain": [
       "<AxesSubplot:>"
      ]
     },
     "execution_count": 15,
     "metadata": {},
     "output_type": "execute_result"
    },
    {
     "data": {
      "image/png": "[encoded data removed]",
      "text/plain": [
       "<Figure size 432x288 with 1 Axes>"
      ]
     },
     "metadata": {
      "needs_background": "light"
     },
     "output_type": "display_data"
    }
   ],
   "source": [
    "lens = ds.Description.str.split().apply(lambda x: len(x))\n",
    "print(lens.describe())\n",
    "lens.hist()"
   ]
  },
  {
   "cell_type": "code",
   "execution_count": 16,
   "metadata": {},
   "outputs": [
    {
     "data": {
      "text/plain": [
       "<AxesSubplot:>"
      ]
     },
     "execution_count": 16,
     "metadata": {},
     "output_type": "execute_result"
    },
    {
     "data": {
      "image/png": "[encoded data removed]",
      "text/plain": [
       "<Figure size 432x288 with 2 Axes>"
      ]
     },
     "metadata": {
      "needs_background": "light"
     },
     "output_type": "display_data"
    }
   ],
   "source": [
    "sns.heatmap(ds.isnull())"
   ]
  },
  {
   "cell_type": "code",
   "execution_count": 17,
   "metadata": {},
   "outputs": [
    {
     "data": {
      "text/plain": [
       "array(['Tigers face tough test of survival',\n",
       "       'Gems and jewellery sector poised for sops from Budget',\n",
       "       'Sun-Ranbaxy deal gets FTC nod', ...,\n",
       "       'Does growth lead to political success?',\n",
       "       \"'This Budget has provided vision and resources'\",\n",
       "       'Trailer to achchhe din?'], dtype=object)"
      ]
     },
     "execution_count": 17,
     "metadata": {},
     "output_type": "execute_result"
    }
   ],
   "source": [
    "ds['Headline'].unique()"
   ]
  },
  {
   "cell_type": "code",
   "execution_count": 18,
   "metadata": {},
   "outputs": [],
   "source": [
    "# Convert all messages to lowercase\n",
    "ds['Description'] =  ds.Description.str.lower()"
   ]
  },
  {
   "cell_type": "code",
   "execution_count": 19,
   "metadata": {},
   "outputs": [
    {
     "data": {
      "text/html": [
       "<div>\n",
       "<style scoped>\n",
       "    .dataframe tbody tr th:only-of-type {\n",
       "        vertical-align: middle;\n",
       "    }\n",
       "\n",
       "    .dataframe tbody tr th {\n",
       "        vertical-align: top;\n",
       "    }\n",
       "\n",
       "    .dataframe thead th {\n",
       "        text-align: right;\n",
       "    }\n",
       "</style>\n",
       "<table border=\"1\" class=\"dataframe\">\n",
       "  <thead>\n",
       "    <tr style=\"text-align: right;\">\n",
       "      <th></th>\n",
       "      <th>Unnamed: 0</th>\n",
       "      <th>Date</th>\n",
       "      <th>Author</th>\n",
       "      <th>Vertical</th>\n",
       "      <th>Headline</th>\n",
       "      <th>Description</th>\n",
       "      <th>Description_len</th>\n",
       "    </tr>\n",
       "  </thead>\n",
       "  <tbody>\n",
       "    <tr>\n",
       "      <th>0</th>\n",
       "      <td>0</td>\n",
       "      <td>FEB 01 2015</td>\n",
       "      <td>-</td>\n",
       "      <td>50-50-WC-Cricket</td>\n",
       "      <td>Tigers face tough test of survival</td>\n",
       "      <td>bangladesh will need a dramatic turn in fortun...</td>\n",
       "      <td>200</td>\n",
       "    </tr>\n",
       "    <tr>\n",
       "      <th>1</th>\n",
       "      <td>1</td>\n",
       "      <td>FEB 01 2015</td>\n",
       "      <td>Annapurna Singh, NEW DELHI, Feb 01, 2015, DHNS,</td>\n",
       "      <td>-</td>\n",
       "      <td>Gems and jewellery sector poised for sops from...</td>\n",
       "      <td>with a high employment generation and export p...</td>\n",
       "      <td>227</td>\n",
       "    </tr>\n",
       "    <tr>\n",
       "      <th>2</th>\n",
       "      <td>2</td>\n",
       "      <td>FEB 01 2015</td>\n",
       "      <td>MUMBAI, Feb 01, 2015, DHNS and Agencies,</td>\n",
       "      <td>-</td>\n",
       "      <td>Sun-Ranbaxy deal gets FTC nod</td>\n",
       "      <td>sun pharmaceuticals has won approval from the ...</td>\n",
       "      <td>177</td>\n",
       "    </tr>\n",
       "    <tr>\n",
       "      <th>3</th>\n",
       "      <td>3</td>\n",
       "      <td>FEB 01 2015</td>\n",
       "      <td>ATHENS, Feb 01, 2015, Reuters,</td>\n",
       "      <td>-</td>\n",
       "      <td>Greek government says will not cooperate with ...</td>\n",
       "      <td>greece’s new leftist government opened talks o...</td>\n",
       "      <td>190</td>\n",
       "    </tr>\n",
       "    <tr>\n",
       "      <th>4</th>\n",
       "      <td>4</td>\n",
       "      <td>FEB 01 2015</td>\n",
       "      <td>Hrithik Kiran Bagade, Bengaluru, Feb 01, 2015,...</td>\n",
       "      <td>-</td>\n",
       "      <td>Karnataka illustrates a place in animation glory</td>\n",
       "      <td>abai, a non-profit body promoting the animatio...</td>\n",
       "      <td>174</td>\n",
       "    </tr>\n",
       "  </tbody>\n",
       "</table>\n",
       "</div>"
      ],
      "text/plain": [
       "   Unnamed: 0         Date                                             Author  \\\n",
       "0           0  FEB 01 2015                                                  -   \n",
       "1           1  FEB 01 2015    Annapurna Singh, NEW DELHI, Feb 01, 2015, DHNS,   \n",
       "2           2  FEB 01 2015           MUMBAI, Feb 01, 2015, DHNS and Agencies,   \n",
       "3           3  FEB 01 2015                     ATHENS, Feb 01, 2015, Reuters,   \n",
       "4           4  FEB 01 2015  Hrithik Kiran Bagade, Bengaluru, Feb 01, 2015,...   \n",
       "\n",
       "           Vertical                                           Headline  \\\n",
       "0  50-50-WC-Cricket                 Tigers face tough test of survival   \n",
       "1                 -  Gems and jewellery sector poised for sops from...   \n",
       "2                 -                      Sun-Ranbaxy deal gets FTC nod   \n",
       "3                 -  Greek government says will not cooperate with ...   \n",
       "4                 -   Karnataka illustrates a place in animation glory   \n",
       "\n",
       "                                         Description  Description_len  \n",
       "0  bangladesh will need a dramatic turn in fortun...              200  \n",
       "1  with a high employment generation and export p...              227  \n",
       "2  sun pharmaceuticals has won approval from the ...              177  \n",
       "3  greece’s new leftist government opened talks o...              190  \n",
       "4  abai, a non-profit body promoting the animatio...              174  "
      ]
     },
     "execution_count": 19,
     "metadata": {},
     "output_type": "execute_result"
    }
   ],
   "source": [
    "ds['Description_len'] = ds.Description.str.len()\n",
    "ds.head()"
   ]
  },
  {
   "cell_type": "code",
   "execution_count": 20,
   "metadata": {},
   "outputs": [],
   "source": [
    "# Remove stopwords\n",
    "import string\n",
    "import nltk\n",
    "from nltk.corpus import stopwords"
   ]
  },
  {
   "cell_type": "code",
   "execution_count": 21,
   "metadata": {},
   "outputs": [],
   "source": [
    "stop_words =  (stopwords.words('english'))"
   ]
  },
  {
   "cell_type": "code",
   "execution_count": 22,
   "metadata": {},
   "outputs": [],
   "source": [
    "# remove stopwords\n",
    "\n",
    "ds['Description'] = ds['Description'].apply(lambda x: ' '.join(term for term in x.split() if term not in stop_words))"
   ]
  },
  {
   "cell_type": "code",
   "execution_count": 23,
   "metadata": {},
   "outputs": [],
   "source": [
    "# remove digits and the texts that contains digits\n",
    "\n",
    "ds['Description'] = ds['Description'].apply(lambda x: re.sub('\\w*\\d\\w*','', x))"
   ]
  },
  {
   "cell_type": "code",
   "execution_count": 24,
   "metadata": {},
   "outputs": [],
   "source": [
    "# remove the repeatative words\n",
    "\n",
    "ds['Description'] = ds['Description'].apply(lambda x: x.split(',,,')[0])"
   ]
  },
  {
   "cell_type": "code",
   "execution_count": 25,
   "metadata": {},
   "outputs": [],
   "source": [
    "# Remove punctuations\n",
    "\n",
    "ds['Description'] = ds['Description'].apply(lambda x: re.sub('[%s]' % re.escape(string.punctuation), '', x))"
   ]
  },
  {
   "cell_type": "code",
   "execution_count": 26,
   "metadata": {},
   "outputs": [],
   "source": [
    "# remove extra spaces from data\n",
    "\n",
    "ds['Description'] = ds['Description'].apply(lambda x: re.sub(' +',' ',x))"
   ]
  },
  {
   "cell_type": "code",
   "execution_count": 27,
   "metadata": {},
   "outputs": [],
   "source": [
    "ds['Author'] = ds['Author'].apply(lambda x: re.sub('^[\\w+\\s+\\w+\\,]','', x))"
   ]
  },
  {
   "cell_type": "code",
   "execution_count": 28,
   "metadata": {},
   "outputs": [
    {
     "data": {
      "text/html": [
       "<div>\n",
       "<style scoped>\n",
       "    .dataframe tbody tr th:only-of-type {\n",
       "        vertical-align: middle;\n",
       "    }\n",
       "\n",
       "    .dataframe tbody tr th {\n",
       "        vertical-align: top;\n",
       "    }\n",
       "\n",
       "    .dataframe thead th {\n",
       "        text-align: right;\n",
       "    }\n",
       "</style>\n",
       "<table border=\"1\" class=\"dataframe\">\n",
       "  <thead>\n",
       "    <tr style=\"text-align: right;\">\n",
       "      <th></th>\n",
       "      <th>Unnamed: 0</th>\n",
       "      <th>Date</th>\n",
       "      <th>Author</th>\n",
       "      <th>Vertical</th>\n",
       "      <th>Headline</th>\n",
       "      <th>Description</th>\n",
       "      <th>Description_len</th>\n",
       "      <th>Description_len_clean</th>\n",
       "    </tr>\n",
       "  </thead>\n",
       "  <tbody>\n",
       "    <tr>\n",
       "      <th>0</th>\n",
       "      <td>0</td>\n",
       "      <td>FEB 01 2015</td>\n",
       "      <td>-</td>\n",
       "      <td>50-50-WC-Cricket</td>\n",
       "      <td>Tigers face tough test of survival</td>\n",
       "      <td>bangladesh need dramatic turn fortunes ensure ...</td>\n",
       "      <td>200</td>\n",
       "      <td>137</td>\n",
       "    </tr>\n",
       "    <tr>\n",
       "      <th>1</th>\n",
       "      <td>1</td>\n",
       "      <td>FEB 01 2015</td>\n",
       "      <td>nnapurna Singh, NEW DELHI, Feb 01, 2015, DHNS,</td>\n",
       "      <td>-</td>\n",
       "      <td>Gems and jewellery sector poised for sops from...</td>\n",
       "      <td>high employment generation export potential in...</td>\n",
       "      <td>227</td>\n",
       "      <td>173</td>\n",
       "    </tr>\n",
       "    <tr>\n",
       "      <th>2</th>\n",
       "      <td>2</td>\n",
       "      <td>FEB 01 2015</td>\n",
       "      <td>UMBAI, Feb 01, 2015, DHNS and Agencies,</td>\n",
       "      <td>-</td>\n",
       "      <td>Sun-Ranbaxy deal gets FTC nod</td>\n",
       "      <td>sun pharmaceuticals approval federal trade com...</td>\n",
       "      <td>177</td>\n",
       "      <td>129</td>\n",
       "    </tr>\n",
       "    <tr>\n",
       "      <th>3</th>\n",
       "      <td>3</td>\n",
       "      <td>FEB 01 2015</td>\n",
       "      <td>THENS, Feb 01, 2015, Reuters,</td>\n",
       "      <td>-</td>\n",
       "      <td>Greek government says will not cooperate with ...</td>\n",
       "      <td>greece’s new leftist government opened talks b...</td>\n",
       "      <td>190</td>\n",
       "      <td>152</td>\n",
       "    </tr>\n",
       "    <tr>\n",
       "      <th>4</th>\n",
       "      <td>4</td>\n",
       "      <td>FEB 01 2015</td>\n",
       "      <td>rithik Kiran Bagade, Bengaluru, Feb 01, 2015, ...</td>\n",
       "      <td>-</td>\n",
       "      <td>Karnataka illustrates a place in animation glory</td>\n",
       "      <td>abai nonprofit body promoting animation sector...</td>\n",
       "      <td>174</td>\n",
       "      <td>137</td>\n",
       "    </tr>\n",
       "  </tbody>\n",
       "</table>\n",
       "</div>"
      ],
      "text/plain": [
       "   Unnamed: 0         Date                                             Author  \\\n",
       "0           0  FEB 01 2015                                                  -   \n",
       "1           1  FEB 01 2015     nnapurna Singh, NEW DELHI, Feb 01, 2015, DHNS,   \n",
       "2           2  FEB 01 2015            UMBAI, Feb 01, 2015, DHNS and Agencies,   \n",
       "3           3  FEB 01 2015                      THENS, Feb 01, 2015, Reuters,   \n",
       "4           4  FEB 01 2015  rithik Kiran Bagade, Bengaluru, Feb 01, 2015, ...   \n",
       "\n",
       "           Vertical                                           Headline  \\\n",
       "0  50-50-WC-Cricket                 Tigers face tough test of survival   \n",
       "1                 -  Gems and jewellery sector poised for sops from...   \n",
       "2                 -                      Sun-Ranbaxy deal gets FTC nod   \n",
       "3                 -  Greek government says will not cooperate with ...   \n",
       "4                 -   Karnataka illustrates a place in animation glory   \n",
       "\n",
       "                                         Description  Description_len  \\\n",
       "0  bangladesh need dramatic turn fortunes ensure ...              200   \n",
       "1  high employment generation export potential in...              227   \n",
       "2  sun pharmaceuticals approval federal trade com...              177   \n",
       "3  greece’s new leftist government opened talks b...              190   \n",
       "4  abai nonprofit body promoting animation sector...              174   \n",
       "\n",
       "   Description_len_clean  \n",
       "0                    137  \n",
       "1                    173  \n",
       "2                    129  \n",
       "3                    152  \n",
       "4                    137  "
      ]
     },
     "execution_count": 28,
     "metadata": {},
     "output_type": "execute_result"
    }
   ],
   "source": [
    "ds['Description_len_clean'] = ds.Description.str.len()\n",
    "ds.head()"
   ]
  },
  {
   "cell_type": "code",
   "execution_count": 29,
   "metadata": {},
   "outputs": [
    {
     "name": "stdout",
     "output_type": "stream",
     "text": [
      "Description of Data 1:\n",
      " \n",
      "Description of Data 2:\n",
      " decision nda government appealing favourable verdict received british telecom company vodafone bombay high court transfer pricing dispute tax demands rs crore subsequent circular central board direct taxes cbdt directing field officers follow logic judgement similar disputes reassure foreign investors government’s principled stand henceforth would heed decisions courts appellate tribunals disputes definite signal wants country known predictable tax regime estimated cbdt directive could help resolve two dozen disputes similar tax demands would also mean fresh demand would raised officers based reasoning followed vodafone case\n"
     ]
    }
   ],
   "source": [
    "for index,text in enumerate(ds['Description'][35:37]):\n",
    "  print('Description of Data %d:\\n'%(index+1),text)"
   ]
  },
  {
   "cell_type": "code",
   "execution_count": 30,
   "metadata": {},
   "outputs": [
    {
     "data": {
      "text/plain": [
       "<matplotlib.legend.Legend at 0x1878994d610>"
      ]
     },
     "execution_count": 30,
     "metadata": {},
     "output_type": "execute_result"
    },
    {
     "data": {
      "image/png": "[encoded data removed]",
      "text/plain": [
       "<Figure size 1080x576 with 2 Axes>"
      ]
     },
     "metadata": {
      "needs_background": "light"
     },
     "output_type": "display_data"
    }
   ],
   "source": [
    "# Message Distribution before cleaning\n",
    "\n",
    "f, ax = plt.subplots(1,2, figsize = (15, 8))\n",
    "\n",
    "sns.distplot(ds['Description_len'], bins=20, ax=ax[0], label = 'Description length before cleaning')\n",
    "ax[0].set_label ('Description length before cleaning')\n",
    "ax[0].legend()\n",
    "\n",
    "sns.distplot(ds['Description_len_clean'], bins=20, ax=ax[1], label = 'Description length after cleaning')\n",
    "ax[1].set_label ('Description length after cleaning')\n",
    "ax[1].legend()"
   ]
  },
  {
   "cell_type": "code",
   "execution_count": 31,
   "metadata": {},
   "outputs": [],
   "source": [
    "# Getting sense of loud words in spam\n",
    "from wordcloud import WordCloud"
   ]
  },
  {
   "cell_type": "code",
   "execution_count": 32,
   "metadata": {},
   "outputs": [
    {
     "data": {
      "image/png": "[encoded data removed]",
      "text/plain": [
       "<Figure size 432x432 with 1 Axes>"
      ]
     },
     "metadata": {},
     "output_type": "display_data"
    }
   ],
   "source": [
    "description = ds['Description'] \n",
    "desc_cloud = WordCloud(width=700, height=500, background_color='white', max_words=20).generate(' '.join(description))\n",
    "\n",
    "plt.figure(figsize = (6, 6), facecolor='r')\n",
    "plt.imshow(desc_cloud)\n",
    "plt.axis('off')\n",
    "plt.tight_layout(pad=0)\n",
    "plt.show()"
   ]
  },
  {
   "cell_type": "code",
   "execution_count": 33,
   "metadata": {},
   "outputs": [
    {
     "data": {
      "text/html": [
       "<div>\n",
       "<style scoped>\n",
       "    .dataframe tbody tr th:only-of-type {\n",
       "        vertical-align: middle;\n",
       "    }\n",
       "\n",
       "    .dataframe tbody tr th {\n",
       "        vertical-align: top;\n",
       "    }\n",
       "\n",
       "    .dataframe thead th {\n",
       "        text-align: right;\n",
       "    }\n",
       "</style>\n",
       "<table border=\"1\" class=\"dataframe\">\n",
       "  <thead>\n",
       "    <tr style=\"text-align: right;\">\n",
       "      <th></th>\n",
       "      <th>Unnamed: 0</th>\n",
       "      <th>Date</th>\n",
       "      <th>Author</th>\n",
       "      <th>Vertical</th>\n",
       "      <th>Headline</th>\n",
       "      <th>Description</th>\n",
       "      <th>Description_len</th>\n",
       "      <th>Description_len_clean</th>\n",
       "    </tr>\n",
       "  </thead>\n",
       "  <tbody>\n",
       "    <tr>\n",
       "      <th>0</th>\n",
       "      <td>0</td>\n",
       "      <td>FEB 01 2015</td>\n",
       "      <td>-</td>\n",
       "      <td>50-50-WC-Cricket</td>\n",
       "      <td>Tigers face tough test of survival</td>\n",
       "      <td>bangladesh need dramatic turn fortunes ensure ...</td>\n",
       "      <td>200</td>\n",
       "      <td>137</td>\n",
       "    </tr>\n",
       "    <tr>\n",
       "      <th>1</th>\n",
       "      <td>1</td>\n",
       "      <td>FEB 01 2015</td>\n",
       "      <td>nnapurna Singh, NEW DELHI, Feb 01, 2015, DHNS,</td>\n",
       "      <td>-</td>\n",
       "      <td>Gems and jewellery sector poised for sops from...</td>\n",
       "      <td>high employment generation export potential in...</td>\n",
       "      <td>227</td>\n",
       "      <td>173</td>\n",
       "    </tr>\n",
       "    <tr>\n",
       "      <th>2</th>\n",
       "      <td>2</td>\n",
       "      <td>FEB 01 2015</td>\n",
       "      <td>UMBAI, Feb 01, 2015, DHNS and Agencies,</td>\n",
       "      <td>-</td>\n",
       "      <td>Sun-Ranbaxy deal gets FTC nod</td>\n",
       "      <td>sun pharmaceuticals approval federal trade com...</td>\n",
       "      <td>177</td>\n",
       "      <td>129</td>\n",
       "    </tr>\n",
       "    <tr>\n",
       "      <th>3</th>\n",
       "      <td>3</td>\n",
       "      <td>FEB 01 2015</td>\n",
       "      <td>THENS, Feb 01, 2015, Reuters,</td>\n",
       "      <td>-</td>\n",
       "      <td>Greek government says will not cooperate with ...</td>\n",
       "      <td>greece’s new leftist government opened talks b...</td>\n",
       "      <td>190</td>\n",
       "      <td>152</td>\n",
       "    </tr>\n",
       "    <tr>\n",
       "      <th>4</th>\n",
       "      <td>4</td>\n",
       "      <td>FEB 01 2015</td>\n",
       "      <td>rithik Kiran Bagade, Bengaluru, Feb 01, 2015, ...</td>\n",
       "      <td>-</td>\n",
       "      <td>Karnataka illustrates a place in animation glory</td>\n",
       "      <td>abai nonprofit body promoting animation sector...</td>\n",
       "      <td>174</td>\n",
       "      <td>137</td>\n",
       "    </tr>\n",
       "  </tbody>\n",
       "</table>\n",
       "</div>"
      ],
      "text/plain": [
       "   Unnamed: 0         Date                                             Author  \\\n",
       "0           0  FEB 01 2015                                                  -   \n",
       "1           1  FEB 01 2015     nnapurna Singh, NEW DELHI, Feb 01, 2015, DHNS,   \n",
       "2           2  FEB 01 2015            UMBAI, Feb 01, 2015, DHNS and Agencies,   \n",
       "3           3  FEB 01 2015                      THENS, Feb 01, 2015, Reuters,   \n",
       "4           4  FEB 01 2015  rithik Kiran Bagade, Bengaluru, Feb 01, 2015, ...   \n",
       "\n",
       "           Vertical                                           Headline  \\\n",
       "0  50-50-WC-Cricket                 Tigers face tough test of survival   \n",
       "1                 -  Gems and jewellery sector poised for sops from...   \n",
       "2                 -                      Sun-Ranbaxy deal gets FTC nod   \n",
       "3                 -  Greek government says will not cooperate with ...   \n",
       "4                 -   Karnataka illustrates a place in animation glory   \n",
       "\n",
       "                                         Description  Description_len  \\\n",
       "0  bangladesh need dramatic turn fortunes ensure ...              200   \n",
       "1  high employment generation export potential in...              227   \n",
       "2  sun pharmaceuticals approval federal trade com...              177   \n",
       "3  greece’s new leftist government opened talks b...              190   \n",
       "4  abai nonprofit body promoting animation sector...              174   \n",
       "\n",
       "   Description_len_clean  \n",
       "0                    137  \n",
       "1                    173  \n",
       "2                    129  \n",
       "3                    152  \n",
       "4                    137  "
      ]
     },
     "execution_count": 33,
     "metadata": {},
     "output_type": "execute_result"
    }
   ],
   "source": [
    "ds.head()"
   ]
  },
  {
   "cell_type": "code",
   "execution_count": 34,
   "metadata": {},
   "outputs": [],
   "source": [
    "ds.drop(columns=['Description_len', 'Description_len_clean'], inplace=True)"
   ]
  },
  {
   "cell_type": "code",
   "execution_count": 35,
   "metadata": {},
   "outputs": [
    {
     "data": {
      "text/html": [
       "<div>\n",
       "<style scoped>\n",
       "    .dataframe tbody tr th:only-of-type {\n",
       "        vertical-align: middle;\n",
       "    }\n",
       "\n",
       "    .dataframe tbody tr th {\n",
       "        vertical-align: top;\n",
       "    }\n",
       "\n",
       "    .dataframe thead th {\n",
       "        text-align: right;\n",
       "    }\n",
       "</style>\n",
       "<table border=\"1\" class=\"dataframe\">\n",
       "  <thead>\n",
       "    <tr style=\"text-align: right;\">\n",
       "      <th></th>\n",
       "      <th>Unnamed: 0</th>\n",
       "      <th>Date</th>\n",
       "      <th>Author</th>\n",
       "      <th>Vertical</th>\n",
       "      <th>Headline</th>\n",
       "      <th>Description</th>\n",
       "    </tr>\n",
       "  </thead>\n",
       "  <tbody>\n",
       "    <tr>\n",
       "      <th>0</th>\n",
       "      <td>0</td>\n",
       "      <td>FEB 01 2015</td>\n",
       "      <td>-</td>\n",
       "      <td>50-50-WC-Cricket</td>\n",
       "      <td>Tigers face tough test of survival</td>\n",
       "      <td>bangladesh need dramatic turn fortunes ensure ...</td>\n",
       "    </tr>\n",
       "    <tr>\n",
       "      <th>1</th>\n",
       "      <td>1</td>\n",
       "      <td>FEB 01 2015</td>\n",
       "      <td>nnapurna Singh, NEW DELHI, Feb 01, 2015, DHNS,</td>\n",
       "      <td>-</td>\n",
       "      <td>Gems and jewellery sector poised for sops from...</td>\n",
       "      <td>high employment generation export potential in...</td>\n",
       "    </tr>\n",
       "    <tr>\n",
       "      <th>2</th>\n",
       "      <td>2</td>\n",
       "      <td>FEB 01 2015</td>\n",
       "      <td>UMBAI, Feb 01, 2015, DHNS and Agencies,</td>\n",
       "      <td>-</td>\n",
       "      <td>Sun-Ranbaxy deal gets FTC nod</td>\n",
       "      <td>sun pharmaceuticals approval federal trade com...</td>\n",
       "    </tr>\n",
       "    <tr>\n",
       "      <th>3</th>\n",
       "      <td>3</td>\n",
       "      <td>FEB 01 2015</td>\n",
       "      <td>THENS, Feb 01, 2015, Reuters,</td>\n",
       "      <td>-</td>\n",
       "      <td>Greek government says will not cooperate with ...</td>\n",
       "      <td>greece’s new leftist government opened talks b...</td>\n",
       "    </tr>\n",
       "    <tr>\n",
       "      <th>4</th>\n",
       "      <td>4</td>\n",
       "      <td>FEB 01 2015</td>\n",
       "      <td>rithik Kiran Bagade, Bengaluru, Feb 01, 2015, ...</td>\n",
       "      <td>-</td>\n",
       "      <td>Karnataka illustrates a place in animation glory</td>\n",
       "      <td>abai nonprofit body promoting animation sector...</td>\n",
       "    </tr>\n",
       "  </tbody>\n",
       "</table>\n",
       "</div>"
      ],
      "text/plain": [
       "   Unnamed: 0         Date                                             Author  \\\n",
       "0           0  FEB 01 2015                                                  -   \n",
       "1           1  FEB 01 2015     nnapurna Singh, NEW DELHI, Feb 01, 2015, DHNS,   \n",
       "2           2  FEB 01 2015            UMBAI, Feb 01, 2015, DHNS and Agencies,   \n",
       "3           3  FEB 01 2015                      THENS, Feb 01, 2015, Reuters,   \n",
       "4           4  FEB 01 2015  rithik Kiran Bagade, Bengaluru, Feb 01, 2015, ...   \n",
       "\n",
       "           Vertical                                           Headline  \\\n",
       "0  50-50-WC-Cricket                 Tigers face tough test of survival   \n",
       "1                 -  Gems and jewellery sector poised for sops from...   \n",
       "2                 -                      Sun-Ranbaxy deal gets FTC nod   \n",
       "3                 -  Greek government says will not cooperate with ...   \n",
       "4                 -   Karnataka illustrates a place in animation glory   \n",
       "\n",
       "                                         Description  \n",
       "0  bangladesh need dramatic turn fortunes ensure ...  \n",
       "1  high employment generation export potential in...  \n",
       "2  sun pharmaceuticals approval federal trade com...  \n",
       "3  greece’s new leftist government opened talks b...  \n",
       "4  abai nonprofit body promoting animation sector...  "
      ]
     },
     "execution_count": 35,
     "metadata": {},
     "output_type": "execute_result"
    }
   ],
   "source": [
    "ds.head()"
   ]
  },
  {
   "cell_type": "code",
   "execution_count": 36,
   "metadata": {},
   "outputs": [
    {
     "data": {
      "text/plain": [
       "(4678, 6)"
      ]
     },
     "execution_count": 36,
     "metadata": {},
     "output_type": "execute_result"
    }
   ],
   "source": [
    "ds.shape"
   ]
  },
  {
   "cell_type": "code",
   "execution_count": 37,
   "metadata": {},
   "outputs": [],
   "source": [
    "ds.to_csv('news_phase_2.csv')"
   ]
  },
  {
   "cell_type": "code",
   "execution_count": null,
   "metadata": {},
   "outputs": [],
   "source": []
  },
  {
   "cell_type": "code",
   "execution_count": null,
   "metadata": {},
   "outputs": [],
   "source": []
  },
  {
   "cell_type": "code",
   "execution_count": null,
   "metadata": {},
   "outputs": [],
   "source": []
  }
 ],
 "metadata": {
  "kernelspec": {
   "display_name": "Python 3",
   "language": "python",
   "name": "python3"
  },
  "language_info": {
   "codemirror_mode": {
    "name": "ipython",
    "version": 3
   },
   "file_extension": ".py",
   "mimetype": "text/x-python",
   "name": "python",
   "nbconvert_exporter": "python",
   "pygments_lexer": "ipython3",
   "version": "3.8.5"
  }
 },
 "nbformat": 4,
 "nbformat_minor": 4
}
